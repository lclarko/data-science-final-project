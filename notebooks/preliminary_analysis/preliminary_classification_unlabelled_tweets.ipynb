{
 "cells": [
  {
   "cell_type": "markdown",
   "metadata": {},
   "source": [
    "# Preliminary Classification of Unlabelled Tweets\n",
    "\n",
    "* Complete and improved tweet tweet classifcation can be found in /notebooks/twitter_data_exploration_400k_tweets.ipynb\n",
    "* This notebook classified the smaller 164K tweet dataset while the projects feasability was being assessed.\n",
    " * Another notebook will be created to classify the complete dataset\n",
    "* Below, a Logistic Regression classifier has been trainied on SemEval2017 Task A Golden Dataset + additional positive :)  and negative  :(  tweets, collected from twitter. This will serve as a baseline model.\n",
    "* Finalized versions of the functions below now exist in functions.py.\n",
    "* [VADER](https://github.com/cjhutto/vaderSentiment) will also be utilized for classification and compared to the baseline models."
   ]
  },
  {
   "cell_type": "code",
   "execution_count": 37,
   "metadata": {},
   "outputs": [],
   "source": [
    "import re\n",
    "import nltk\n",
    "import string\n",
    "import pickle\n",
    "import pandas as pd\n",
    "import numpy as np\n",
    "from nltk.tokenize import word_tokenize\n",
    "stop_words = nltk.corpus.stopwords.words('english')\n",
    "from sklearn.feature_extraction.text import TfidfVectorizer\n",
    "pd.set_option('display.max_colwidth', None)"
   ]
  },
  {
   "cell_type": "code",
   "execution_count": 38,
   "metadata": {},
   "outputs": [],
   "source": [
    "# 164k Tweets - Prelimiinary Dataset for feasability paper - Hydrated with Twarc\n",
    "#df = pd.read_json('/Volumes/My Passport/Tweets/bc_tweets.jsonl', lines=True)\n",
    "\n",
    "# Full Tweet Dataset - Aug 14th to Present\n",
    "COL_NAMES = ['id_str','created_at','full_text']\n",
    "df = pd.read_csv('/Users/lclark/Documents/GitHub/bcpolidata/bcpoli.csv', names=COL_NAMES)"
   ]
  },
  {
   "cell_type": "code",
   "execution_count": 39,
   "metadata": {},
   "outputs": [
    {
     "name": "stdout",
     "output_type": "stream",
     "text": [
      "<class 'pandas.core.frame.DataFrame'>\n",
      "Int64Index: 382918 entries, 1296960190068056064 to 1327038530586079238\n",
      "Data columns (total 2 columns):\n",
      " #   Column      Non-Null Count   Dtype \n",
      "---  ------      --------------   ----- \n",
      " 0   created_at  382918 non-null  object\n",
      " 1   text        382918 non-null  object\n",
      "dtypes: object(2)\n",
      "memory usage: 8.8+ MB\n"
     ]
    }
   ],
   "source": [
    "raw = df.copy()\n",
    "raw = raw.rename(columns={'id_str': 'ids','full_text':'text'})\n",
    "raw.set_index('ids', inplace=True)\n",
    "raw = raw[['created_at','text']]\n",
    "raw.info()"
   ]
  },
  {
   "cell_type": "markdown",
   "metadata": {},
   "source": [
    "## Preprocess Tweets"
   ]
  },
  {
   "cell_type": "code",
   "execution_count": 43,
   "metadata": {},
   "outputs": [],
   "source": [
    "def emoji_stringer(text):\n",
    "    # Positive Emoji - Smile, Laugh, Wink,Love\n",
    "    text = ' '.join(re.sub('(:\\s?\\)|:-\\)|;\\)|\\(\\s?:|\\(-:|:\\’\\))','emopos',text).split())\n",
    "    text = ' '.join(re.sub('(:\\s?D|:-D|x-?D|X-?D)','emopos',text).split()) \n",
    "    text = ' '.join(re.sub('(<3|:\\*)','emopos',text).split()) \n",
    "    # Negative Emoji - Sad, Cry\n",
    "    text = ' '.join(re.sub('(:\\s?\\(|:-\\(|:\\||\\)\\s?:|\\)-:)','emoneg',text).split())\n",
    "    text = ' '.join(re.sub('(:,\\(|:\\’\\(|:\"\\()','emoneg',text).split())\n",
    "    return text\n",
    "\n",
    "raw['text']=raw['text'].apply(str)\n",
    "raw['emo_features'] = raw['text'].apply(lambda x: emoji_stringer(x))"
   ]
  },
  {
   "cell_type": "code",
   "execution_count": 51,
   "metadata": {},
   "outputs": [],
   "source": [
    "# Preprocess Tweets - lowercase, URLS, tokens and punctuation\n",
    "\n",
    "def preprocess(text):\n",
    "    text = text.lower()\n",
    "    text = ' '.join(re.sub(\"((www\\.[\\S]+)|(https?://[\\S]+))\",\"\",text).split())\n",
    "    text = ' '.join(re.sub(\"(@[A-Za-z0-9]+)|([^0-9A-Za-z \\t])|(\\w+:\\/\\/\\S+)\",\"\",text).split())\n",
    "    text = ' '.join(re.sub(\"^\\n\",\"\",text).split()) # Handles Tweepy Case - Not required for processed twarc jsonl\n",
    "    text = ' '.join(re.sub(\"^brt\",\"\",text).split()) # Handles Tweepy Case - Not required for processed twarc jsonl\n",
    "    text = ' '.join(re.sub(\"^rt\",\"\",text).split()) \n",
    "    punc = ''.join([char for char in text if char not in string.punctuation])\n",
    "    tokens = word_tokenize(punc)\n",
    "    stops = [word for word in tokens if word not in stop_words]\n",
    "    strings = (' ').join(stops)\n",
    "    strings = ' '.join(re.sub(\"xe2x80xa6\",\"\",text).split()) # Handles Tweepy encoding Case -  Not required for processed twarc jsonl\n",
    "    return strings\n",
    "\n",
    "raw['full_text_clean'] = raw['emo_features'].apply(lambda x: preprocess(x))"
   ]
  },
  {
   "cell_type": "code",
   "execution_count": 65,
   "metadata": {},
   "outputs": [
    {
     "data": {
      "text/html": [
       "<div>\n",
       "<style scoped>\n",
       "    .dataframe tbody tr th:only-of-type {\n",
       "        vertical-align: middle;\n",
       "    }\n",
       "\n",
       "    .dataframe tbody tr th {\n",
       "        vertical-align: top;\n",
       "    }\n",
       "\n",
       "    .dataframe thead th {\n",
       "        text-align: right;\n",
       "    }\n",
       "</style>\n",
       "<table border=\"1\" class=\"dataframe\">\n",
       "  <thead>\n",
       "    <tr style=\"text-align: right;\">\n",
       "      <th></th>\n",
       "      <th>created_at</th>\n",
       "      <th>text</th>\n",
       "      <th>emo_features</th>\n",
       "      <th>full_text_clean</th>\n",
       "      <th>labels</th>\n",
       "      <th>nb_labels</th>\n",
       "      <th>lr_g_labels</th>\n",
       "    </tr>\n",
       "    <tr>\n",
       "      <th>ids</th>\n",
       "      <th></th>\n",
       "      <th></th>\n",
       "      <th></th>\n",
       "      <th></th>\n",
       "      <th></th>\n",
       "      <th></th>\n",
       "      <th></th>\n",
       "    </tr>\n",
       "  </thead>\n",
       "  <tbody>\n",
       "    <tr>\n",
       "      <th>1296960190068056064</th>\n",
       "      <td>2020-08-21 23:59:40</td>\n",
       "      <td>b'RT @LizaYuzda: BC #covid19 update Aug 21\\n2 new deaths - 202 \\n90 new\\nActive 824 (798)\\nVCH 1579 (1488)\\nFH 2572 (2493)\\nIsland 160 (158)\\nInteri\\xe2\\x80\\xa6'</td>\n",
       "      <td>b'RT @LizaYuzda: BC #covid19 update Aug 21\\n2 new deaths - 202 \\n90 new\\nActive 824 (798)\\nVCH 1579 (1488)\\nFH 2572 (2493)\\nIsland 160 (158)\\nInteri\\xe2\\x80\\xa6'</td>\n",
       "      <td>bc covid19 update aug 21n2 new deaths 202 n90 newnactive 824 798nvch 1579 1488nfh 2572 2493nisland 160 158ninteri</td>\n",
       "      <td>4</td>\n",
       "      <td>2</td>\n",
       "      <td>4</td>\n",
       "    </tr>\n",
       "    <tr>\n",
       "      <th>1296960183386554368</th>\n",
       "      <td>2020-08-21 23:59:38</td>\n",
       "      <td>b\"RT @realreporter: #bcpoli As for child infections the lie has been children don't get readily infected. \\n2 days ago 0-10 infections were 11\\xe2\\x80\\xa6\"</td>\n",
       "      <td>b\"RT @realreporter: #bcpoli As for child infections the lie has been children don't get readily infected. \\n2 days ago 0-10 infections were 11\\xe2\\x80\\xa6\"</td>\n",
       "      <td>bcpoli as for child infections the lie has been children dont get readily infected n2 days ago 010 infections were 11</td>\n",
       "      <td>2</td>\n",
       "      <td>4</td>\n",
       "      <td>4</td>\n",
       "    </tr>\n",
       "    <tr>\n",
       "      <th>1296960130785804288</th>\n",
       "      <td>2020-08-21 23:59:26</td>\n",
       "      <td>b'RT @photowarrior: VicPD correcting their previous error, but \"correct\" stats don\\'t change the fact that policing is no solution to poverty,\\xe2\\x80\\xa6'</td>\n",
       "      <td>b'RT @photowarrior: VicPD correcting their previous error, but \"correct\" stats don\\'t change the fact that policing is no solution to poverty,\\xe2\\x80\\xa6'</td>\n",
       "      <td>vicpd correcting their previous error but correct stats dont change the fact that policing is no solution to poverty</td>\n",
       "      <td>4</td>\n",
       "      <td>4</td>\n",
       "      <td>0</td>\n",
       "    </tr>\n",
       "    <tr>\n",
       "      <th>1296960084421914624</th>\n",
       "      <td>2020-08-21 23:59:15</td>\n",
       "      <td>b'RT @bychrischeung: Did you know the Himalayan blackberry is an invasive species?\\n\\nMy big berry history stretches thousands of years and inc\\xe2\\x80\\xa6'</td>\n",
       "      <td>b'RT @bychrischeungemoposid you know the Himalayan blackberry is an invasive species?\\n\\nMy big berry history stretches thousands of years and inc\\xe2\\x80\\xa6'</td>\n",
       "      <td>you know the himalayan blackberry is an invasive speciesnnmy big berry history stretches thousands of years and inc</td>\n",
       "      <td>4</td>\n",
       "      <td>4</td>\n",
       "      <td>2</td>\n",
       "    </tr>\n",
       "    <tr>\n",
       "      <th>1296959921305448448</th>\n",
       "      <td>2020-08-21 23:58:36</td>\n",
       "      <td>b'RT @RobPaynterSD61: So apparently even thoughtful countries that have been diligent in addressing COVID are being hit hard after reopening\\xe2\\x80\\xa6'</td>\n",
       "      <td>b'RT @RobPaynterSD61: So apparently even thoughtful countries that have been diligent in addressing COVID are being hit hard after reopening\\xe2\\x80\\xa6'</td>\n",
       "      <td>so apparently even thoughtful countries that have been diligent in addressing covid are being hit hard after reopening</td>\n",
       "      <td>2</td>\n",
       "      <td>2</td>\n",
       "      <td>4</td>\n",
       "    </tr>\n",
       "  </tbody>\n",
       "</table>\n",
       "</div>"
      ],
      "text/plain": [
       "                              created_at  \\\n",
       "ids                                        \n",
       "1296960190068056064  2020-08-21 23:59:40   \n",
       "1296960183386554368  2020-08-21 23:59:38   \n",
       "1296960130785804288  2020-08-21 23:59:26   \n",
       "1296960084421914624  2020-08-21 23:59:15   \n",
       "1296959921305448448  2020-08-21 23:58:36   \n",
       "\n",
       "                                                                                                                                                                                  text  \\\n",
       "ids                                                                                                                                                                                      \n",
       "1296960190068056064  b'RT @LizaYuzda: BC #covid19 update Aug 21\\n2 new deaths - 202 \\n90 new\\nActive 824 (798)\\nVCH 1579 (1488)\\nFH 2572 (2493)\\nIsland 160 (158)\\nInteri\\xe2\\x80\\xa6'   \n",
       "1296960183386554368        b\"RT @realreporter: #bcpoli As for child infections the lie has been children don't get readily infected. \\n2 days ago 0-10 infections were 11\\xe2\\x80\\xa6\"   \n",
       "1296960130785804288        b'RT @photowarrior: VicPD correcting their previous error, but \"correct\" stats don\\'t change the fact that policing is no solution to poverty,\\xe2\\x80\\xa6'   \n",
       "1296960084421914624       b'RT @bychrischeung: Did you know the Himalayan blackberry is an invasive species?\\n\\nMy big berry history stretches thousands of years and inc\\xe2\\x80\\xa6'   \n",
       "1296959921305448448          b'RT @RobPaynterSD61: So apparently even thoughtful countries that have been diligent in addressing COVID are being hit hard after reopening\\xe2\\x80\\xa6'   \n",
       "\n",
       "                                                                                                                                                                          emo_features  \\\n",
       "ids                                                                                                                                                                                      \n",
       "1296960190068056064  b'RT @LizaYuzda: BC #covid19 update Aug 21\\n2 new deaths - 202 \\n90 new\\nActive 824 (798)\\nVCH 1579 (1488)\\nFH 2572 (2493)\\nIsland 160 (158)\\nInteri\\xe2\\x80\\xa6'   \n",
       "1296960183386554368        b\"RT @realreporter: #bcpoli As for child infections the lie has been children don't get readily infected. \\n2 days ago 0-10 infections were 11\\xe2\\x80\\xa6\"   \n",
       "1296960130785804288        b'RT @photowarrior: VicPD correcting their previous error, but \"correct\" stats don\\'t change the fact that policing is no solution to poverty,\\xe2\\x80\\xa6'   \n",
       "1296960084421914624    b'RT @bychrischeungemoposid you know the Himalayan blackberry is an invasive species?\\n\\nMy big berry history stretches thousands of years and inc\\xe2\\x80\\xa6'   \n",
       "1296959921305448448          b'RT @RobPaynterSD61: So apparently even thoughtful countries that have been diligent in addressing COVID are being hit hard after reopening\\xe2\\x80\\xa6'   \n",
       "\n",
       "                                                                                                                            full_text_clean  \\\n",
       "ids                                                                                                                                           \n",
       "1296960190068056064       bc covid19 update aug 21n2 new deaths 202 n90 newnactive 824 798nvch 1579 1488nfh 2572 2493nisland 160 158ninteri   \n",
       "1296960183386554368   bcpoli as for child infections the lie has been children dont get readily infected n2 days ago 010 infections were 11   \n",
       "1296960130785804288    vicpd correcting their previous error but correct stats dont change the fact that policing is no solution to poverty   \n",
       "1296960084421914624     you know the himalayan blackberry is an invasive speciesnnmy big berry history stretches thousands of years and inc   \n",
       "1296959921305448448  so apparently even thoughtful countries that have been diligent in addressing covid are being hit hard after reopening   \n",
       "\n",
       "                     labels  nb_labels  lr_g_labels  \n",
       "ids                                                  \n",
       "1296960190068056064       4          2            4  \n",
       "1296960183386554368       2          4            4  \n",
       "1296960130785804288       4          4            0  \n",
       "1296960084421914624       4          4            2  \n",
       "1296959921305448448       2          2            4  "
      ]
     },
     "execution_count": 65,
     "metadata": {},
     "output_type": "execute_result"
    }
   ],
   "source": [
    "raw.head()"
   ]
  },
  {
   "cell_type": "code",
   "execution_count": 53,
   "metadata": {},
   "outputs": [],
   "source": [
    "vectorizer = TfidfVectorizer(use_idf=True, lowercase=True, ngram_range=(1,2), max_features=40000)\n",
    "\n",
    "X = vectorizer.fit_transform(raw.full_text_clean)"
   ]
  },
  {
   "cell_type": "markdown",
   "metadata": {},
   "source": [
    "## Import Models"
   ]
  },
  {
   "cell_type": "code",
   "execution_count": 54,
   "metadata": {},
   "outputs": [],
   "source": [
    "lr_model = pickle.load(open('tweet_40kfeat_LogReg_CLF_3C_86p_model.sav', 'rb'))\n",
    "lr_grid_model = pickle.load(open('tweet_40kfeat_LR_GridCV_3C_89p_model.sav','rb'))\n",
    "nb_model = pickle.load(open('tweet_40kfeat_NB_CLF_3C_83p_model.sav', 'rb'))"
   ]
  },
  {
   "cell_type": "code",
   "execution_count": 55,
   "metadata": {},
   "outputs": [],
   "source": [
    "raw['labels'] = lr_model.predict(X)"
   ]
  },
  {
   "cell_type": "code",
   "execution_count": 56,
   "metadata": {},
   "outputs": [],
   "source": [
    "raw['nb_labels'] =  nb_model.predict(X)"
   ]
  },
  {
   "cell_type": "code",
   "execution_count": 57,
   "metadata": {},
   "outputs": [],
   "source": [
    "raw['lr_g_labels'] = lr_grid_model.predict(X)"
   ]
  },
  {
   "cell_type": "code",
   "execution_count": 40,
   "metadata": {},
   "outputs": [],
   "source": [
    "#logreg_pred = lr_model.predict(X)"
   ]
  },
  {
   "cell_type": "code",
   "execution_count": 58,
   "metadata": {},
   "outputs": [
    {
     "data": {
      "text/plain": [
       "2    203032\n",
       "4    146784\n",
       "0     33102\n",
       "Name: labels, dtype: int64"
      ]
     },
     "execution_count": 58,
     "metadata": {},
     "output_type": "execute_result"
    }
   ],
   "source": [
    "raw.labels.value_counts()"
   ]
  },
  {
   "cell_type": "code",
   "execution_count": 59,
   "metadata": {},
   "outputs": [
    {
     "data": {
      "text/plain": [
       "2    197860\n",
       "4    138957\n",
       "0     46101\n",
       "Name: nb_labels, dtype: int64"
      ]
     },
     "execution_count": 59,
     "metadata": {},
     "output_type": "execute_result"
    }
   ],
   "source": [
    "raw.nb_labels.value_counts()"
   ]
  },
  {
   "cell_type": "code",
   "execution_count": 60,
   "metadata": {},
   "outputs": [
    {
     "data": {
      "text/plain": [
       "2    202336\n",
       "0    110271\n",
       "4     70311\n",
       "Name: lr_g_labels, dtype: int64"
      ]
     },
     "execution_count": 60,
     "metadata": {},
     "output_type": "execute_result"
    }
   ],
   "source": [
    "raw.lr_g_labels.value_counts()"
   ]
  },
  {
   "cell_type": "code",
   "execution_count": null,
   "metadata": {},
   "outputs": [],
   "source": [
    "# Below is on 164k tweets"
   ]
  },
  {
   "cell_type": "code",
   "execution_count": 41,
   "metadata": {},
   "outputs": [
    {
     "data": {
      "text/plain": [
       "2    80349\n",
       "4    72920\n",
       "0    11279\n",
       "Name: labels, dtype: int64"
      ]
     },
     "execution_count": 41,
     "metadata": {},
     "output_type": "execute_result"
    }
   ],
   "source": [
    "raw.labels.value_counts()"
   ]
  },
  {
   "cell_type": "code",
   "execution_count": 42,
   "metadata": {},
   "outputs": [
    {
     "data": {
      "text/plain": [
       "4    75986\n",
       "2    64915\n",
       "0    23647\n",
       "Name: nb_labels, dtype: int64"
      ]
     },
     "execution_count": 42,
     "metadata": {},
     "output_type": "execute_result"
    }
   ],
   "source": [
    "raw.nb_labels.value_counts()"
   ]
  },
  {
   "cell_type": "code",
   "execution_count": 87,
   "metadata": {},
   "outputs": [
    {
     "data": {
      "text/plain": [
       "2    70092\n",
       "0    53192\n",
       "4    41264\n",
       "Name: lr_g_labels, dtype: int64"
      ]
     },
     "execution_count": 87,
     "metadata": {},
     "output_type": "execute_result"
    }
   ],
   "source": [
    "raw.lr_g_labels.value_counts()"
   ]
  },
  {
   "cell_type": "code",
   "execution_count": 61,
   "metadata": {},
   "outputs": [],
   "source": [
    "export = raw[['created_at','full_text_clean','labels','nb_labels','lr_g_labels']]#.reset_index()\n",
    "#export.resample('D', on='created_at').mean()\n",
    "#export.ids = export.ids.astype('str')\n",
    "#export.resample('D', on='created_at').mean()#.groupby(['ids']).mean()\n",
    "export = export.reset_index()\n",
    "export.to_pickle('380_tweepy_classified_tweets.pkl')"
   ]
  },
  {
   "cell_type": "code",
   "execution_count": null,
   "metadata": {},
   "outputs": [],
   "source": [
    "# Check mean values of labels with data is scaled up to full datset\n",
    "# As can be seen, the mean values are similar, demonstrating reasonable levels of consistency in the baseline models"
   ]
  },
  {
   "cell_type": "code",
   "execution_count": 62,
   "metadata": {},
   "outputs": [
    {
     "data": {
      "text/plain": [
       "2.593766811693365"
      ]
     },
     "execution_count": 62,
     "metadata": {},
     "output_type": "execute_result"
    }
   ],
   "source": [
    "raw.labels.mean()"
   ]
  },
  {
   "cell_type": "code",
   "execution_count": 63,
   "metadata": {},
   "outputs": [
    {
     "data": {
      "text/plain": [
       "2.484991564773659"
      ]
     },
     "execution_count": 63,
     "metadata": {},
     "output_type": "execute_result"
    }
   ],
   "source": [
    "raw.nb_labels.mean()"
   ]
  },
  {
   "cell_type": "code",
   "execution_count": 64,
   "metadata": {},
   "outputs": [
    {
     "data": {
      "text/plain": [
       "1.7912869073796478"
      ]
     },
     "execution_count": 64,
     "metadata": {},
     "output_type": "execute_result"
    }
   ],
   "source": [
    "raw.lr_g_labels.mean()"
   ]
  },
  {
   "cell_type": "code",
   "execution_count": null,
   "metadata": {},
   "outputs": [],
   "source": [
    "# Below is on 164k tweets"
   ]
  },
  {
   "cell_type": "code",
   "execution_count": 52,
   "metadata": {},
   "outputs": [
    {
     "data": {
      "text/plain": [
       "2.5476"
      ]
     },
     "execution_count": 52,
     "metadata": {},
     "output_type": "execute_result"
    }
   ],
   "source": [
    "raw.labels.mean()"
   ]
  },
  {
   "cell_type": "code",
   "execution_count": 53,
   "metadata": {},
   "outputs": [
    {
     "data": {
      "text/plain": [
       "2.6942"
      ]
     },
     "execution_count": 53,
     "metadata": {},
     "output_type": "execute_result"
    }
   ],
   "source": [
    "raw.nb_labels.mean()"
   ]
  },
  {
   "cell_type": "code",
   "execution_count": 66,
   "metadata": {},
   "outputs": [
    {
     "data": {
      "text/plain": [
       "1.7764"
      ]
     },
     "execution_count": 66,
     "metadata": {},
     "output_type": "execute_result"
    }
   ],
   "source": [
    "raw.lr_g_labels.mean()"
   ]
  }
 ],
 "metadata": {
  "kernelspec": {
   "display_name": "data_bootcamp",
   "language": "python",
   "name": "data_bootcamp"
  },
  "language_info": {
   "codemirror_mode": {
    "name": "ipython",
    "version": 3
   },
   "file_extension": ".py",
   "mimetype": "text/x-python",
   "name": "python",
   "nbconvert_exporter": "python",
   "pygments_lexer": "ipython3",
   "version": "3.7.8"
  }
 },
 "nbformat": 4,
 "nbformat_minor": 4
}
