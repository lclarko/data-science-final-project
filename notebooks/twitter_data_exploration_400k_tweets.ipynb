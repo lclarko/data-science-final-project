{
 "cells": [
  {
   "cell_type": "markdown",
   "metadata": {},
   "source": [
    "# Exploring the Complete Twitter Dataset\n",
    "\n",
    "* The purpose of this notebook is to explore the full dataset of 400k tweets relating to #bcpoli\n",
    "* Tweet created dates range from August 14, 2020 to November 19, 2020\n",
    "* Columns not required for analysis will be dropped here.\n",
    " * The remaining data will be exported for preprocessing in \"classify_unlabelled_tweets.ipynb\""
   ]
  },
  {
   "cell_type": "code",
   "execution_count": 1,
   "metadata": {},
   "outputs": [
    {
     "name": "stderr",
     "output_type": "stream",
     "text": [
      "[nltk_data] Downloading package vader_lexicon to\n",
      "[nltk_data]     /Users/lclark/nltk_data...\n",
      "[nltk_data]   Package vader_lexicon is already up-to-date!\n"
     ]
    }
   ],
   "source": [
    "import sys  \n",
    "sys.path.insert(0, '~/data_bootcamp/data-science-final-project/scripts/')\n",
    "\n",
    "import pandas as pd\n",
    "import numpy as np\n",
    "import pdpipe as pdp\n",
    "\n",
    "import re\n",
    "import string\n",
    "import nltk\n",
    "from nltk.tokenize import word_tokenize\n",
    "from nltk.corpus import stopwords\n",
    "stop_words = set(stopwords.words('english'))\n",
    "\n",
    "from IPython.display import JSON\n",
    "import matplotlib.pyplot as plt\n",
    "import pickle\n",
    "\n",
    "# Pandas Display Settings, if you wish\n",
    "\n",
    "#pd.set_option('display.max_colwidth', None)\n",
    "#pd.set_option(\"display.max_columns\", 30)\n",
    "\n",
    "# Import custom functions \n",
    "from functions import *"
   ]
  },
  {
   "cell_type": "markdown",
   "metadata": {},
   "source": [
    "## ~398K Tweets from August 14th, 2020 - November 19th, 2020"
   ]
  },
  {
   "cell_type": "code",
   "execution_count": 2,
   "metadata": {},
   "outputs": [
    {
     "name": "stdout",
     "output_type": "stream",
     "text": [
      "CPU times: user 2min 19s, sys: 3min 14s, total: 5min 34s\n",
      "Wall time: 7min 25s\n"
     ]
    }
   ],
   "source": [
    "%%time\n",
    "\n",
    "df = pd.read_json('/Volumes/My Passport/Tweets/bcpoli_400k_extended.jsonl', lines=True)"
   ]
  },
  {
   "cell_type": "code",
   "execution_count": 3,
   "metadata": {
    "collapsed": true,
    "jupyter": {
     "outputs_hidden": true
    }
   },
   "outputs": [
    {
     "name": "stdout",
     "output_type": "stream",
     "text": [
      "<class 'pandas.core.frame.DataFrame'>\n",
      "RangeIndex: 384221 entries, 0 to 384220\n",
      "Data columns (total 31 columns):\n",
      " #   Column                     Non-Null Count   Dtype              \n",
      "---  ------                     --------------   -----              \n",
      " 0   created_at                 384221 non-null  datetime64[ns, UTC]\n",
      " 1   id                         384221 non-null  int64              \n",
      " 2   id_str                     384221 non-null  int64              \n",
      " 3   full_text                  384221 non-null  object             \n",
      " 4   truncated                  384221 non-null  bool               \n",
      " 5   display_text_range         384221 non-null  object             \n",
      " 6   entities                   384221 non-null  object             \n",
      " 7   source                     384221 non-null  object             \n",
      " 8   in_reply_to_status_id      26530 non-null   float64            \n",
      " 9   in_reply_to_status_id_str  26530 non-null   float64            \n",
      " 10  in_reply_to_user_id        29115 non-null   float64            \n",
      " 11  in_reply_to_user_id_str    29115 non-null   float64            \n",
      " 12  in_reply_to_screen_name    29115 non-null   object             \n",
      " 13  user                       384221 non-null  object             \n",
      " 14  geo                        35 non-null      object             \n",
      " 15  coordinates                35 non-null      object             \n",
      " 16  place                      3695 non-null    object             \n",
      " 17  contributors               0 non-null       float64            \n",
      " 18  retweeted_status           282507 non-null  object             \n",
      " 19  is_quote_status            384221 non-null  bool               \n",
      " 20  quoted_status_id           87145 non-null   float64            \n",
      " 21  quoted_status_id_str       87145 non-null   float64            \n",
      " 22  quoted_status_permalink    87145 non-null   object             \n",
      " 23  retweet_count              384221 non-null  int64              \n",
      " 24  favorite_count             384221 non-null  int64              \n",
      " 25  favorited                  384221 non-null  bool               \n",
      " 26  retweeted                  384221 non-null  bool               \n",
      " 27  lang                       384221 non-null  object             \n",
      " 28  quoted_status              26756 non-null   object             \n",
      " 29  possibly_sensitive         85009 non-null   float64            \n",
      " 30  extended_entities          22231 non-null   object             \n",
      "dtypes: bool(4), datetime64[ns, UTC](1), float64(8), int64(4), object(14)\n",
      "memory usage: 1.5 GB\n"
     ]
    }
   ],
   "source": [
    "df.info(memory_usage='deep')\n",
    "# It appears that over ten thousand. tweets have been deleted since August"
   ]
  },
  {
   "cell_type": "code",
   "execution_count": 4,
   "metadata": {
    "collapsed": true,
    "jupyter": {
     "outputs_hidden": true
    }
   },
   "outputs": [
    {
     "ename": "ValueError",
     "evalue": "cannot reindex from a duplicate axis",
     "output_type": "error",
     "traceback": [
      "\u001b[0;31m---------------------------------------------------------------------------\u001b[0m",
      "\u001b[0;31mValueError\u001b[0m                                Traceback (most recent call last)",
      "\u001b[0;32m<timed exec>\u001b[0m in \u001b[0;36m<module>\u001b[0;34m\u001b[0m\n",
      "\u001b[0;32m~//data_bootcamp/data-science-final-project/scripts/functions.py\u001b[0m in \u001b[0;36mreplace_retweet_text\u001b[0;34m(df, check_col, rt_col)\u001b[0m\n\u001b[1;32m    103\u001b[0m \u001b[0;34m\u001b[0m\u001b[0m\n\u001b[1;32m    104\u001b[0m \u001b[0;32mdef\u001b[0m \u001b[0mreplace_retweet_text\u001b[0m\u001b[0;34m(\u001b[0m\u001b[0mdf\u001b[0m\u001b[0;34m,\u001b[0m\u001b[0mcheck_col\u001b[0m\u001b[0;34m=\u001b[0m\u001b[0;34m'full_text'\u001b[0m\u001b[0;34m,\u001b[0m\u001b[0mrt_col\u001b[0m\u001b[0;34m=\u001b[0m\u001b[0;34m'rt_full_text'\u001b[0m\u001b[0;34m)\u001b[0m\u001b[0;34m:\u001b[0m\u001b[0;34m\u001b[0m\u001b[0;34m\u001b[0m\u001b[0m\n\u001b[0;32m--> 105\u001b[0;31m     \u001b[0mdf\u001b[0m\u001b[0;34m.\u001b[0m\u001b[0mloc\u001b[0m\u001b[0;34m[\u001b[0m\u001b[0mdf\u001b[0m\u001b[0;34m[\u001b[0m\u001b[0mcheck_col\u001b[0m\u001b[0;34m]\u001b[0m\u001b[0;34m.\u001b[0m\u001b[0mstr\u001b[0m\u001b[0;34m.\u001b[0m\u001b[0mcontains\u001b[0m\u001b[0;34m(\u001b[0m\u001b[0mrt_regex\u001b[0m\u001b[0;34m,\u001b[0m \u001b[0mregex\u001b[0m\u001b[0;34m=\u001b[0m\u001b[0;32mTrue\u001b[0m\u001b[0;34m)\u001b[0m\u001b[0;34m,\u001b[0m \u001b[0mcheck_col\u001b[0m\u001b[0;34m]\u001b[0m \u001b[0;34m=\u001b[0m \u001b[0mdf\u001b[0m\u001b[0;34m[\u001b[0m\u001b[0mrt_col\u001b[0m\u001b[0;34m]\u001b[0m\u001b[0;34m\u001b[0m\u001b[0;34m\u001b[0m\u001b[0m\n\u001b[0m\u001b[1;32m    106\u001b[0m     \u001b[0mdf\u001b[0m\u001b[0;34m[\u001b[0m\u001b[0mcheck_col\u001b[0m\u001b[0;34m]\u001b[0m \u001b[0;34m=\u001b[0m \u001b[0mdf\u001b[0m\u001b[0;34m[\u001b[0m\u001b[0mcheck_col\u001b[0m\u001b[0;34m]\u001b[0m\u001b[0;34m.\u001b[0m\u001b[0mastype\u001b[0m\u001b[0;34m(\u001b[0m\u001b[0;34m'str'\u001b[0m\u001b[0;34m)\u001b[0m \u001b[0;31m#\u001b[0m\u001b[0;34m\u001b[0m\u001b[0;34m\u001b[0m\u001b[0m\n\u001b[1;32m    107\u001b[0m     \u001b[0;32mreturn\u001b[0m \u001b[0mdf\u001b[0m\u001b[0;34m\u001b[0m\u001b[0;34m\u001b[0m\u001b[0m\n",
      "\u001b[0;32m/anaconda3/envs/data_bootcamp/lib/python3.7/site-packages/pandas/core/indexing.py\u001b[0m in \u001b[0;36m__setitem__\u001b[0;34m(self, key, value)\u001b[0m\n\u001b[1;32m    668\u001b[0m \u001b[0;34m\u001b[0m\u001b[0m\n\u001b[1;32m    669\u001b[0m         \u001b[0miloc\u001b[0m \u001b[0;34m=\u001b[0m \u001b[0mself\u001b[0m \u001b[0;32mif\u001b[0m \u001b[0mself\u001b[0m\u001b[0;34m.\u001b[0m\u001b[0mname\u001b[0m \u001b[0;34m==\u001b[0m \u001b[0;34m\"iloc\"\u001b[0m \u001b[0;32melse\u001b[0m \u001b[0mself\u001b[0m\u001b[0;34m.\u001b[0m\u001b[0mobj\u001b[0m\u001b[0;34m.\u001b[0m\u001b[0miloc\u001b[0m\u001b[0;34m\u001b[0m\u001b[0;34m\u001b[0m\u001b[0m\n\u001b[0;32m--> 670\u001b[0;31m         \u001b[0miloc\u001b[0m\u001b[0;34m.\u001b[0m\u001b[0m_setitem_with_indexer\u001b[0m\u001b[0;34m(\u001b[0m\u001b[0mindexer\u001b[0m\u001b[0;34m,\u001b[0m \u001b[0mvalue\u001b[0m\u001b[0;34m)\u001b[0m\u001b[0;34m\u001b[0m\u001b[0;34m\u001b[0m\u001b[0m\n\u001b[0m\u001b[1;32m    671\u001b[0m \u001b[0;34m\u001b[0m\u001b[0m\n\u001b[1;32m    672\u001b[0m     \u001b[0;32mdef\u001b[0m \u001b[0m_validate_key\u001b[0m\u001b[0;34m(\u001b[0m\u001b[0mself\u001b[0m\u001b[0;34m,\u001b[0m \u001b[0mkey\u001b[0m\u001b[0;34m,\u001b[0m \u001b[0maxis\u001b[0m\u001b[0;34m:\u001b[0m \u001b[0mint\u001b[0m\u001b[0;34m)\u001b[0m\u001b[0;34m:\u001b[0m\u001b[0;34m\u001b[0m\u001b[0;34m\u001b[0m\u001b[0m\n",
      "\u001b[0;32m/anaconda3/envs/data_bootcamp/lib/python3.7/site-packages/pandas/core/indexing.py\u001b[0m in \u001b[0;36m_setitem_with_indexer\u001b[0;34m(self, indexer, value)\u001b[0m\n\u001b[1;32m   1640\u001b[0m \u001b[0;34m\u001b[0m\u001b[0m\n\u001b[1;32m   1641\u001b[0m             \u001b[0;32mif\u001b[0m \u001b[0misinstance\u001b[0m\u001b[0;34m(\u001b[0m\u001b[0mvalue\u001b[0m\u001b[0;34m,\u001b[0m \u001b[0mABCSeries\u001b[0m\u001b[0;34m)\u001b[0m\u001b[0;34m:\u001b[0m\u001b[0;34m\u001b[0m\u001b[0;34m\u001b[0m\u001b[0m\n\u001b[0;32m-> 1642\u001b[0;31m                 \u001b[0mvalue\u001b[0m \u001b[0;34m=\u001b[0m \u001b[0mself\u001b[0m\u001b[0;34m.\u001b[0m\u001b[0m_align_series\u001b[0m\u001b[0;34m(\u001b[0m\u001b[0mindexer\u001b[0m\u001b[0;34m,\u001b[0m \u001b[0mvalue\u001b[0m\u001b[0;34m)\u001b[0m\u001b[0;34m\u001b[0m\u001b[0;34m\u001b[0m\u001b[0m\n\u001b[0m\u001b[1;32m   1643\u001b[0m \u001b[0;34m\u001b[0m\u001b[0m\n\u001b[1;32m   1644\u001b[0m             \u001b[0minfo_idx\u001b[0m \u001b[0;34m=\u001b[0m \u001b[0mindexer\u001b[0m\u001b[0;34m[\u001b[0m\u001b[0minfo_axis\u001b[0m\u001b[0;34m]\u001b[0m\u001b[0;34m\u001b[0m\u001b[0;34m\u001b[0m\u001b[0m\n",
      "\u001b[0;32m/anaconda3/envs/data_bootcamp/lib/python3.7/site-packages/pandas/core/indexing.py\u001b[0m in \u001b[0;36m_align_series\u001b[0;34m(self, indexer, ser, multiindex_indexer)\u001b[0m\n\u001b[1;32m   1931\u001b[0m                         \u001b[0;32mreturn\u001b[0m \u001b[0mser\u001b[0m\u001b[0;34m.\u001b[0m\u001b[0m_values\u001b[0m\u001b[0;34m.\u001b[0m\u001b[0mcopy\u001b[0m\u001b[0;34m(\u001b[0m\u001b[0;34m)\u001b[0m\u001b[0;34m\u001b[0m\u001b[0;34m\u001b[0m\u001b[0m\n\u001b[1;32m   1932\u001b[0m \u001b[0;34m\u001b[0m\u001b[0m\n\u001b[0;32m-> 1933\u001b[0;31m                     \u001b[0;32mreturn\u001b[0m \u001b[0mser\u001b[0m\u001b[0;34m.\u001b[0m\u001b[0mreindex\u001b[0m\u001b[0;34m(\u001b[0m\u001b[0mnew_ix\u001b[0m\u001b[0;34m)\u001b[0m\u001b[0;34m.\u001b[0m\u001b[0m_values\u001b[0m\u001b[0;34m\u001b[0m\u001b[0;34m\u001b[0m\u001b[0m\n\u001b[0m\u001b[1;32m   1934\u001b[0m \u001b[0;34m\u001b[0m\u001b[0m\n\u001b[1;32m   1935\u001b[0m                 \u001b[0;31m# 2 dims\u001b[0m\u001b[0;34m\u001b[0m\u001b[0;34m\u001b[0m\u001b[0;34m\u001b[0m\u001b[0m\n",
      "\u001b[0;32m/anaconda3/envs/data_bootcamp/lib/python3.7/site-packages/pandas/core/series.py\u001b[0m in \u001b[0;36mreindex\u001b[0;34m(self, index, **kwargs)\u001b[0m\n\u001b[1;32m   4409\u001b[0m     )\n\u001b[1;32m   4410\u001b[0m     \u001b[0;32mdef\u001b[0m \u001b[0mreindex\u001b[0m\u001b[0;34m(\u001b[0m\u001b[0mself\u001b[0m\u001b[0;34m,\u001b[0m \u001b[0mindex\u001b[0m\u001b[0;34m=\u001b[0m\u001b[0;32mNone\u001b[0m\u001b[0;34m,\u001b[0m \u001b[0;34m**\u001b[0m\u001b[0mkwargs\u001b[0m\u001b[0;34m)\u001b[0m\u001b[0;34m:\u001b[0m\u001b[0;34m\u001b[0m\u001b[0;34m\u001b[0m\u001b[0m\n\u001b[0;32m-> 4411\u001b[0;31m         \u001b[0;32mreturn\u001b[0m \u001b[0msuper\u001b[0m\u001b[0;34m(\u001b[0m\u001b[0;34m)\u001b[0m\u001b[0;34m.\u001b[0m\u001b[0mreindex\u001b[0m\u001b[0;34m(\u001b[0m\u001b[0mindex\u001b[0m\u001b[0;34m=\u001b[0m\u001b[0mindex\u001b[0m\u001b[0;34m,\u001b[0m \u001b[0;34m**\u001b[0m\u001b[0mkwargs\u001b[0m\u001b[0;34m)\u001b[0m\u001b[0;34m\u001b[0m\u001b[0;34m\u001b[0m\u001b[0m\n\u001b[0m\u001b[1;32m   4412\u001b[0m \u001b[0;34m\u001b[0m\u001b[0m\n\u001b[1;32m   4413\u001b[0m     def drop(\n",
      "\u001b[0;32m/anaconda3/envs/data_bootcamp/lib/python3.7/site-packages/pandas/core/generic.py\u001b[0m in \u001b[0;36mreindex\u001b[0;34m(self, *args, **kwargs)\u001b[0m\n\u001b[1;32m   4460\u001b[0m         \u001b[0;31m# perform the reindex on the axes\u001b[0m\u001b[0;34m\u001b[0m\u001b[0;34m\u001b[0m\u001b[0;34m\u001b[0m\u001b[0m\n\u001b[1;32m   4461\u001b[0m         return self._reindex_axes(\n\u001b[0;32m-> 4462\u001b[0;31m             \u001b[0maxes\u001b[0m\u001b[0;34m,\u001b[0m \u001b[0mlevel\u001b[0m\u001b[0;34m,\u001b[0m \u001b[0mlimit\u001b[0m\u001b[0;34m,\u001b[0m \u001b[0mtolerance\u001b[0m\u001b[0;34m,\u001b[0m \u001b[0mmethod\u001b[0m\u001b[0;34m,\u001b[0m \u001b[0mfill_value\u001b[0m\u001b[0;34m,\u001b[0m \u001b[0mcopy\u001b[0m\u001b[0;34m\u001b[0m\u001b[0;34m\u001b[0m\u001b[0m\n\u001b[0m\u001b[1;32m   4463\u001b[0m         ).__finalize__(self, method=\"reindex\")\n\u001b[1;32m   4464\u001b[0m \u001b[0;34m\u001b[0m\u001b[0m\n",
      "\u001b[0;32m/anaconda3/envs/data_bootcamp/lib/python3.7/site-packages/pandas/core/generic.py\u001b[0m in \u001b[0;36m_reindex_axes\u001b[0;34m(self, axes, level, limit, tolerance, method, fill_value, copy)\u001b[0m\n\u001b[1;32m   4483\u001b[0m                 \u001b[0mfill_value\u001b[0m\u001b[0;34m=\u001b[0m\u001b[0mfill_value\u001b[0m\u001b[0;34m,\u001b[0m\u001b[0;34m\u001b[0m\u001b[0;34m\u001b[0m\u001b[0m\n\u001b[1;32m   4484\u001b[0m                 \u001b[0mcopy\u001b[0m\u001b[0;34m=\u001b[0m\u001b[0mcopy\u001b[0m\u001b[0;34m,\u001b[0m\u001b[0;34m\u001b[0m\u001b[0;34m\u001b[0m\u001b[0m\n\u001b[0;32m-> 4485\u001b[0;31m                 \u001b[0mallow_dups\u001b[0m\u001b[0;34m=\u001b[0m\u001b[0;32mFalse\u001b[0m\u001b[0;34m,\u001b[0m\u001b[0;34m\u001b[0m\u001b[0;34m\u001b[0m\u001b[0m\n\u001b[0m\u001b[1;32m   4486\u001b[0m             )\n\u001b[1;32m   4487\u001b[0m \u001b[0;34m\u001b[0m\u001b[0m\n",
      "\u001b[0;32m/anaconda3/envs/data_bootcamp/lib/python3.7/site-packages/pandas/core/generic.py\u001b[0m in \u001b[0;36m_reindex_with_indexers\u001b[0;34m(self, reindexers, fill_value, copy, allow_dups)\u001b[0m\n\u001b[1;32m   4528\u001b[0m                 \u001b[0mfill_value\u001b[0m\u001b[0;34m=\u001b[0m\u001b[0mfill_value\u001b[0m\u001b[0;34m,\u001b[0m\u001b[0;34m\u001b[0m\u001b[0;34m\u001b[0m\u001b[0m\n\u001b[1;32m   4529\u001b[0m                 \u001b[0mallow_dups\u001b[0m\u001b[0;34m=\u001b[0m\u001b[0mallow_dups\u001b[0m\u001b[0;34m,\u001b[0m\u001b[0;34m\u001b[0m\u001b[0;34m\u001b[0m\u001b[0m\n\u001b[0;32m-> 4530\u001b[0;31m                 \u001b[0mcopy\u001b[0m\u001b[0;34m=\u001b[0m\u001b[0mcopy\u001b[0m\u001b[0;34m,\u001b[0m\u001b[0;34m\u001b[0m\u001b[0;34m\u001b[0m\u001b[0m\n\u001b[0m\u001b[1;32m   4531\u001b[0m             )\n\u001b[1;32m   4532\u001b[0m             \u001b[0;31m# If we've made a copy once, no need to make another one\u001b[0m\u001b[0;34m\u001b[0m\u001b[0;34m\u001b[0m\u001b[0;34m\u001b[0m\u001b[0m\n",
      "\u001b[0;32m/anaconda3/envs/data_bootcamp/lib/python3.7/site-packages/pandas/core/internals/managers.py\u001b[0m in \u001b[0;36mreindex_indexer\u001b[0;34m(self, new_axis, indexer, axis, fill_value, allow_dups, copy, consolidate)\u001b[0m\n\u001b[1;32m   1274\u001b[0m         \u001b[0;31m# some axes don't allow reindexing with dups\u001b[0m\u001b[0;34m\u001b[0m\u001b[0;34m\u001b[0m\u001b[0;34m\u001b[0m\u001b[0m\n\u001b[1;32m   1275\u001b[0m         \u001b[0;32mif\u001b[0m \u001b[0;32mnot\u001b[0m \u001b[0mallow_dups\u001b[0m\u001b[0;34m:\u001b[0m\u001b[0;34m\u001b[0m\u001b[0;34m\u001b[0m\u001b[0m\n\u001b[0;32m-> 1276\u001b[0;31m             \u001b[0mself\u001b[0m\u001b[0;34m.\u001b[0m\u001b[0maxes\u001b[0m\u001b[0;34m[\u001b[0m\u001b[0maxis\u001b[0m\u001b[0;34m]\u001b[0m\u001b[0;34m.\u001b[0m\u001b[0m_can_reindex\u001b[0m\u001b[0;34m(\u001b[0m\u001b[0mindexer\u001b[0m\u001b[0;34m)\u001b[0m\u001b[0;34m\u001b[0m\u001b[0;34m\u001b[0m\u001b[0m\n\u001b[0m\u001b[1;32m   1277\u001b[0m \u001b[0;34m\u001b[0m\u001b[0m\n\u001b[1;32m   1278\u001b[0m         \u001b[0;32mif\u001b[0m \u001b[0maxis\u001b[0m \u001b[0;34m>=\u001b[0m \u001b[0mself\u001b[0m\u001b[0;34m.\u001b[0m\u001b[0mndim\u001b[0m\u001b[0;34m:\u001b[0m\u001b[0;34m\u001b[0m\u001b[0;34m\u001b[0m\u001b[0m\n",
      "\u001b[0;32m/anaconda3/envs/data_bootcamp/lib/python3.7/site-packages/pandas/core/indexes/base.py\u001b[0m in \u001b[0;36m_can_reindex\u001b[0;34m(self, indexer)\u001b[0m\n\u001b[1;32m   3287\u001b[0m         \u001b[0;31m# trying to reindex on an axis with duplicates\u001b[0m\u001b[0;34m\u001b[0m\u001b[0;34m\u001b[0m\u001b[0;34m\u001b[0m\u001b[0m\n\u001b[1;32m   3288\u001b[0m         \u001b[0;32mif\u001b[0m \u001b[0;32mnot\u001b[0m \u001b[0mself\u001b[0m\u001b[0;34m.\u001b[0m\u001b[0mis_unique\u001b[0m \u001b[0;32mand\u001b[0m \u001b[0mlen\u001b[0m\u001b[0;34m(\u001b[0m\u001b[0mindexer\u001b[0m\u001b[0;34m)\u001b[0m\u001b[0;34m:\u001b[0m\u001b[0;34m\u001b[0m\u001b[0;34m\u001b[0m\u001b[0m\n\u001b[0;32m-> 3289\u001b[0;31m             \u001b[0;32mraise\u001b[0m \u001b[0mValueError\u001b[0m\u001b[0;34m(\u001b[0m\u001b[0;34m\"cannot reindex from a duplicate axis\"\u001b[0m\u001b[0;34m)\u001b[0m\u001b[0;34m\u001b[0m\u001b[0;34m\u001b[0m\u001b[0m\n\u001b[0m\u001b[1;32m   3290\u001b[0m \u001b[0;34m\u001b[0m\u001b[0m\n\u001b[1;32m   3291\u001b[0m     \u001b[0;32mdef\u001b[0m \u001b[0mreindex\u001b[0m\u001b[0;34m(\u001b[0m\u001b[0mself\u001b[0m\u001b[0;34m,\u001b[0m \u001b[0mtarget\u001b[0m\u001b[0;34m,\u001b[0m \u001b[0mmethod\u001b[0m\u001b[0;34m=\u001b[0m\u001b[0;32mNone\u001b[0m\u001b[0;34m,\u001b[0m \u001b[0mlevel\u001b[0m\u001b[0;34m=\u001b[0m\u001b[0;32mNone\u001b[0m\u001b[0;34m,\u001b[0m \u001b[0mlimit\u001b[0m\u001b[0;34m=\u001b[0m\u001b[0;32mNone\u001b[0m\u001b[0;34m,\u001b[0m \u001b[0mtolerance\u001b[0m\u001b[0;34m=\u001b[0m\u001b[0;32mNone\u001b[0m\u001b[0;34m)\u001b[0m\u001b[0;34m:\u001b[0m\u001b[0;34m\u001b[0m\u001b[0;34m\u001b[0m\u001b[0m\n",
      "\u001b[0;31mValueError\u001b[0m: cannot reindex from a duplicate axis"
     ]
    }
   ],
   "source": [
    "%%time\n",
    "\n",
    "# Make copy of imported data and set index to unique tweet ID\n",
    "raw = df.copy()\n",
    "raw = raw[~raw.index.duplicated(keep='first')]\n",
    "# Filter out columns\n",
    "raw = col_filter(raw)\n",
    "# Extract features from user column dict with .get\n",
    "raw = extract_username(raw)\n",
    "# Create is_retweet column\n",
    "raw['is_retweet'] = raw['full_text'].apply(is_retweet) # This was originally for pdpipe and could be rewrittten\n",
    "# Create new col \"rt_full_text\" from dict column \"retweet_status\"\n",
    "raw = extract_full_text(raw)\n",
    "# Repalce truncated retweet full_text\n",
    "raw = replace_retweet_text(raw)"
   ]
  },
  {
   "cell_type": "markdown",
   "metadata": {},
   "source": [
    "## Creating a Data Processing Pipeline"
   ]
  },
  {
   "cell_type": "code",
   "execution_count": 27,
   "metadata": {},
   "outputs": [
    {
     "name": "stdout",
     "output_type": "stream",
     "text": [
      "CPU times: user 276 ms, sys: 30 ms, total: 306 ms\n",
      "Wall time: 307 ms\n"
     ]
    },
    {
     "data": {
      "text/html": [
       "<div>\n",
       "<style scoped>\n",
       "    .dataframe tbody tr th:only-of-type {\n",
       "        vertical-align: middle;\n",
       "    }\n",
       "\n",
       "    .dataframe tbody tr th {\n",
       "        vertical-align: top;\n",
       "    }\n",
       "\n",
       "    .dataframe thead th {\n",
       "        text-align: right;\n",
       "    }\n",
       "</style>\n",
       "<table border=\"1\" class=\"dataframe\">\n",
       "  <thead>\n",
       "    <tr style=\"text-align: right;\">\n",
       "      <th></th>\n",
       "      <th>created_at</th>\n",
       "      <th>full_text</th>\n",
       "      <th>vader_text</th>\n",
       "      <th>no_hashtags</th>\n",
       "      <th>full_clean</th>\n",
       "      <th>covid_mention</th>\n",
       "      <th>retweet_count</th>\n",
       "      <th>user_name</th>\n",
       "      <th>is_retweet</th>\n",
       "    </tr>\n",
       "    <tr>\n",
       "      <th>id_str</th>\n",
       "      <th></th>\n",
       "      <th></th>\n",
       "      <th></th>\n",
       "      <th></th>\n",
       "      <th></th>\n",
       "      <th></th>\n",
       "      <th></th>\n",
       "      <th></th>\n",
       "      <th></th>\n",
       "    </tr>\n",
       "  </thead>\n",
       "  <tbody>\n",
       "    <tr>\n",
       "      <th>1306334233523179520</th>\n",
       "      <td>2020-09-16 20:48:46+00:00</td>\n",
       "      <td>In the summer Boot destroyed all of the bandan...</td>\n",
       "      <td>In the summer Boot destroyed all of the bandan...</td>\n",
       "      <td>[summer, boot, destroyed, bandannas, confedera...</td>\n",
       "      <td>[summer, boot, destroyed, bandannas, confedera...</td>\n",
       "      <td>0</td>\n",
       "      <td>8</td>\n",
       "      <td>7adamandrews</td>\n",
       "      <td>1</td>\n",
       "    </tr>\n",
       "    <tr>\n",
       "      <th>1327113858251571200</th>\n",
       "      <td>2020-11-13 04:59:35+00:00</td>\n",
       "      <td>All that money they're blowing on the #SiteC d...</td>\n",
       "      <td>All that money they're blowing on the #SiteC d...</td>\n",
       "      <td>[money, theyre, blowing, dam, yeah, gon, na, pay]</td>\n",
       "      <td>[money, theyre, blowing, sitec, dam, yeah, gon...</td>\n",
       "      <td>0</td>\n",
       "      <td>54</td>\n",
       "      <td>koenigcomm</td>\n",
       "      <td>1</td>\n",
       "    </tr>\n",
       "    <tr>\n",
       "      <th>1318789405692239872</th>\n",
       "      <td>2020-10-21 05:41:10+00:00</td>\n",
       "      <td>Douglas Todd: Finally, the party's over for no...</td>\n",
       "      <td>Douglas Todd: Finally, the party's over for no...</td>\n",
       "      <td>[douglas, todd, finally, partys, nolimit, poli...</td>\n",
       "      <td>[douglas, todd, finally, partys, nolimit, poli...</td>\n",
       "      <td>0</td>\n",
       "      <td>4</td>\n",
       "      <td>suestroud</td>\n",
       "      <td>1</td>\n",
       "    </tr>\n",
       "    <tr>\n",
       "      <th>1318947440611844096</th>\n",
       "      <td>2020-10-21 16:09:09+00:00</td>\n",
       "      <td>In BC its #frackingLNG #deforestation #sitec i...</td>\n",
       "      <td>In BC its #frackingLNG #deforestation #sitec i...</td>\n",
       "      <td>[bc, industries, pls, sake, amp, vote, riding]</td>\n",
       "      <td>[bc, frackinglng, deforestation, sitec, indust...</td>\n",
       "      <td>0</td>\n",
       "      <td>1</td>\n",
       "      <td>cindian1</td>\n",
       "      <td>0</td>\n",
       "    </tr>\n",
       "    <tr>\n",
       "      <th>1309232401504063488</th>\n",
       "      <td>2020-09-24 20:45:03+00:00</td>\n",
       "      <td>I am so excited and so honoured to be the @bcn...</td>\n",
       "      <td>I am so excited and so honoured to be the @bcn...</td>\n",
       "      <td>[excited, honoured, candidate, victoriabeacon,...</td>\n",
       "      <td>[excited, honoured, candidate, victoriabeacon,...</td>\n",
       "      <td>0</td>\n",
       "      <td>44</td>\n",
       "      <td>briancampbellC1</td>\n",
       "      <td>1</td>\n",
       "    </tr>\n",
       "  </tbody>\n",
       "</table>\n",
       "</div>"
      ],
      "text/plain": [
       "                                   created_at  \\\n",
       "id_str                                          \n",
       "1306334233523179520 2020-09-16 20:48:46+00:00   \n",
       "1327113858251571200 2020-11-13 04:59:35+00:00   \n",
       "1318789405692239872 2020-10-21 05:41:10+00:00   \n",
       "1318947440611844096 2020-10-21 16:09:09+00:00   \n",
       "1309232401504063488 2020-09-24 20:45:03+00:00   \n",
       "\n",
       "                                                             full_text  \\\n",
       "id_str                                                                   \n",
       "1306334233523179520  In the summer Boot destroyed all of the bandan...   \n",
       "1327113858251571200  All that money they're blowing on the #SiteC d...   \n",
       "1318789405692239872  Douglas Todd: Finally, the party's over for no...   \n",
       "1318947440611844096  In BC its #frackingLNG #deforestation #sitec i...   \n",
       "1309232401504063488  I am so excited and so honoured to be the @bcn...   \n",
       "\n",
       "                                                            vader_text  \\\n",
       "id_str                                                                   \n",
       "1306334233523179520  In the summer Boot destroyed all of the bandan...   \n",
       "1327113858251571200  All that money they're blowing on the #SiteC d...   \n",
       "1318789405692239872  Douglas Todd: Finally, the party's over for no...   \n",
       "1318947440611844096  In BC its #frackingLNG #deforestation #sitec i...   \n",
       "1309232401504063488  I am so excited and so honoured to be the @bcn...   \n",
       "\n",
       "                                                           no_hashtags  \\\n",
       "id_str                                                                   \n",
       "1306334233523179520  [summer, boot, destroyed, bandannas, confedera...   \n",
       "1327113858251571200  [money, theyre, blowing, dam, yeah, gon, na, pay]   \n",
       "1318789405692239872  [douglas, todd, finally, partys, nolimit, poli...   \n",
       "1318947440611844096     [bc, industries, pls, sake, amp, vote, riding]   \n",
       "1309232401504063488  [excited, honoured, candidate, victoriabeacon,...   \n",
       "\n",
       "                                                            full_clean  \\\n",
       "id_str                                                                   \n",
       "1306334233523179520  [summer, boot, destroyed, bandannas, confedera...   \n",
       "1327113858251571200  [money, theyre, blowing, sitec, dam, yeah, gon...   \n",
       "1318789405692239872  [douglas, todd, finally, partys, nolimit, poli...   \n",
       "1318947440611844096  [bc, frackinglng, deforestation, sitec, indust...   \n",
       "1309232401504063488  [excited, honoured, candidate, victoriabeacon,...   \n",
       "\n",
       "                     covid_mention  retweet_count        user_name  is_retweet  \n",
       "id_str                                                                          \n",
       "1306334233523179520              0              8     7adamandrews           1  \n",
       "1327113858251571200              0             54       koenigcomm           1  \n",
       "1318789405692239872              0              4        suestroud           1  \n",
       "1318947440611844096              0              1         cindian1           0  \n",
       "1309232401504063488              0             44  briancampbellC1           1  "
      ]
     },
     "execution_count": 27,
     "metadata": {},
     "output_type": "execute_result"
    }
   ],
   "source": [
    "%%time\n",
    "\n",
    "# Pandas Processing Pipeline\n",
    "\n",
    "pipeline = pdp.ColDrop('user')\n",
    "pipeline+= pdp.ApplyByCols('full_text', lower_case, 'full_lower', drop=False)\n",
    "pipeline+= pdp.ApplyByCols('full_lower', covid_mention, 'covid_mention', drop=True)\n",
    "pipeline+= pdp.ApplyByCols('full_text', preprocess, 'full_clean', drop=False)\n",
    "pipeline+= pdp.ApplyByCols('full_text', (lambda x: preprocess(x, hashtags=True)), 'no_hashtags', drop=False) \n",
    "pipeline+= pdp.ApplyByCols('full_text', vader_preprocess, 'vader_text', drop=False)\n",
    "pipeline+= pdp.ColDrop('retweeted_status') \n",
    "pipeline+= pdp.ColDrop('rt_full_text')\n",
    "raw = pipeline(raw)\n",
    "raw.sample(n=5)"
   ]
  },
  {
   "cell_type": "code",
   "execution_count": 64,
   "metadata": {},
   "outputs": [
    {
     "data": {
      "text/plain": [
       "41935"
      ]
     },
     "execution_count": 64,
     "metadata": {},
     "output_type": "execute_result"
    }
   ],
   "source": [
    "raw.user_name.nunique()"
   ]
  },
  {
   "cell_type": "markdown",
   "metadata": {},
   "source": [
    "## Create new DataFrames separate analysis"
   ]
  },
  {
   "cell_type": "code",
   "execution_count": 65,
   "metadata": {},
   "outputs": [],
   "source": [
    "# Using the updated DataFrame of tweet.\n",
    "# df_filtered_tweets_master has been processed identically as above\n",
    "# df_filtered_tweets_master will always be the most current DataFrame\n",
    "# Reproduciibility still possible with /data/tweet_ids.txt. It is updated with the tweet_ids from df_filtered_tweets_master\n",
    "raw = pd.read_pickle('~/data_bootcamp/data-science-final-project/data/df_filtered_tweets_master.pkl')"
   ]
  },
  {
   "cell_type": "code",
   "execution_count": 66,
   "metadata": {},
   "outputs": [],
   "source": [
    "# Create a new column with word lemma\n",
    "# This will drastically improve the qauilty and variance of ngrams\n",
    "\n",
    "raw['lemma'] = raw.no_hashtags.apply(lambda x: lemmatize_text(x))"
   ]
  },
  {
   "cell_type": "code",
   "execution_count": 86,
   "metadata": {},
   "outputs": [
    {
     "data": {
      "text/html": [
       "<div>\n",
       "<style scoped>\n",
       "    .dataframe tbody tr th:only-of-type {\n",
       "        vertical-align: middle;\n",
       "    }\n",
       "\n",
       "    .dataframe tbody tr th {\n",
       "        vertical-align: top;\n",
       "    }\n",
       "\n",
       "    .dataframe thead th {\n",
       "        text-align: right;\n",
       "    }\n",
       "</style>\n",
       "<table border=\"1\" class=\"dataframe\">\n",
       "  <thead>\n",
       "    <tr style=\"text-align: right;\">\n",
       "      <th></th>\n",
       "      <th>created_at</th>\n",
       "      <th>full_text</th>\n",
       "      <th>vader_text</th>\n",
       "      <th>no_hashtags</th>\n",
       "      <th>full_clean</th>\n",
       "      <th>covid_mention</th>\n",
       "      <th>retweet_count</th>\n",
       "      <th>user_name</th>\n",
       "      <th>is_retweet</th>\n",
       "      <th>lemma</th>\n",
       "    </tr>\n",
       "    <tr>\n",
       "      <th>id_str</th>\n",
       "      <th></th>\n",
       "      <th></th>\n",
       "      <th></th>\n",
       "      <th></th>\n",
       "      <th></th>\n",
       "      <th></th>\n",
       "      <th></th>\n",
       "      <th></th>\n",
       "      <th></th>\n",
       "      <th></th>\n",
       "    </tr>\n",
       "  </thead>\n",
       "  <tbody>\n",
       "    <tr>\n",
       "      <th>1294232573636304896</th>\n",
       "      <td>2020-08-14 11:21:05+00:00</td>\n",
       "      <td>Dr. Bonnie Henry is one of the greatest leader...</td>\n",
       "      <td>Dr. Bonnie Henry is one of the greatest leader...</td>\n",
       "      <td>[dr, bonnie, henry, one, greatest, leaders, ti...</td>\n",
       "      <td>[dr, bonnie, henry, one, greatest, leaders, ti...</td>\n",
       "      <td>1</td>\n",
       "      <td>0</td>\n",
       "      <td>bcpoli</td>\n",
       "      <td>0</td>\n",
       "      <td>[dr, bonnie, henry, one, greatest, leader, tim...</td>\n",
       "    </tr>\n",
       "    <tr>\n",
       "      <th>1294233211262783488</th>\n",
       "      <td>2020-08-14 11:23:37+00:00</td>\n",
       "      <td>\"the child is already feeling better... But in...</td>\n",
       "      <td>\"the child is already feeling better... But in...</td>\n",
       "      <td>[child, already, feeling, better, family, pare...</td>\n",
       "      <td>[child, already, feeling, better, family, pare...</td>\n",
       "      <td>0</td>\n",
       "      <td>0</td>\n",
       "      <td>nspector4</td>\n",
       "      <td>0</td>\n",
       "      <td>[child, already, feeling, better, family, pare...</td>\n",
       "    </tr>\n",
       "    <tr>\n",
       "      <th>1294233585491144704</th>\n",
       "      <td>2020-08-14 11:25:07+00:00</td>\n",
       "      <td>@RickAnderson Better BC news... #bcpoli #cdnpo...</td>\n",
       "      <td>@RickAnderson Better BC news... #bcpoli #cdnpoli</td>\n",
       "      <td>[better, bc, news]</td>\n",
       "      <td>[better, bc, news, bcpoli, cdnpoli]</td>\n",
       "      <td>0</td>\n",
       "      <td>2</td>\n",
       "      <td>nspector4</td>\n",
       "      <td>0</td>\n",
       "      <td>[better, bc, news]</td>\n",
       "    </tr>\n",
       "    <tr>\n",
       "      <th>1294235457040142336</th>\n",
       "      <td>2020-08-14 11:32:33+00:00</td>\n",
       "      <td>#Fortnite developer #EpicGames sues #Apple, #G...</td>\n",
       "      <td>#Fortnite developer #EpicGames sues #Apple, #G...</td>\n",
       "      <td>[developer, sues, removal, video, game, app, s...</td>\n",
       "      <td>[fortnite, developer, epicgames, sues, apple, ...</td>\n",
       "      <td>0</td>\n",
       "      <td>0</td>\n",
       "      <td>Tammy_Richard</td>\n",
       "      <td>0</td>\n",
       "      <td>[developer, sue, removal, video, game, app, st...</td>\n",
       "    </tr>\n",
       "    <tr>\n",
       "      <th>1294237971592261632</th>\n",
       "      <td>2020-08-14 11:42:32+00:00</td>\n",
       "      <td>Sweden never shut down and it is doing better ...</td>\n",
       "      <td>Sweden never shut down and it is doing better ...</td>\n",
       "      <td>[sweden, never, shut, better, us, canadas, dam...</td>\n",
       "      <td>[sweden, never, shut, better, us, canadas, dam...</td>\n",
       "      <td>0</td>\n",
       "      <td>0</td>\n",
       "      <td>bcpoli</td>\n",
       "      <td>0</td>\n",
       "      <td>[sweden, never, shut, better, u, canada, damag...</td>\n",
       "    </tr>\n",
       "  </tbody>\n",
       "</table>\n",
       "</div>"
      ],
      "text/plain": [
       "                                   created_at  \\\n",
       "id_str                                          \n",
       "1294232573636304896 2020-08-14 11:21:05+00:00   \n",
       "1294233211262783488 2020-08-14 11:23:37+00:00   \n",
       "1294233585491144704 2020-08-14 11:25:07+00:00   \n",
       "1294235457040142336 2020-08-14 11:32:33+00:00   \n",
       "1294237971592261632 2020-08-14 11:42:32+00:00   \n",
       "\n",
       "                                                             full_text  \\\n",
       "id_str                                                                   \n",
       "1294232573636304896  Dr. Bonnie Henry is one of the greatest leader...   \n",
       "1294233211262783488  \"the child is already feeling better... But in...   \n",
       "1294233585491144704  @RickAnderson Better BC news... #bcpoli #cdnpo...   \n",
       "1294235457040142336  #Fortnite developer #EpicGames sues #Apple, #G...   \n",
       "1294237971592261632  Sweden never shut down and it is doing better ...   \n",
       "\n",
       "                                                            vader_text  \\\n",
       "id_str                                                                   \n",
       "1294232573636304896  Dr. Bonnie Henry is one of the greatest leader...   \n",
       "1294233211262783488  \"the child is already feeling better... But in...   \n",
       "1294233585491144704   @RickAnderson Better BC news... #bcpoli #cdnpoli   \n",
       "1294235457040142336  #Fortnite developer #EpicGames sues #Apple, #G...   \n",
       "1294237971592261632  Sweden never shut down and it is doing better ...   \n",
       "\n",
       "                                                           no_hashtags  \\\n",
       "id_str                                                                   \n",
       "1294232573636304896  [dr, bonnie, henry, one, greatest, leaders, ti...   \n",
       "1294233211262783488  [child, already, feeling, better, family, pare...   \n",
       "1294233585491144704                                 [better, bc, news]   \n",
       "1294235457040142336  [developer, sues, removal, video, game, app, s...   \n",
       "1294237971592261632  [sweden, never, shut, better, us, canadas, dam...   \n",
       "\n",
       "                                                            full_clean  \\\n",
       "id_str                                                                   \n",
       "1294232573636304896  [dr, bonnie, henry, one, greatest, leaders, ti...   \n",
       "1294233211262783488  [child, already, feeling, better, family, pare...   \n",
       "1294233585491144704                [better, bc, news, bcpoli, cdnpoli]   \n",
       "1294235457040142336  [fortnite, developer, epicgames, sues, apple, ...   \n",
       "1294237971592261632  [sweden, never, shut, better, us, canadas, dam...   \n",
       "\n",
       "                     covid_mention  retweet_count      user_name  is_retweet  \\\n",
       "id_str                                                                         \n",
       "1294232573636304896              1              0         bcpoli           0   \n",
       "1294233211262783488              0              0      nspector4           0   \n",
       "1294233585491144704              0              2      nspector4           0   \n",
       "1294235457040142336              0              0  Tammy_Richard           0   \n",
       "1294237971592261632              0              0         bcpoli           0   \n",
       "\n",
       "                                                                 lemma  \n",
       "id_str                                                                  \n",
       "1294232573636304896  [dr, bonnie, henry, one, greatest, leader, tim...  \n",
       "1294233211262783488  [child, already, feeling, better, family, pare...  \n",
       "1294233585491144704                                 [better, bc, news]  \n",
       "1294235457040142336  [developer, sue, removal, video, game, app, st...  \n",
       "1294237971592261632  [sweden, never, shut, better, u, canada, damag...  "
      ]
     },
     "execution_count": 86,
     "metadata": {},
     "output_type": "execute_result"
    }
   ],
   "source": [
    "raw.head()"
   ]
  },
  {
   "cell_type": "code",
   "execution_count": 67,
   "metadata": {},
   "outputs": [
    {
     "name": "stdout",
     "output_type": "stream",
     "text": [
      "<class 'pandas.core.frame.DataFrame'>\n",
      "Int64Index: 112734 entries, 1294232573636304896 to 1333143355165913088\n",
      "Data columns (total 10 columns):\n",
      " #   Column         Non-Null Count   Dtype              \n",
      "---  ------         --------------   -----              \n",
      " 0   created_at     112734 non-null  datetime64[ns, UTC]\n",
      " 1   full_text      112734 non-null  object             \n",
      " 2   vader_text     112734 non-null  object             \n",
      " 3   no_hashtags    112734 non-null  object             \n",
      " 4   full_clean     112734 non-null  object             \n",
      " 5   covid_mention  112734 non-null  int64              \n",
      " 6   retweet_count  112734 non-null  int64              \n",
      " 7   user_name      112734 non-null  object             \n",
      " 8   is_retweet     112734 non-null  int64              \n",
      " 9   lemma          112734 non-null  object             \n",
      "dtypes: datetime64[ns, UTC](1), int64(3), object(6)\n",
      "memory usage: 9.5+ MB\n"
     ]
    }
   ],
   "source": [
    "# Create new DataFrame of only original tweets\n",
    "\n",
    "df_no_rt = raw[raw['is_retweet'] == 0]\n",
    "df_no_rt.info()"
   ]
  },
  {
   "cell_type": "code",
   "execution_count": 68,
   "metadata": {},
   "outputs": [
    {
     "name": "stdout",
     "output_type": "stream",
     "text": [
      "<class 'pandas.core.frame.DataFrame'>\n",
      "Int64Index: 79311 entries, 1294233211262783488 to 1333143355165913088\n",
      "Data columns (total 10 columns):\n",
      " #   Column         Non-Null Count  Dtype              \n",
      "---  ------         --------------  -----              \n",
      " 0   created_at     79311 non-null  datetime64[ns, UTC]\n",
      " 1   full_text      79311 non-null  object             \n",
      " 2   vader_text     79311 non-null  object             \n",
      " 3   no_hashtags    79311 non-null  object             \n",
      " 4   full_clean     79311 non-null  object             \n",
      " 5   covid_mention  79311 non-null  int64              \n",
      " 6   retweet_count  79311 non-null  int64              \n",
      " 7   user_name      79311 non-null  object             \n",
      " 8   is_retweet     79311 non-null  int64              \n",
      " 9   lemma          79311 non-null  object             \n",
      "dtypes: datetime64[ns, UTC](1), int64(3), object(6)\n",
      "memory usage: 6.7+ MB\n"
     ]
    }
   ],
   "source": [
    "# Create a new DatFrame with only original non-covid tweets\n",
    "# This will be used to guage the covids impact on sentiment\n",
    "\n",
    "df_no_rt_no_covid = df_no_rt[df_no_rt['covid_mention'] == 0]\n",
    "df_no_rt_no_covid.info()"
   ]
  },
  {
   "cell_type": "code",
   "execution_count": 69,
   "metadata": {},
   "outputs": [
    {
     "name": "stdout",
     "output_type": "stream",
     "text": [
      "<class 'pandas.core.frame.DataFrame'>\n",
      "Int64Index: 33423 entries, 1294232573636304896 to 1333146115932209152\n",
      "Data columns (total 10 columns):\n",
      " #   Column         Non-Null Count  Dtype              \n",
      "---  ------         --------------  -----              \n",
      " 0   created_at     33423 non-null  datetime64[ns, UTC]\n",
      " 1   full_text      33423 non-null  object             \n",
      " 2   vader_text     33423 non-null  object             \n",
      " 3   no_hashtags    33423 non-null  object             \n",
      " 4   full_clean     33423 non-null  object             \n",
      " 5   covid_mention  33423 non-null  int64              \n",
      " 6   retweet_count  33423 non-null  int64              \n",
      " 7   user_name      33423 non-null  object             \n",
      " 8   is_retweet     33423 non-null  int64              \n",
      " 9   lemma          33423 non-null  object             \n",
      "dtypes: datetime64[ns, UTC](1), int64(3), object(6)\n",
      "memory usage: 2.8+ MB\n"
     ]
    }
   ],
   "source": [
    "# Create a new DataFrame with only original covid, mentioning tweets\n",
    "# This will be used to guage the covids impact on sentiment\n",
    "\n",
    "df_no_rt_covid_mention = df_no_rt[df_no_rt['covid_mention'] == 1]\n",
    "df_no_rt_covid_mention.info()"
   ]
  },
  {
   "cell_type": "markdown",
   "metadata": {},
   "source": [
    "## Examining some metrics"
   ]
  },
  {
   "cell_type": "code",
   "execution_count": 84,
   "metadata": {},
   "outputs": [
    {
     "data": {
      "text/plain": [
       "307900"
      ]
     },
     "execution_count": 84,
     "metadata": {},
     "output_type": "execute_result"
    }
   ],
   "source": [
    "# Total retweet count of all 384221 tweets\n",
    "\n",
    "raw.is_retweet.sum()"
   ]
  },
  {
   "cell_type": "code",
   "execution_count": 85,
   "metadata": {},
   "outputs": [
    {
     "data": {
      "text/plain": [
       "128746"
      ]
     },
     "execution_count": 85,
     "metadata": {},
     "output_type": "execute_result"
    }
   ],
   "source": [
    "# Estimated total covid/pandemic mentions\n",
    "\n",
    "raw.covid_mention.sum()"
   ]
  },
  {
   "cell_type": "code",
   "execution_count": 75,
   "metadata": {},
   "outputs": [
    {
     "name": "stdout",
     "output_type": "stream",
     "text": [
      "<class 'pandas.core.frame.DataFrame'>\n",
      "Int64Index: 420634 entries, 1294232573636304896 to 1333143090723319808\n",
      "Data columns (total 10 columns):\n",
      " #   Column         Non-Null Count   Dtype              \n",
      "---  ------         --------------   -----              \n",
      " 0   created_at     420634 non-null  datetime64[ns, UTC]\n",
      " 1   full_text      420634 non-null  object             \n",
      " 2   vader_text     420634 non-null  object             \n",
      " 3   no_hashtags    420634 non-null  object             \n",
      " 4   full_clean     420634 non-null  object             \n",
      " 5   covid_mention  420634 non-null  int64              \n",
      " 6   retweet_count  420634 non-null  int64              \n",
      " 7   user_name      420634 non-null  object             \n",
      " 8   is_retweet     420634 non-null  int64              \n",
      " 9   lemma          420634 non-null  object             \n",
      "dtypes: datetime64[ns, UTC](1), int64(3), object(6)\n",
      "memory usage: 35.3+ MB\n"
     ]
    }
   ],
   "source": [
    "raw.info()"
   ]
  },
  {
   "cell_type": "code",
   "execution_count": 76,
   "metadata": {},
   "outputs": [
    {
     "name": "stdout",
     "output_type": "stream",
     "text": [
      "Estimated percentage of tweets related to #bcpoli that mention covid or the pandemic in some way: 29.65 %\n",
      "Total of 112734 original tweets related to #bcpoli that mention covid or the pandemic in some way: 33423\n"
     ]
    }
   ],
   "source": [
    "# Estimated total covid/pandemic mentions in 112131 original tweets\n",
    "\n",
    "no_rt_count = df_no_rt.shape[0]\n",
    "no_rt_covid_count = df_no_rt.covid_mention.sum()\n",
    "mention_ratio_no_rt = (no_rt_covid_count/no_rt_count) * 100\n",
    "\n",
    "print('Estimated percentage of tweets related to #bcpoli that mention covid or the pandemic in some way:', '%0.2f'% mention_ratio_no_rt,'%')\n",
    "print(f'Total of {no_rt_count} original tweets related to #bcpoli that mention covid or the pandemic in some way:', no_rt_covid_count)"
   ]
  },
  {
   "cell_type": "markdown",
   "metadata": {},
   "source": [
    "## Bigrams, Trigrams and Topics\n",
    "\n",
    "A new column for lemmatized words should be created when extracting ngrams, as the ngrams will be diluted with plural and non-plural forms of words"
   ]
  },
  {
   "cell_type": "code",
   "execution_count": 77,
   "metadata": {},
   "outputs": [
    {
     "data": {
      "text/plain": [
       "(bc, liberal)             22869\n",
       "(bonnie, henry)           11302\n",
       "(dr, bonnie)              10327\n",
       "(john, horgan)            10315\n",
       "(new, case)                9851\n",
       "(british, columbia)        8730\n",
       "(british, columbians)      8511\n",
       "(andrew, wilkinson)        7733\n",
       "(dr, henry)                7407\n",
       "(bc, ndp)                  7385\n",
       "(bc, green)                5034\n",
       "(henry, say)               4342\n",
       "(public, health)           4088\n",
       "(site, c)                  4043\n",
       "(bc, election)             3826\n",
       "(fraser, health)           3812\n",
       "(snap, election)           3617\n",
       "(health, care)             3600\n",
       "(wear, mask)               3211\n",
       "(physical, distancing)     3163\n",
       "dtype: int64"
      ]
     },
     "execution_count": 77,
     "metadata": {},
     "output_type": "execute_result"
    }
   ],
   "source": [
    "# Most frequent bigrams, hastags removed, stop words removed - Includes original tweets and retweets\n",
    "# This will be more interesting with data grouped by week\n",
    "\n",
    "top_ngrams(raw, n=2, ngrams=20)"
   ]
  },
  {
   "cell_type": "code",
   "execution_count": 78,
   "metadata": {},
   "outputs": [
    {
     "data": {
      "text/plain": [
       "(bc, liberal)             4093\n",
       "(bonnie, henry)           2229\n",
       "(dr, bonnie)              2030\n",
       "(new, case)               1744\n",
       "(dr, henry)               1640\n",
       "(john, horgan)            1630\n",
       "(bc, ndp)                 1545\n",
       "(british, columbia)       1346\n",
       "(british, columbians)     1293\n",
       "(andrew, wilkinson)       1183\n",
       "(bc, green)                964\n",
       "(bc, election)             964\n",
       "(public, health)           927\n",
       "(snap, election)           915\n",
       "(active, case)             869\n",
       "(henry, say)               845\n",
       "(fraser, health)           742\n",
       "(health, care)             675\n",
       "(provincial, election)     661\n",
       "(look, like)               650\n",
       "dtype: int64"
      ]
     },
     "execution_count": 78,
     "metadata": {},
     "output_type": "execute_result"
    }
   ],
   "source": [
    "# Top bigrams from original tweets only\n",
    "\n",
    "top_ngrams(df_no_rt, n=2, ngrams=20)"
   ]
  },
  {
   "cell_type": "code",
   "execution_count": 79,
   "metadata": {},
   "outputs": [
    {
     "data": {
      "text/plain": [
       "(bc, liberal)             3796\n",
       "(bc, ndp)                 1366\n",
       "(john, horgan)            1252\n",
       "(andrew, wilkinson)       1079\n",
       "(british, columbians)      945\n",
       "(british, columbia)        890\n",
       "(bc, green)                881\n",
       "(bc, election)             819\n",
       "(old, growth)              624\n",
       "(provincial, election)     577\n",
       "(snap, election)           556\n",
       "(green, party)             553\n",
       "(election, bc)             493\n",
       "(look, like)               492\n",
       "(site, c)                  472\n",
       "(mental, health)           443\n",
       "(climate, change)          428\n",
       "(growth, forest)           427\n",
       "(sign, petition)           405\n",
       "(health, care)             396\n",
       "dtype: int64"
      ]
     },
     "execution_count": 79,
     "metadata": {},
     "output_type": "execute_result"
    }
   ],
   "source": [
    "# Top bigrams from original tweets only, without covid mentioned\n",
    "# This is a good example of when stemming is benficial - See pluralized words below\n",
    "\n",
    "top_ngrams(df_no_rt_no_covid, n=2, ngrams=20)"
   ]
  },
  {
   "cell_type": "code",
   "execution_count": 80,
   "metadata": {},
   "outputs": [
    {
     "data": {
      "text/plain": [
       "(dr, bonnie, henry)              10066\n",
       "(dr, henry, say)                  2484\n",
       "(premier, john, horgan)           1996\n",
       "(bc, liberal, candidate)          1590\n",
       "(new, case, covid19)              1367\n",
       "(bc, liberal, government)         1353\n",
       "(bc, liberal, party)              1333\n",
       "(old, growth, forest)             1324\n",
       "(bonnie, henry, say)              1146\n",
       "(new, covid19, case)              1130\n",
       "(breaking, dr, bonnie)            1102\n",
       "(leader, john, horgan)            1068\n",
       "(british, columbia, death)        1031\n",
       "(ndp, leader, john)               1023\n",
       "(death, far, year)                1016\n",
       "(288, overdoses, 1202)            1012\n",
       "(columbia, death, far)            1012\n",
       "(coronavirus, 288, overdoses)     1012\n",
       "(year, coronavirus, 288)          1012\n",
       "(far, year, coronavirus)          1012\n",
       "dtype: int64"
      ]
     },
     "execution_count": 80,
     "metadata": {},
     "output_type": "execute_result"
    }
   ],
   "source": [
    "# Most frequent trigrams, hastags removed, stop words removed - Includes original tweets and retweets\n",
    "# This will be more interesting with data grouped by week\n",
    "\n",
    "top_ngrams(raw, n=3, ngrams=20)"
   ]
  },
  {
   "cell_type": "code",
   "execution_count": 81,
   "metadata": {},
   "outputs": [
    {
     "data": {
      "text/plain": [
       "(dr, bonnie, henry)          1949\n",
       "(dr, henry, say)              456\n",
       "(old, growth, forest)         430\n",
       "(one, best, thing)            339\n",
       "(protecting, old, growth)     338\n",
       "(sign, petition, protect)     335\n",
       "(last, giant, tree)           334\n",
       "(petition, protect, last)     333\n",
       "(protect, last, giant)        333\n",
       "(thing, mitigate, impact)     333\n",
       "(best, thing, mitigate)       333\n",
       "(giant, tree, logging)        333\n",
       "(mitigate, impact, sign)      332\n",
       "(impact, sign, petition)      332\n",
       "(forest, one, best)           332\n",
       "(growth, forest, one)         328\n",
       "(bc, liberal, party)          314\n",
       "(going, back, school)         264\n",
       "(bc, green, party)            257\n",
       "(back, school, september)     247\n",
       "dtype: int64"
      ]
     },
     "execution_count": 81,
     "metadata": {},
     "output_type": "execute_result"
    }
   ],
   "source": [
    "# Top trigrams from original tweets only\n",
    "\n",
    "top_ngrams(df_no_rt, n=3, ngrams=20)"
   ]
  },
  {
   "cell_type": "code",
   "execution_count": 82,
   "metadata": {},
   "outputs": [
    {
     "data": {
      "text/plain": [
       "(old, growth, forest)          426\n",
       "(protecting, old, growth)      338\n",
       "(one, best, thing)             337\n",
       "(sign, petition, protect)      335\n",
       "(last, giant, tree)            334\n",
       "(protect, last, giant)         333\n",
       "(thing, mitigate, impact)      333\n",
       "(petition, protect, last)      333\n",
       "(best, thing, mitigate)        333\n",
       "(giant, tree, logging)         333\n",
       "(forest, one, best)            332\n",
       "(impact, sign, petition)       332\n",
       "(mitigate, impact, sign)       332\n",
       "(growth, forest, one)          328\n",
       "(bc, liberal, party)           299\n",
       "(bc, green, party)             250\n",
       "(bc, liberal, candidate)       229\n",
       "(bc, liberal, leader)          209\n",
       "(leader, andrew, wilkinson)    188\n",
       "(premier, john, horgan)        171\n",
       "dtype: int64"
      ]
     },
     "execution_count": 82,
     "metadata": {},
     "output_type": "execute_result"
    }
   ],
   "source": [
    "# Top trigrams from original tweets only, without covid mentioned\n",
    "# This is a good example of when stemming is benficial - See pluralized words below\n",
    "# Also a great example of why trigrams are useful - (old, growth)  (growth, forests)\n",
    "\n",
    "top_ngrams(df_no_rt_no_covid, n=3, ngrams=20)"
   ]
  },
  {
   "cell_type": "code",
   "execution_count": 88,
   "metadata": {},
   "outputs": [],
   "source": [
    "# Pickle DataFrames for later use\n",
    "\n",
    "#df_no_rt.to_pickle('~/data_bootcamp/data-science-final-project/data/df_original_tweets.pkl')\n",
    "\n",
    "#df_no_rt_covid_mention.to_pickle('~/data_bootcamp/data-science-final-project/data/df_original_tweets_covid_mention.pkl')\n",
    "\n",
    "#df_no_rt_no_covid.to_pickle('~/data_bootcamp/data-science-final-project/data/df_original_tweets_no_covid.pkl')"
   ]
  },
  {
   "cell_type": "code",
   "execution_count": null,
   "metadata": {},
   "outputs": [],
   "source": []
  }
 ],
 "metadata": {
  "kernelspec": {
   "display_name": "data_bootcamp",
   "language": "python",
   "name": "data_bootcamp"
  },
  "language_info": {
   "codemirror_mode": {
    "name": "ipython",
    "version": 3
   },
   "file_extension": ".py",
   "mimetype": "text/x-python",
   "name": "python",
   "nbconvert_exporter": "python",
   "pygments_lexer": "ipython3",
   "version": "3.7.8"
  }
 },
 "nbformat": 4,
 "nbformat_minor": 4
}
