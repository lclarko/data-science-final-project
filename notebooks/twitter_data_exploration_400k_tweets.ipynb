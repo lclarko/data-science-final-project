{
 "cells": [
  {
   "cell_type": "markdown",
   "metadata": {},
   "source": [
    "# Exploring the Complete Twitter Dataset\n",
    "\n",
    "* The purpose of this notebook is to explore the full dataset of 400k tweets relating to #bcpoli\n",
    "* Tweet created dates range from August 14, 2020 to November 19, 2020\n",
    "* Columns not required for analysis will be dropped here.\n",
    " * The remaining data will be exported for preprocessing in \"classify_unlabelled_tweets.ipynb\""
   ]
  },
  {
   "cell_type": "code",
   "execution_count": 35,
   "metadata": {},
   "outputs": [],
   "source": [
    "import sys  \n",
    "sys.path.insert(0, '/PATHTO/data-science-final-project/scripts/')\n",
    "\n",
    "import pandas as pd\n",
    "import numpy as np\n",
    "import pdpipe as pdp\n",
    "\n",
    "import re\n",
    "import string\n",
    "import nltk\n",
    "from nltk.tokenize import word_tokenize\n",
    "from nltk.corpus import stopwords\n",
    "stop_words = set(stopwords.words('english'))\n",
    "\n",
    "from IPython.display import JSON\n",
    "import matplotlib.pyplot as plt\n",
    "import pickle\n",
    "\n",
    "# Pandas Display Settings, if you wish\n",
    "\n",
    "pd.set_option('display.max_colwidth', None)\n",
    "#pd.set_option(\"display.max_columns\", 30)\n",
    "\n",
    "# Import custom functions \n",
    "from functions import *"
   ]
  },
  {
   "cell_type": "markdown",
   "metadata": {},
   "source": [
    "## ~398K Tweets from August 14th, 2020 - November 19th, 2020"
   ]
  },
  {
   "cell_type": "code",
   "execution_count": 2,
   "metadata": {},
   "outputs": [
    {
     "name": "stdout",
     "output_type": "stream",
     "text": [
      "CPU times: user 2min 15s, sys: 2min 45s, total: 5min 1s\n",
      "Wall time: 6min 13s\n"
     ]
    }
   ],
   "source": [
    "%%time # This cell was read from external hardrive\n",
    "df = pd.read_json('/Volumes/My Passport/Tweets/bcpoli_400k_extended.jsonl', lines=True)"
   ]
  },
  {
   "cell_type": "code",
   "execution_count": 5,
   "metadata": {},
   "outputs": [
    {
     "name": "stdout",
     "output_type": "stream",
     "text": [
      "<class 'pandas.core.frame.DataFrame'>\n",
      "RangeIndex: 384221 entries, 0 to 384220\n",
      "Data columns (total 31 columns):\n",
      " #   Column                     Non-Null Count   Dtype              \n",
      "---  ------                     --------------   -----              \n",
      " 0   created_at                 384221 non-null  datetime64[ns, UTC]\n",
      " 1   id                         384221 non-null  int64              \n",
      " 2   id_str                     384221 non-null  int64              \n",
      " 3   full_text                  384221 non-null  object             \n",
      " 4   truncated                  384221 non-null  bool               \n",
      " 5   display_text_range         384221 non-null  object             \n",
      " 6   entities                   384221 non-null  object             \n",
      " 7   source                     384221 non-null  object             \n",
      " 8   in_reply_to_status_id      26530 non-null   float64            \n",
      " 9   in_reply_to_status_id_str  26530 non-null   float64            \n",
      " 10  in_reply_to_user_id        29115 non-null   float64            \n",
      " 11  in_reply_to_user_id_str    29115 non-null   float64            \n",
      " 12  in_reply_to_screen_name    29115 non-null   object             \n",
      " 13  user                       384221 non-null  object             \n",
      " 14  geo                        35 non-null      object             \n",
      " 15  coordinates                35 non-null      object             \n",
      " 16  place                      3695 non-null    object             \n",
      " 17  contributors               0 non-null       float64            \n",
      " 18  retweeted_status           282507 non-null  object             \n",
      " 19  is_quote_status            384221 non-null  bool               \n",
      " 20  quoted_status_id           87145 non-null   float64            \n",
      " 21  quoted_status_id_str       87145 non-null   float64            \n",
      " 22  quoted_status_permalink    87145 non-null   object             \n",
      " 23  retweet_count              384221 non-null  int64              \n",
      " 24  favorite_count             384221 non-null  int64              \n",
      " 25  favorited                  384221 non-null  bool               \n",
      " 26  retweeted                  384221 non-null  bool               \n",
      " 27  lang                       384221 non-null  object             \n",
      " 28  quoted_status              26756 non-null   object             \n",
      " 29  possibly_sensitive         85009 non-null   float64            \n",
      " 30  extended_entities          22231 non-null   object             \n",
      "dtypes: bool(4), datetime64[ns, UTC](1), float64(8), int64(4), object(14)\n",
      "memory usage: 1.5 GB\n"
     ]
    }
   ],
   "source": [
    "df.info(memory_usage='deep')"
   ]
  },
  {
   "cell_type": "code",
   "execution_count": 16,
   "metadata": {},
   "outputs": [],
   "source": [
    "# Make copy of imported data and set index to unique tweet ID\n",
    "\n",
    "raw = df.copy()\n",
    "raw.set_index('id_str', inplace=True)\n",
    "\n",
    "# Filter out columns\n",
    "\n",
    "raw = raw[['created_at','user','full_text','retweet_count']]\n",
    "\n",
    "# Extract features from user column dict with .get\n",
    "\n",
    "raw['user_name'] = raw['user'].apply(lambda x: x.get('screen_name'))\n",
    "\n",
    "# Drop user column\n",
    "\n",
    "raw.drop('user', axis=1, inplace=True)\n",
    "\n",
    "# Remove case sensitivity\n",
    "\n",
    "raw[\"full_text\"] = raw[\"full_text\"].str.lower()"
   ]
  },
  {
   "cell_type": "code",
   "execution_count": 19,
   "metadata": {},
   "outputs": [],
   "source": []
  },
  {
   "cell_type": "code",
   "execution_count": 33,
   "metadata": {},
   "outputs": [],
   "source": [
    "# Try with pdpipe later\n",
    "\n",
    "# Pandas Processing Pipeline\n",
    "\n",
    "#pipeline = pdp.ApplyByCols('full_text', covid_mention, 'covid_mention', drop=False)\n",
    "#pipeline+= pdp.ApplyByCols('full_text', is_retweet, 'is_retweet', drop=False)\n",
    "#pipeline+= pdp.ApplyByCols('full_text', preprocess, 'full_clean', drop=False)\n",
    "#raw1 = pipeline(raw)"
   ]
  }
 ],
 "metadata": {
  "kernelspec": {
   "display_name": "data_bootcamp",
   "language": "python",
   "name": "data_bootcamp"
  },
  "language_info": {
   "codemirror_mode": {
    "name": "ipython",
    "version": 3
   },
   "file_extension": ".py",
   "mimetype": "text/x-python",
   "name": "python",
   "nbconvert_exporter": "python",
   "pygments_lexer": "ipython3",
   "version": "3.7.8"
  }
 },
 "nbformat": 4,
 "nbformat_minor": 4
}
