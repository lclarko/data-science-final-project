{
 "cells": [
  {
   "cell_type": "markdown",
   "metadata": {},
   "source": [
    "# Exploring the Complete Twitter Dataset\n",
    "\n",
    "* The purpose of this notebook is to explore the full dataset of 400k tweets relating to #bcpoli\n",
    "* Tweet created dates range from August 14, 2020 to November 19, 2020\n",
    "* Columns not required for analysis will be dropped here.\n",
    " * The remaining data will be exported for preprocessing in \"classify_unlabelled_tweets.ipynb\""
   ]
  },
  {
   "cell_type": "code",
   "execution_count": 1,
   "metadata": {},
   "outputs": [],
   "source": [
    "import sys  \n",
    "sys.path.insert(0, 'PATH/TO/data_bootcamp/data-science-final-project/scripts/')\n",
    "\n",
    "import pandas as pd\n",
    "import numpy as np\n",
    "import pdpipe as pdp\n",
    "\n",
    "import re\n",
    "import string\n",
    "import nltk\n",
    "from nltk.tokenize import word_tokenize\n",
    "from nltk.corpus import stopwords\n",
    "stop_words = set(stopwords.words('english'))\n",
    "\n",
    "from IPython.display import JSON\n",
    "import matplotlib.pyplot as plt\n",
    "import pickle\n",
    "\n",
    "# Pandas Display Settings, if you wish\n",
    "\n",
    "pd.set_option('display.max_colwidth', None)\n",
    "#pd.set_option(\"display.max_columns\", 30)\n",
    "\n",
    "# Import custom functions \n",
    "from functions import *"
   ]
  },
  {
   "cell_type": "markdown",
   "metadata": {},
   "source": [
    "## ~398K Tweets from August 14th, 2020 - November 19th, 2020"
   ]
  },
  {
   "cell_type": "code",
   "execution_count": 2,
   "metadata": {},
   "outputs": [
    {
     "name": "stdout",
     "output_type": "stream",
     "text": [
      "CPU times: user 2min 11s, sys: 2min 48s, total: 5min\n",
      "Wall time: 6min 37s\n"
     ]
    }
   ],
   "source": [
    "%%time\n",
    "\n",
    "df = pd.read_json('/Volumes/My Passport/Tweets/bcpoli_400k_extended.jsonl', lines=True)"
   ]
  },
  {
   "cell_type": "code",
   "execution_count": 5,
   "metadata": {},
   "outputs": [
    {
     "name": "stdout",
     "output_type": "stream",
     "text": [
      "<class 'pandas.core.frame.DataFrame'>\n",
      "RangeIndex: 384221 entries, 0 to 384220\n",
      "Data columns (total 31 columns):\n",
      " #   Column                     Non-Null Count   Dtype              \n",
      "---  ------                     --------------   -----              \n",
      " 0   created_at                 384221 non-null  datetime64[ns, UTC]\n",
      " 1   id                         384221 non-null  int64              \n",
      " 2   id_str                     384221 non-null  int64              \n",
      " 3   full_text                  384221 non-null  object             \n",
      " 4   truncated                  384221 non-null  bool               \n",
      " 5   display_text_range         384221 non-null  object             \n",
      " 6   entities                   384221 non-null  object             \n",
      " 7   source                     384221 non-null  object             \n",
      " 8   in_reply_to_status_id      26530 non-null   float64            \n",
      " 9   in_reply_to_status_id_str  26530 non-null   float64            \n",
      " 10  in_reply_to_user_id        29115 non-null   float64            \n",
      " 11  in_reply_to_user_id_str    29115 non-null   float64            \n",
      " 12  in_reply_to_screen_name    29115 non-null   object             \n",
      " 13  user                       384221 non-null  object             \n",
      " 14  geo                        35 non-null      object             \n",
      " 15  coordinates                35 non-null      object             \n",
      " 16  place                      3695 non-null    object             \n",
      " 17  contributors               0 non-null       float64            \n",
      " 18  retweeted_status           282507 non-null  object             \n",
      " 19  is_quote_status            384221 non-null  bool               \n",
      " 20  quoted_status_id           87145 non-null   float64            \n",
      " 21  quoted_status_id_str       87145 non-null   float64            \n",
      " 22  quoted_status_permalink    87145 non-null   object             \n",
      " 23  retweet_count              384221 non-null  int64              \n",
      " 24  favorite_count             384221 non-null  int64              \n",
      " 25  favorited                  384221 non-null  bool               \n",
      " 26  retweeted                  384221 non-null  bool               \n",
      " 27  lang                       384221 non-null  object             \n",
      " 28  quoted_status              26756 non-null   object             \n",
      " 29  possibly_sensitive         85009 non-null   float64            \n",
      " 30  extended_entities          22231 non-null   object             \n",
      "dtypes: bool(4), datetime64[ns, UTC](1), float64(8), int64(4), object(14)\n",
      "memory usage: 1.5 GB\n"
     ]
    }
   ],
   "source": [
    "df.info(memory_usage='deep')"
   ]
  },
  {
   "cell_type": "code",
   "execution_count": 3,
   "metadata": {},
   "outputs": [
    {
     "name": "stdout",
     "output_type": "stream",
     "text": [
      "CPU times: user 1.51 s, sys: 4.04 s, total: 5.55 s\n",
      "Wall time: 9.42 s\n"
     ]
    }
   ],
   "source": [
    "%%time\n",
    "# Make copy of imported data and set index to unique tweet ID\n",
    "\n",
    "raw = df.copy()\n",
    "raw.set_index('id_str', inplace=True)\n",
    "\n",
    "# Filter out columns\n",
    "\n",
    "raw = raw[['created_at','user','full_text','retweet_count']]\n",
    "\n",
    "# Extract features from user column dict with .get\n",
    "\n",
    "raw['user_name'] = raw['user'].apply(lambda x: x.get('screen_name'))\n",
    "\n",
    "# Drop user column\n",
    "\n",
    "raw.drop('user', axis=1, inplace=True)\n",
    "\n",
    "# Remove case sensitivity\n",
    "\n",
    "raw[\"full_text\"] = raw[\"full_text\"].str.lower()"
   ]
  },
  {
   "cell_type": "markdown",
   "metadata": {},
   "source": [
    "## Create a Data Cleaning Pipeline"
   ]
  },
  {
   "cell_type": "code",
   "execution_count": 68,
   "metadata": {},
   "outputs": [
    {
     "name": "stdout",
     "output_type": "stream",
     "text": [
      "CPU times: user 1.51 s, sys: 1.29 s, total: 2.8 s\n",
      "Wall time: 3.61 s\n"
     ]
    }
   ],
   "source": [
    "%%time\n",
    "\n",
    "# Pandas Processing Pipeline # Timed to compare against pure .apply above\n",
    "\n",
    "pipeline = pdp.ApplyByCols('full_text', covid_mention, 'covid_mention', drop=False)\n",
    "pipeline+= pdp.ApplyByCols('full_text', is_retweet, 'is_retweet', drop=False)\n",
    "pipeline+= pdp.ApplyByCols('full_text', preprocess, 'full_clean', drop=False)\n",
    "pipeline+= pdp.ApplyByCols('full_text', (lambda x: preprocess(x, hashtags=True)), 'no_hashtags', drop=False)\n",
    "raw = pipeline(raw)"
   ]
  },
  {
   "cell_type": "code",
   "execution_count": 89,
   "metadata": {},
   "outputs": [
    {
     "name": "stdout",
     "output_type": "stream",
     "text": [
      "<class 'pandas.core.frame.DataFrame'>\n",
      "Int64Index: 384221 entries, 1296949558409416704 to 1328850840669495296\n",
      "Data columns (total 8 columns):\n",
      " #   Column         Non-Null Count   Dtype              \n",
      "---  ------         --------------   -----              \n",
      " 0   created_at     384221 non-null  datetime64[ns, UTC]\n",
      " 1   full_text      384221 non-null  object             \n",
      " 2   covid_mention  384221 non-null  int64              \n",
      " 3   no_hashtags    384221 non-null  object             \n",
      " 4   full_clean     384221 non-null  object             \n",
      " 5   is_retweet     384221 non-null  int64              \n",
      " 6   retweet_count  384221 non-null  int64              \n",
      " 7   user_name      384221 non-null  object             \n",
      "dtypes: datetime64[ns, UTC](1), int64(3), object(4)\n",
      "memory usage: 298.0 MB\n"
     ]
    }
   ],
   "source": [
    "raw.info(memory_usage='deep')"
   ]
  },
  {
   "cell_type": "code",
   "execution_count": 60,
   "metadata": {},
   "outputs": [
    {
     "data": {
      "text/plain": [
       "(bc, liberals)           11017\n",
       "(john, horgan)            8474\n",
       "(bc, liberal)             7886\n",
       "(bonnie, henry)           7668\n",
       "(dr, bonnie)              7358\n",
       "(new, cases)              6807\n",
       "(bc, ndp)                 6088\n",
       "(andrew, wilkinson)       5667\n",
       "(british, columbians)     5046\n",
       "(dr, henry)               4971\n",
       "(british, columbia)       4951\n",
       "(bc, election)            3401\n",
       "(henry, says)             3088\n",
       "(snap, election)          2597\n",
       "(public, health)          2476\n",
       "(health, care)            2363\n",
       "(site, c)                 2316\n",
       "(fraser, health)          2273\n",
       "(old, growth)             2070\n",
       "(bc, greens)              2042\n",
       "dtype: int64"
      ]
     },
     "execution_count": 60,
     "metadata": {},
     "output_type": "execute_result"
    }
   ],
   "source": [
    "# Most frequent bigrams, hastags removed, stop words removed\n",
    "top_bigrams(raw, 20)"
   ]
  },
  {
   "cell_type": "code",
   "execution_count": 73,
   "metadata": {},
   "outputs": [
    {
     "data": {
      "text/plain": [
       "282652"
      ]
     },
     "execution_count": 73,
     "metadata": {},
     "output_type": "execute_result"
    }
   ],
   "source": [
    "# Total Retweets of 384221 tweets\n",
    "\n",
    "raw.is_retweet.sum()"
   ]
  },
  {
   "cell_type": "code",
   "execution_count": 74,
   "metadata": {},
   "outputs": [
    {
     "data": {
      "text/plain": [
       "84035"
      ]
     },
     "execution_count": 74,
     "metadata": {},
     "output_type": "execute_result"
    }
   ],
   "source": [
    "# Estimated total covid/pandemic mentions in 384221 tweets\n",
    "\n",
    "raw.covid_mention.sum()"
   ]
  },
  {
   "cell_type": "code",
   "execution_count": 70,
   "metadata": {},
   "outputs": [],
   "source": [
    "#Create a new DataFrame of only original tweets\n",
    "df_no_rt = raw[raw['is_retweet'] == 0]"
   ]
  },
  {
   "cell_type": "code",
   "execution_count": 71,
   "metadata": {},
   "outputs": [
    {
     "name": "stdout",
     "output_type": "stream",
     "text": [
      "<class 'pandas.core.frame.DataFrame'>\n",
      "Int64Index: 101569 entries, 1296949926543335424 to 1328850997704237056\n",
      "Data columns (total 8 columns):\n",
      " #   Column         Non-Null Count   Dtype              \n",
      "---  ------         --------------   -----              \n",
      " 0   created_at     101569 non-null  datetime64[ns, UTC]\n",
      " 1   full_text      101569 non-null  object             \n",
      " 2   covid_mention  101569 non-null  int64              \n",
      " 3   no_hashtags    101569 non-null  object             \n",
      " 4   full_clean     101569 non-null  object             \n",
      " 5   is_retweet     101569 non-null  int64              \n",
      " 6   retweet_count  101569 non-null  int64              \n",
      " 7   user_name      101569 non-null  object             \n",
      "dtypes: datetime64[ns, UTC](1), int64(3), object(4)\n",
      "memory usage: 7.0+ MB\n"
     ]
    }
   ],
   "source": [
    "df_no_rt.info()"
   ]
  },
  {
   "cell_type": "code",
   "execution_count": 83,
   "metadata": {},
   "outputs": [
    {
     "name": "stdout",
     "output_type": "stream",
     "text": [
      "Estimated percentage of tweets related to #bcpoli that mention covid or the pandemic in some way: 27.72 %\n",
      "Total of 101569 original tweets related to #bcpoli that mention covid or the pandemic in some way: 28152\n"
     ]
    }
   ],
   "source": [
    "# Estimated total covid/pandemic mentions in 101569 original tweets\n",
    "\n",
    "covid_no_rt = df_no_rt.covid_mention.sum()\n",
    "mention_ratio_no_rt = (covid_no_rt/101569) * 100\n",
    "\n",
    "print('Estimated percentage of tweets related to #bcpoli that mention covid or the pandemic in some way:', '%0.2f'% mention_ratio_no_rt,'%')\n",
    "print('Total of 101569 original tweets related to #bcpoli that mention covid or the pandemic in some way:', covid_no_rt)"
   ]
  },
  {
   "cell_type": "code",
   "execution_count": 87,
   "metadata": {},
   "outputs": [
    {
     "data": {
      "text/plain": [
       "(bc, liberals)            2448\n",
       "(bonnie, henry)           1709\n",
       "(dr, bonnie)              1697\n",
       "(john, horgan)            1548\n",
       "(bc, liberal)             1535\n",
       "(bc, ndp)                 1493\n",
       "(new, cases)              1466\n",
       "(dr, henry)               1305\n",
       "(british, columbians)     1180\n",
       "(british, columbia)       1067\n",
       "(andrew, wilkinson)       1027\n",
       "(bc, election)             916\n",
       "(snap, election)           858\n",
       "(public, health)           797\n",
       "(active, cases)            769\n",
       "(henry, says)              699\n",
       "(health, care)             630\n",
       "(provincial, election)     614\n",
       "(fraser, health)           604\n",
       "(old, growth)              574\n",
       "dtype: int64"
      ]
     },
     "execution_count": 87,
     "metadata": {},
     "output_type": "execute_result"
    }
   ],
   "source": [
    "# Top bigrams from original tweets only\n",
    "\n",
    "top_bigrams(df_no_rt,20)"
   ]
  },
  {
   "cell_type": "code",
   "execution_count": 92,
   "metadata": {},
   "outputs": [
    {
     "name": "stdout",
     "output_type": "stream",
     "text": [
      "<class 'pandas.core.frame.DataFrame'>\n",
      "Int64Index: 73417 entries, 1296950909239357440 to 1328850935632719872\n",
      "Data columns (total 8 columns):\n",
      " #   Column         Non-Null Count  Dtype              \n",
      "---  ------         --------------  -----              \n",
      " 0   created_at     73417 non-null  datetime64[ns, UTC]\n",
      " 1   full_text      73417 non-null  object             \n",
      " 2   covid_mention  73417 non-null  int64              \n",
      " 3   no_hashtags    73417 non-null  object             \n",
      " 4   full_clean     73417 non-null  object             \n",
      " 5   is_retweet     73417 non-null  int64              \n",
      " 6   retweet_count  73417 non-null  int64              \n",
      " 7   user_name      73417 non-null  object             \n",
      "dtypes: datetime64[ns, UTC](1), int64(3), object(4)\n",
      "memory usage: 5.0+ MB\n"
     ]
    }
   ],
   "source": [
    "# Create a new DatFrame with only non-covid tweets\n",
    "# This will be used to guage the covids impact on sentiment\n",
    "\n",
    "df_no_rt_no_covid = df_no_rt[df_no_rt['covid_mention'] == 0]\n",
    "df_no_rt_no_covid.info()"
   ]
  },
  {
   "cell_type": "code",
   "execution_count": 93,
   "metadata": {},
   "outputs": [
    {
     "name": "stdout",
     "output_type": "stream",
     "text": [
      "<class 'pandas.core.frame.DataFrame'>\n",
      "Int64Index: 28152 entries, 1296949926543335424 to 1328850997704237056\n",
      "Data columns (total 8 columns):\n",
      " #   Column         Non-Null Count  Dtype              \n",
      "---  ------         --------------  -----              \n",
      " 0   created_at     28152 non-null  datetime64[ns, UTC]\n",
      " 1   full_text      28152 non-null  object             \n",
      " 2   covid_mention  28152 non-null  int64              \n",
      " 3   no_hashtags    28152 non-null  object             \n",
      " 4   full_clean     28152 non-null  object             \n",
      " 5   is_retweet     28152 non-null  int64              \n",
      " 6   retweet_count  28152 non-null  int64              \n",
      " 7   user_name      28152 non-null  object             \n",
      "dtypes: datetime64[ns, UTC](1), int64(3), object(4)\n",
      "memory usage: 1.9+ MB\n"
     ]
    }
   ],
   "source": [
    "# Create a new DatFrame with only covid tweets\n",
    "# This will be used to guage the covids impact on sentiment\n",
    "\n",
    "df_no_rt_covid_mention = df_no_rt[df_no_rt['covid_mention'] == 1]\n",
    "df_no_rt_covid_mention.info()"
   ]
  },
  {
   "cell_type": "code",
   "execution_count": null,
   "metadata": {},
   "outputs": [],
   "source": []
  }
 ],
 "metadata": {
  "kernelspec": {
   "display_name": "data_bootcamp",
   "language": "python",
   "name": "data_bootcamp"
  },
  "language_info": {
   "codemirror_mode": {
    "name": "ipython",
    "version": 3
   },
   "file_extension": ".py",
   "mimetype": "text/x-python",
   "name": "python",
   "nbconvert_exporter": "python",
   "pygments_lexer": "ipython3",
   "version": "3.7.8"
  }
 },
 "nbformat": 4,
 "nbformat_minor": 4
}
