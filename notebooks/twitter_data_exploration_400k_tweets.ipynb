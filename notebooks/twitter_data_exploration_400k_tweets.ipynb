{
 "cells": [
  {
   "cell_type": "markdown",
   "metadata": {},
   "source": [
    "# Exploring the Complete Twitter Dataset\n",
    "\n",
    "* The purpose of this notebook is to explore the full dataset of 400k tweets relating to #bcpoli\n",
    "* Tweet created dates range from August 14, 2020 to November 19, 2020\n",
    "* Columns not required for analysis will be dropped here.\n",
    " * The remaining data will be exported for preprocessing in \"classify_unlabelled_tweets.ipynb\""
   ]
  },
  {
   "cell_type": "code",
   "execution_count": 1,
   "metadata": {},
   "outputs": [],
   "source": [
    "import sys  \n",
    "sys.path.insert(0, 'PATH/TO/data_bootcamp/data-science-final-project/scripts/')\n",
    "\n",
    "import pandas as pd\n",
    "import numpy as np\n",
    "import pdpipe as pdp\n",
    "\n",
    "import re\n",
    "import string\n",
    "import nltk\n",
    "from nltk.tokenize import word_tokenize\n",
    "from nltk.corpus import stopwords\n",
    "stop_words = set(stopwords.words('english'))\n",
    "\n",
    "from IPython.display import JSON\n",
    "import matplotlib.pyplot as plt\n",
    "import pickle\n",
    "\n",
    "# Pandas Display Settings, if you wish\n",
    "\n",
    "pd.set_option('display.max_colwidth', None)\n",
    "#pd.set_option(\"display.max_columns\", 30)\n",
    "\n",
    "# Import custom functions \n",
    "from functions import *"
   ]
  },
  {
   "cell_type": "markdown",
   "metadata": {},
   "source": [
    "## ~398K Tweets from August 14th, 2020 - November 19th, 2020"
   ]
  },
  {
   "cell_type": "code",
   "execution_count": 2,
   "metadata": {},
   "outputs": [
    {
     "name": "stdout",
     "output_type": "stream",
     "text": [
      "CPU times: user 2min 11s, sys: 2min 48s, total: 5min\n",
      "Wall time: 6min 37s\n"
     ]
    }
   ],
   "source": [
    "%%time\n",
    "\n",
    "df = pd.read_json('/Volumes/My Passport/Tweets/bcpoli_400k_extended.jsonl', lines=True)"
   ]
  },
  {
   "cell_type": "code",
   "execution_count": 5,
   "metadata": {},
   "outputs": [
    {
     "name": "stdout",
     "output_type": "stream",
     "text": [
      "<class 'pandas.core.frame.DataFrame'>\n",
      "RangeIndex: 384221 entries, 0 to 384220\n",
      "Data columns (total 31 columns):\n",
      " #   Column                     Non-Null Count   Dtype              \n",
      "---  ------                     --------------   -----              \n",
      " 0   created_at                 384221 non-null  datetime64[ns, UTC]\n",
      " 1   id                         384221 non-null  int64              \n",
      " 2   id_str                     384221 non-null  int64              \n",
      " 3   full_text                  384221 non-null  object             \n",
      " 4   truncated                  384221 non-null  bool               \n",
      " 5   display_text_range         384221 non-null  object             \n",
      " 6   entities                   384221 non-null  object             \n",
      " 7   source                     384221 non-null  object             \n",
      " 8   in_reply_to_status_id      26530 non-null   float64            \n",
      " 9   in_reply_to_status_id_str  26530 non-null   float64            \n",
      " 10  in_reply_to_user_id        29115 non-null   float64            \n",
      " 11  in_reply_to_user_id_str    29115 non-null   float64            \n",
      " 12  in_reply_to_screen_name    29115 non-null   object             \n",
      " 13  user                       384221 non-null  object             \n",
      " 14  geo                        35 non-null      object             \n",
      " 15  coordinates                35 non-null      object             \n",
      " 16  place                      3695 non-null    object             \n",
      " 17  contributors               0 non-null       float64            \n",
      " 18  retweeted_status           282507 non-null  object             \n",
      " 19  is_quote_status            384221 non-null  bool               \n",
      " 20  quoted_status_id           87145 non-null   float64            \n",
      " 21  quoted_status_id_str       87145 non-null   float64            \n",
      " 22  quoted_status_permalink    87145 non-null   object             \n",
      " 23  retweet_count              384221 non-null  int64              \n",
      " 24  favorite_count             384221 non-null  int64              \n",
      " 25  favorited                  384221 non-null  bool               \n",
      " 26  retweeted                  384221 non-null  bool               \n",
      " 27  lang                       384221 non-null  object             \n",
      " 28  quoted_status              26756 non-null   object             \n",
      " 29  possibly_sensitive         85009 non-null   float64            \n",
      " 30  extended_entities          22231 non-null   object             \n",
      "dtypes: bool(4), datetime64[ns, UTC](1), float64(8), int64(4), object(14)\n",
      "memory usage: 1.5 GB\n"
     ]
    }
   ],
   "source": [
    "df.info(memory_usage='deep')"
   ]
  },
  {
   "cell_type": "code",
   "execution_count": 3,
   "metadata": {},
   "outputs": [
    {
     "name": "stdout",
     "output_type": "stream",
     "text": [
      "CPU times: user 1.51 s, sys: 4.04 s, total: 5.55 s\n",
      "Wall time: 9.42 s\n"
     ]
    }
   ],
   "source": [
    "%%time\n",
    "# Make copy of imported data and set index to unique tweet ID\n",
    "\n",
    "raw = df.copy()\n",
    "raw.set_index('id_str', inplace=True)\n",
    "\n",
    "# Filter out columns\n",
    "\n",
    "raw = raw[['created_at','user','full_text','retweet_count']]\n",
    "\n",
    "# Extract features from user column dict with .get\n",
    "\n",
    "raw['user_name'] = raw['user'].apply(lambda x: x.get('screen_name'))\n",
    "\n",
    "# Drop user column\n",
    "\n",
    "raw.drop('user', axis=1, inplace=True)\n",
    "\n",
    "# Remove case sensitivity\n",
    "\n",
    "raw[\"full_text\"] = raw[\"full_text\"].str.lower()"
   ]
  },
  {
   "cell_type": "markdown",
   "metadata": {},
   "source": [
    "## Creating a Data Processing Pipeline"
   ]
  },
  {
   "cell_type": "code",
   "execution_count": 68,
   "metadata": {},
   "outputs": [
    {
     "name": "stdout",
     "output_type": "stream",
     "text": [
      "CPU times: user 1.51 s, sys: 1.29 s, total: 2.8 s\n",
      "Wall time: 3.61 s\n"
     ]
    }
   ],
   "source": [
    "%%time\n",
    "\n",
    "# Pandas Processing Pipeline # Timed to compare against pure .apply above\n",
    "\n",
    "pipeline = pdp.ApplyByCols('full_text', covid_mention, 'covid_mention', drop=False)\n",
    "pipeline+= pdp.ApplyByCols('full_text', is_retweet, 'is_retweet', drop=False)\n",
    "pipeline+= pdp.ApplyByCols('full_text', preprocess, 'full_clean', drop=False)\n",
    "pipeline+= pdp.ApplyByCols('full_text', (lambda x: preprocess(x, hashtags=True)), 'no_hashtags', drop=False) \n",
    "raw = pipeline(raw)"
   ]
  },
  {
   "cell_type": "code",
   "execution_count": 102,
   "metadata": {},
   "outputs": [
    {
     "name": "stdout",
     "output_type": "stream",
     "text": [
      "<class 'pandas.core.frame.DataFrame'>\n",
      "Int64Index: 384221 entries, 1296949558409416704 to 1328850840669495296\n",
      "Data columns (total 8 columns):\n",
      " #   Column         Non-Null Count   Dtype              \n",
      "---  ------         --------------   -----              \n",
      " 0   created_at     384221 non-null  datetime64[ns, UTC]\n",
      " 1   full_text      384221 non-null  object             \n",
      " 2   covid_mention  384221 non-null  int64              \n",
      " 3   no_hashtags    384221 non-null  object             \n",
      " 4   full_clean     384221 non-null  object             \n",
      " 5   is_retweet     384221 non-null  int64              \n",
      " 6   retweet_count  384221 non-null  int64              \n",
      " 7   user_name      384221 non-null  object             \n",
      "dtypes: datetime64[ns, UTC](1), int64(3), object(4)\n",
      "memory usage: 303.4 MB\n"
     ]
    }
   ],
   "source": [
    "#raw.to_pickle(\"PATH/TO/data/df_no_rt_covid_mention.pkl\")\n",
    "\n",
    "raw.info(memory_usage='deep')"
   ]
  },
  {
   "cell_type": "code",
   "execution_count": 103,
   "metadata": {},
   "outputs": [
    {
     "data": {
      "text/html": [
       "<div>\n",
       "<style scoped>\n",
       "    .dataframe tbody tr th:only-of-type {\n",
       "        vertical-align: middle;\n",
       "    }\n",
       "\n",
       "    .dataframe tbody tr th {\n",
       "        vertical-align: top;\n",
       "    }\n",
       "\n",
       "    .dataframe thead th {\n",
       "        text-align: right;\n",
       "    }\n",
       "</style>\n",
       "<table border=\"1\" class=\"dataframe\">\n",
       "  <thead>\n",
       "    <tr style=\"text-align: right;\">\n",
       "      <th></th>\n",
       "      <th>created_at</th>\n",
       "      <th>full_text</th>\n",
       "      <th>covid_mention</th>\n",
       "      <th>no_hashtags</th>\n",
       "      <th>full_clean</th>\n",
       "      <th>is_retweet</th>\n",
       "      <th>retweet_count</th>\n",
       "      <th>user_name</th>\n",
       "    </tr>\n",
       "    <tr>\n",
       "      <th>id_str</th>\n",
       "      <th></th>\n",
       "      <th></th>\n",
       "      <th></th>\n",
       "      <th></th>\n",
       "      <th></th>\n",
       "      <th></th>\n",
       "      <th></th>\n",
       "      <th></th>\n",
       "    </tr>\n",
       "  </thead>\n",
       "  <tbody>\n",
       "    <tr>\n",
       "      <th>1296949558409416704</th>\n",
       "      <td>2020-08-21 23:17:25+00:00</td>\n",
       "      <td>rt @davemccr: hey @jjhorgan not sure how close gatherings of students in schools is any different than 30 people at a party, sure we’ll hav…</td>\n",
       "      <td>0</td>\n",
       "      <td>[hey, sure, close, gatherings, students, schools, different, 30, people, party, sure, well, hav]</td>\n",
       "      <td>[hey, sure, close, gatherings, students, schools, different, 30, people, party, sure, well, hav]</td>\n",
       "      <td>1</td>\n",
       "      <td>14</td>\n",
       "      <td>crickets01</td>\n",
       "    </tr>\n",
       "    <tr>\n",
       "      <th>1296949926543335424</th>\n",
       "      <td>2020-08-21 23:18:53+00:00</td>\n",
       "      <td>hot take:\\n\\nif teachers were paid what they're actually worth, they wouldn't be pissing their pants about going back to work right now.\\n\\n#bced\\n#bcpoli\\n#cdnpoli\\n#covid19psyop</td>\n",
       "      <td>1</td>\n",
       "      <td>[hot, take, teachers, paid, theyre, actually, worth, wouldnt, pissing, pants, going, back, work, right]</td>\n",
       "      <td>[hot, take, teachers, paid, theyre, actually, worth, wouldnt, pissing, pants, going, back, work, right, bced, bcpoli, cdnpoli, covid19psyop]</td>\n",
       "      <td>0</td>\n",
       "      <td>0</td>\n",
       "      <td>ie_mack</td>\n",
       "    </tr>\n",
       "    <tr>\n",
       "      <th>1296949948483682304</th>\n",
       "      <td>2020-08-21 23:18:58+00:00</td>\n",
       "      <td>rt @bcedprobs: if bc’s school superintendents stood up &amp;amp; declared that what they are being told to do puts their students, staff &amp;amp; communit…</td>\n",
       "      <td>0</td>\n",
       "      <td>[bcs, school, superintendents, stood, amp, declared, told, puts, students, staff, amp, communit]</td>\n",
       "      <td>[bcs, school, superintendents, stood, amp, declared, told, puts, students, staff, amp, communit]</td>\n",
       "      <td>1</td>\n",
       "      <td>37</td>\n",
       "      <td>TanisMaxfield</td>\n",
       "    </tr>\n",
       "    <tr>\n",
       "      <th>1296950296657068032</th>\n",
       "      <td>2020-08-21 23:20:21+00:00</td>\n",
       "      <td>5 months after starting containment measures and we're back to where we began.\\n\\n5 months wasted.   all our hard work down the drain because govt is rushing to re-open.   @cdcofbc \\n#bcpoli #covid19 https://t.co/2rznis3zjy</td>\n",
       "      <td>1</td>\n",
       "      <td>[5, months, starting, containment, measures, back, began, 5, months, wasted, hard, work, drain, govt, rushing, reopen]</td>\n",
       "      <td>[5, months, starting, containment, measures, back, began, 5, months, wasted, hard, work, drain, govt, rushing, reopen, bcpoli, covid19]</td>\n",
       "      <td>0</td>\n",
       "      <td>0</td>\n",
       "      <td>DavidWa59907969</td>\n",
       "    </tr>\n",
       "    <tr>\n",
       "      <th>1296950387337920512</th>\n",
       "      <td>2020-08-21 23:20:43+00:00</td>\n",
       "      <td>rt @impishchimp: how about the ministry of education not force kids and teachers into dangerously packed classes with no distancing during…</td>\n",
       "      <td>0</td>\n",
       "      <td>[ministry, education, force, kids, teachers, dangerously, packed, classes, distancing]</td>\n",
       "      <td>[ministry, education, force, kids, teachers, dangerously, packed, classes, distancing]</td>\n",
       "      <td>1</td>\n",
       "      <td>18</td>\n",
       "      <td>McdonaldMcdo54</td>\n",
       "    </tr>\n",
       "    <tr>\n",
       "      <th>...</th>\n",
       "      <td>...</td>\n",
       "      <td>...</td>\n",
       "      <td>...</td>\n",
       "      <td>...</td>\n",
       "      <td>...</td>\n",
       "      <td>...</td>\n",
       "      <td>...</td>\n",
       "      <td>...</td>\n",
       "    </tr>\n",
       "    <tr>\n",
       "      <th>1328851735675211776</th>\n",
       "      <td>2020-11-18 00:05:17+00:00</td>\n",
       "      <td>rt @jessicajbalzer: b.c. premier john horgan will be having a media availability tomorrow (nov. 18) at 10:30 a.m. #cityofpg #bcpoli #bced #…</td>\n",
       "      <td>0</td>\n",
       "      <td>[bc, premier, john, horgan, media, availability, tomorrow, nov, 18, 1030]</td>\n",
       "      <td>[bc, premier, john, horgan, media, availability, tomorrow, nov, 18, 1030, cityofpg, bcpoli, bced]</td>\n",
       "      <td>1</td>\n",
       "      <td>1</td>\n",
       "      <td>PGMatters</td>\n",
       "    </tr>\n",
       "    <tr>\n",
       "      <th>1328852620451090432</th>\n",
       "      <td>2020-11-18 00:08:48+00:00</td>\n",
       "      <td>rt @lizayuzda: premier @jjhorgan speaking to media tomorrow morning.\\n#bcpoli @news1130 https://t.co/5iq7ninmyd</td>\n",
       "      <td>0</td>\n",
       "      <td>[premier, speaking, media, tomorrow, morning]</td>\n",
       "      <td>[premier, speaking, media, tomorrow, morning, bcpoli]</td>\n",
       "      <td>1</td>\n",
       "      <td>13</td>\n",
       "      <td>mike_D_hall</td>\n",
       "    </tr>\n",
       "    <tr>\n",
       "      <th>1328851232899796992</th>\n",
       "      <td>2020-11-18 00:03:17+00:00</td>\n",
       "      <td>rt @richardzussman: the judicial recount is done in west van-sea to sky. liberal jordan sturdy has won. sturdy received 9,249 votes and gre…</td>\n",
       "      <td>0</td>\n",
       "      <td>[judicial, recount, done, west, vansea, sky, liberal, jordan, sturdy, sturdy, received, 9249, votes, gre]</td>\n",
       "      <td>[judicial, recount, done, west, vansea, sky, liberal, jordan, sturdy, sturdy, received, 9249, votes, gre]</td>\n",
       "      <td>1</td>\n",
       "      <td>9</td>\n",
       "      <td>megasali</td>\n",
       "    </tr>\n",
       "    <tr>\n",
       "      <th>1328851629873852416</th>\n",
       "      <td>2020-11-18 00:04:52+00:00</td>\n",
       "      <td>rt @jevlloyd: a 74-week wait for an #autism #assessment is nothing short of disgraceful.\\n\\nw/o a diagnosis, gov't funding can't be released,…</td>\n",
       "      <td>0</td>\n",
       "      <td>[74week, wait, nothing, short, disgraceful, wo, diagnosis, govt, funding, cant, released]</td>\n",
       "      <td>[74week, wait, autism, assessment, nothing, short, disgraceful, wo, diagnosis, govt, funding, cant, released]</td>\n",
       "      <td>1</td>\n",
       "      <td>4</td>\n",
       "      <td>RMCarpiano</td>\n",
       "    </tr>\n",
       "    <tr>\n",
       "      <th>1328850840669495296</th>\n",
       "      <td>2020-11-18 00:01:43+00:00</td>\n",
       "      <td>rt @talkerteacher: this is not funny. i do not share in this laughter. \\n\\nare our legitimate concerns as teachers and parents in #bced funny…</td>\n",
       "      <td>0</td>\n",
       "      <td>[funny, share, laughter, legitimate, concerns, teachers, parents, funny]</td>\n",
       "      <td>[funny, share, laughter, legitimate, concerns, teachers, parents, bced, funny]</td>\n",
       "      <td>1</td>\n",
       "      <td>24</td>\n",
       "      <td>landcrabmech</td>\n",
       "    </tr>\n",
       "  </tbody>\n",
       "</table>\n",
       "<p>384221 rows × 8 columns</p>\n",
       "</div>"
      ],
      "text/plain": [
       "                                   created_at  \\\n",
       "id_str                                          \n",
       "1296949558409416704 2020-08-21 23:17:25+00:00   \n",
       "1296949926543335424 2020-08-21 23:18:53+00:00   \n",
       "1296949948483682304 2020-08-21 23:18:58+00:00   \n",
       "1296950296657068032 2020-08-21 23:20:21+00:00   \n",
       "1296950387337920512 2020-08-21 23:20:43+00:00   \n",
       "...                                       ...   \n",
       "1328851735675211776 2020-11-18 00:05:17+00:00   \n",
       "1328852620451090432 2020-11-18 00:08:48+00:00   \n",
       "1328851232899796992 2020-11-18 00:03:17+00:00   \n",
       "1328851629873852416 2020-11-18 00:04:52+00:00   \n",
       "1328850840669495296 2020-11-18 00:01:43+00:00   \n",
       "\n",
       "                                                                                                                                                                                                                                           full_text  \\\n",
       "id_str                                                                                                                                                                                                                                                 \n",
       "1296949558409416704                                                                                     rt @davemccr: hey @jjhorgan not sure how close gatherings of students in schools is any different than 30 people at a party, sure we’ll hav…   \n",
       "1296949926543335424                                              hot take:\\n\\nif teachers were paid what they're actually worth, they wouldn't be pissing their pants about going back to work right now.\\n\\n#bced\\n#bcpoli\\n#cdnpoli\\n#covid19psyop   \n",
       "1296949948483682304                                                                             rt @bcedprobs: if bc’s school superintendents stood up &amp; declared that what they are being told to do puts their students, staff &amp; communit…   \n",
       "1296950296657068032  5 months after starting containment measures and we're back to where we began.\\n\\n5 months wasted.   all our hard work down the drain because govt is rushing to re-open.   @cdcofbc \\n#bcpoli #covid19 https://t.co/2rznis3zjy   \n",
       "1296950387337920512                                                                                      rt @impishchimp: how about the ministry of education not force kids and teachers into dangerously packed classes with no distancing during…   \n",
       "...                                                                                                                                                                                                                                              ...   \n",
       "1328851735675211776                                                                                     rt @jessicajbalzer: b.c. premier john horgan will be having a media availability tomorrow (nov. 18) at 10:30 a.m. #cityofpg #bcpoli #bced #…   \n",
       "1328852620451090432                                                                                                                  rt @lizayuzda: premier @jjhorgan speaking to media tomorrow morning.\\n#bcpoli @news1130 https://t.co/5iq7ninmyd   \n",
       "1328851232899796992                                                                                     rt @richardzussman: the judicial recount is done in west van-sea to sky. liberal jordan sturdy has won. sturdy received 9,249 votes and gre…   \n",
       "1328851629873852416                                                                                   rt @jevlloyd: a 74-week wait for an #autism #assessment is nothing short of disgraceful.\\n\\nw/o a diagnosis, gov't funding can't be released,…   \n",
       "1328850840669495296                                                                                   rt @talkerteacher: this is not funny. i do not share in this laughter. \\n\\nare our legitimate concerns as teachers and parents in #bced funny…   \n",
       "\n",
       "                     covid_mention  \\\n",
       "id_str                               \n",
       "1296949558409416704              0   \n",
       "1296949926543335424              1   \n",
       "1296949948483682304              0   \n",
       "1296950296657068032              1   \n",
       "1296950387337920512              0   \n",
       "...                            ...   \n",
       "1328851735675211776              0   \n",
       "1328852620451090432              0   \n",
       "1328851232899796992              0   \n",
       "1328851629873852416              0   \n",
       "1328850840669495296              0   \n",
       "\n",
       "                                                                                                                                no_hashtags  \\\n",
       "id_str                                                                                                                                        \n",
       "1296949558409416704                        [hey, sure, close, gatherings, students, schools, different, 30, people, party, sure, well, hav]   \n",
       "1296949926543335424                 [hot, take, teachers, paid, theyre, actually, worth, wouldnt, pissing, pants, going, back, work, right]   \n",
       "1296949948483682304                        [bcs, school, superintendents, stood, amp, declared, told, puts, students, staff, amp, communit]   \n",
       "1296950296657068032  [5, months, starting, containment, measures, back, began, 5, months, wasted, hard, work, drain, govt, rushing, reopen]   \n",
       "1296950387337920512                                  [ministry, education, force, kids, teachers, dangerously, packed, classes, distancing]   \n",
       "...                                                                                                                                     ...   \n",
       "1328851735675211776                                               [bc, premier, john, horgan, media, availability, tomorrow, nov, 18, 1030]   \n",
       "1328852620451090432                                                                           [premier, speaking, media, tomorrow, morning]   \n",
       "1328851232899796992               [judicial, recount, done, west, vansea, sky, liberal, jordan, sturdy, sturdy, received, 9249, votes, gre]   \n",
       "1328851629873852416                               [74week, wait, nothing, short, disgraceful, wo, diagnosis, govt, funding, cant, released]   \n",
       "1328850840669495296                                                [funny, share, laughter, legitimate, concerns, teachers, parents, funny]   \n",
       "\n",
       "                                                                                                                                                       full_clean  \\\n",
       "id_str                                                                                                                                                              \n",
       "1296949558409416704                                              [hey, sure, close, gatherings, students, schools, different, 30, people, party, sure, well, hav]   \n",
       "1296949926543335424  [hot, take, teachers, paid, theyre, actually, worth, wouldnt, pissing, pants, going, back, work, right, bced, bcpoli, cdnpoli, covid19psyop]   \n",
       "1296949948483682304                                              [bcs, school, superintendents, stood, amp, declared, told, puts, students, staff, amp, communit]   \n",
       "1296950296657068032       [5, months, starting, containment, measures, back, began, 5, months, wasted, hard, work, drain, govt, rushing, reopen, bcpoli, covid19]   \n",
       "1296950387337920512                                                        [ministry, education, force, kids, teachers, dangerously, packed, classes, distancing]   \n",
       "...                                                                                                                                                           ...   \n",
       "1328851735675211776                                             [bc, premier, john, horgan, media, availability, tomorrow, nov, 18, 1030, cityofpg, bcpoli, bced]   \n",
       "1328852620451090432                                                                                         [premier, speaking, media, tomorrow, morning, bcpoli]   \n",
       "1328851232899796992                                     [judicial, recount, done, west, vansea, sky, liberal, jordan, sturdy, sturdy, received, 9249, votes, gre]   \n",
       "1328851629873852416                                 [74week, wait, autism, assessment, nothing, short, disgraceful, wo, diagnosis, govt, funding, cant, released]   \n",
       "1328850840669495296                                                                [funny, share, laughter, legitimate, concerns, teachers, parents, bced, funny]   \n",
       "\n",
       "                     is_retweet  retweet_count        user_name  \n",
       "id_str                                                           \n",
       "1296949558409416704           1             14       crickets01  \n",
       "1296949926543335424           0              0          ie_mack  \n",
       "1296949948483682304           1             37    TanisMaxfield  \n",
       "1296950296657068032           0              0  DavidWa59907969  \n",
       "1296950387337920512           1             18   McdonaldMcdo54  \n",
       "...                         ...            ...              ...  \n",
       "1328851735675211776           1              1        PGMatters  \n",
       "1328852620451090432           1             13      mike_D_hall  \n",
       "1328851232899796992           1              9         megasali  \n",
       "1328851629873852416           1              4       RMCarpiano  \n",
       "1328850840669495296           1             24     landcrabmech  \n",
       "\n",
       "[384221 rows x 8 columns]"
      ]
     },
     "execution_count": 103,
     "metadata": {},
     "output_type": "execute_result"
    }
   ],
   "source": [
    "raw"
   ]
  },
  {
   "cell_type": "code",
   "execution_count": 60,
   "metadata": {},
   "outputs": [
    {
     "data": {
      "text/plain": [
       "(bc, liberals)           11017\n",
       "(john, horgan)            8474\n",
       "(bc, liberal)             7886\n",
       "(bonnie, henry)           7668\n",
       "(dr, bonnie)              7358\n",
       "(new, cases)              6807\n",
       "(bc, ndp)                 6088\n",
       "(andrew, wilkinson)       5667\n",
       "(british, columbians)     5046\n",
       "(dr, henry)               4971\n",
       "(british, columbia)       4951\n",
       "(bc, election)            3401\n",
       "(henry, says)             3088\n",
       "(snap, election)          2597\n",
       "(public, health)          2476\n",
       "(health, care)            2363\n",
       "(site, c)                 2316\n",
       "(fraser, health)          2273\n",
       "(old, growth)             2070\n",
       "(bc, greens)              2042\n",
       "dtype: int64"
      ]
     },
     "execution_count": 60,
     "metadata": {},
     "output_type": "execute_result"
    }
   ],
   "source": [
    "# Most frequent bigrams, hastags removed, stop words removed\n",
    "top_bigrams(raw, 20)"
   ]
  },
  {
   "cell_type": "code",
   "execution_count": 73,
   "metadata": {},
   "outputs": [
    {
     "data": {
      "text/plain": [
       "282652"
      ]
     },
     "execution_count": 73,
     "metadata": {},
     "output_type": "execute_result"
    }
   ],
   "source": [
    "# Total Retweets of 384221 tweets\n",
    "\n",
    "raw.is_retweet.sum()"
   ]
  },
  {
   "cell_type": "code",
   "execution_count": 74,
   "metadata": {},
   "outputs": [
    {
     "data": {
      "text/plain": [
       "84035"
      ]
     },
     "execution_count": 74,
     "metadata": {},
     "output_type": "execute_result"
    }
   ],
   "source": [
    "# Estimated total covid/pandemic mentions in 384221 tweets\n",
    "\n",
    "raw.covid_mention.sum()"
   ]
  },
  {
   "cell_type": "code",
   "execution_count": 70,
   "metadata": {},
   "outputs": [],
   "source": [
    "#Create a new DataFrame of only original tweets\n",
    "df_no_rt = raw[raw['is_retweet'] == 0]"
   ]
  },
  {
   "cell_type": "code",
   "execution_count": 71,
   "metadata": {},
   "outputs": [
    {
     "name": "stdout",
     "output_type": "stream",
     "text": [
      "<class 'pandas.core.frame.DataFrame'>\n",
      "Int64Index: 101569 entries, 1296949926543335424 to 1328850997704237056\n",
      "Data columns (total 8 columns):\n",
      " #   Column         Non-Null Count   Dtype              \n",
      "---  ------         --------------   -----              \n",
      " 0   created_at     101569 non-null  datetime64[ns, UTC]\n",
      " 1   full_text      101569 non-null  object             \n",
      " 2   covid_mention  101569 non-null  int64              \n",
      " 3   no_hashtags    101569 non-null  object             \n",
      " 4   full_clean     101569 non-null  object             \n",
      " 5   is_retweet     101569 non-null  int64              \n",
      " 6   retweet_count  101569 non-null  int64              \n",
      " 7   user_name      101569 non-null  object             \n",
      "dtypes: datetime64[ns, UTC](1), int64(3), object(4)\n",
      "memory usage: 7.0+ MB\n"
     ]
    }
   ],
   "source": [
    "df_no_rt.info()"
   ]
  },
  {
   "cell_type": "code",
   "execution_count": 83,
   "metadata": {},
   "outputs": [
    {
     "name": "stdout",
     "output_type": "stream",
     "text": [
      "Estimated percentage of tweets related to #bcpoli that mention covid or the pandemic in some way: 27.72 %\n",
      "Total of 101569 original tweets related to #bcpoli that mention covid or the pandemic in some way: 28152\n"
     ]
    }
   ],
   "source": [
    "# Estimated total covid/pandemic mentions in 101569 original tweets\n",
    "\n",
    "covid_no_rt = df_no_rt.covid_mention.sum()\n",
    "mention_ratio_no_rt = (covid_no_rt/101569) * 100\n",
    "\n",
    "print('Estimated percentage of tweets related to #bcpoli that mention covid or the pandemic in some way:', '%0.2f'% mention_ratio_no_rt,'%')\n",
    "print('Total of 101569 original tweets related to #bcpoli that mention covid or the pandemic in some way:', covid_no_rt)"
   ]
  },
  {
   "cell_type": "code",
   "execution_count": 87,
   "metadata": {},
   "outputs": [
    {
     "data": {
      "text/plain": [
       "(bc, liberals)            2448\n",
       "(bonnie, henry)           1709\n",
       "(dr, bonnie)              1697\n",
       "(john, horgan)            1548\n",
       "(bc, liberal)             1535\n",
       "(bc, ndp)                 1493\n",
       "(new, cases)              1466\n",
       "(dr, henry)               1305\n",
       "(british, columbians)     1180\n",
       "(british, columbia)       1067\n",
       "(andrew, wilkinson)       1027\n",
       "(bc, election)             916\n",
       "(snap, election)           858\n",
       "(public, health)           797\n",
       "(active, cases)            769\n",
       "(henry, says)              699\n",
       "(health, care)             630\n",
       "(provincial, election)     614\n",
       "(fraser, health)           604\n",
       "(old, growth)              574\n",
       "dtype: int64"
      ]
     },
     "execution_count": 87,
     "metadata": {},
     "output_type": "execute_result"
    }
   ],
   "source": [
    "# Top bigrams from original tweets only\n",
    "\n",
    "top_bigrams(df_no_rt,20)"
   ]
  },
  {
   "cell_type": "code",
   "execution_count": 94,
   "metadata": {},
   "outputs": [
    {
     "name": "stdout",
     "output_type": "stream",
     "text": [
      "<class 'pandas.core.frame.DataFrame'>\n",
      "Int64Index: 73417 entries, 1296950909239357440 to 1328850935632719872\n",
      "Data columns (total 8 columns):\n",
      " #   Column         Non-Null Count  Dtype              \n",
      "---  ------         --------------  -----              \n",
      " 0   created_at     73417 non-null  datetime64[ns, UTC]\n",
      " 1   full_text      73417 non-null  object             \n",
      " 2   covid_mention  73417 non-null  int64              \n",
      " 3   no_hashtags    73417 non-null  object             \n",
      " 4   full_clean     73417 non-null  object             \n",
      " 5   is_retweet     73417 non-null  int64              \n",
      " 6   retweet_count  73417 non-null  int64              \n",
      " 7   user_name      73417 non-null  object             \n",
      "dtypes: datetime64[ns, UTC](1), int64(3), object(4)\n",
      "memory usage: 5.0+ MB\n"
     ]
    }
   ],
   "source": [
    "# Create a new DatFrame with only non-covid tweets\n",
    "# This will be used to guage the covids impact on sentiment\n",
    "\n",
    "df_no_rt_no_covid = df_no_rt[df_no_rt['covid_mention'] == 0]\n",
    "df_no_rt_no_covid.to_pickle(\"PATH/TO/data/df_no_rt_no_covid.pkl\")\n",
    "df_no_rt_no_covid.info()"
   ]
  },
  {
   "cell_type": "code",
   "execution_count": 95,
   "metadata": {},
   "outputs": [
    {
     "name": "stdout",
     "output_type": "stream",
     "text": [
      "<class 'pandas.core.frame.DataFrame'>\n",
      "Int64Index: 28152 entries, 1296949926543335424 to 1328850997704237056\n",
      "Data columns (total 8 columns):\n",
      " #   Column         Non-Null Count  Dtype              \n",
      "---  ------         --------------  -----              \n",
      " 0   created_at     28152 non-null  datetime64[ns, UTC]\n",
      " 1   full_text      28152 non-null  object             \n",
      " 2   covid_mention  28152 non-null  int64              \n",
      " 3   no_hashtags    28152 non-null  object             \n",
      " 4   full_clean     28152 non-null  object             \n",
      " 5   is_retweet     28152 non-null  int64              \n",
      " 6   retweet_count  28152 non-null  int64              \n",
      " 7   user_name      28152 non-null  object             \n",
      "dtypes: datetime64[ns, UTC](1), int64(3), object(4)\n",
      "memory usage: 1.9+ MB\n"
     ]
    }
   ],
   "source": [
    "# Create a new DatFrame with only covid tweets\n",
    "# This will be used to guage the covids impact on sentiment\n",
    "\n",
    "df_no_rt_covid_mention = df_no_rt[df_no_rt['covid_mention'] == 1]\n",
    "df_no_rt_covid_mention.to_pickle(\"PATH/TO/data/df_no_rt_covid_mention.pkl\")\n",
    "df_no_rt_covid_mention.info()"
   ]
  },
  {
   "cell_type": "code",
   "execution_count": null,
   "metadata": {},
   "outputs": [],
   "source": []
  }
 ],
 "metadata": {
  "kernelspec": {
   "display_name": "data_bootcamp",
   "language": "python",
   "name": "data_bootcamp"
  },
  "language_info": {
   "codemirror_mode": {
    "name": "ipython",
    "version": 3
   },
   "file_extension": ".py",
   "mimetype": "text/x-python",
   "name": "python",
   "nbconvert_exporter": "python",
   "pygments_lexer": "ipython3",
   "version": "3.7.8"
  }
 },
 "nbformat": 4,
 "nbformat_minor": 4
}
