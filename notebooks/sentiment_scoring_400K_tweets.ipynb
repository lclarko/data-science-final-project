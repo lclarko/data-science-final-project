{
 "cells": [
  {
   "cell_type": "markdown",
   "metadata": {},
   "source": [
    "# Classifying the Complete Dataset\n",
    "* The tuned logistic regression baseline classifier will be used in this notebook to score tweet sentiment.\n",
    "* VADER compund scores will also generated and compared to the baseline model.\n",
    "\n",
    "* By comparing sentiment scores of the covid and non covid DataFrames, we will begin to assess the impact the covid has on tweet sentiment."
   ]
  },
  {
   "cell_type": "code",
   "execution_count": 1,
   "metadata": {},
   "outputs": [
    {
     "name": "stderr",
     "output_type": "stream",
     "text": [
      "[nltk_data] Downloading package vader_lexicon to\n",
      "[nltk_data]     /Users/lclark/nltk_data...\n",
      "[nltk_data]   Package vader_lexicon is already up-to-date!\n"
     ]
    }
   ],
   "source": [
    "import sys  \n",
    "sys.path.insert(0, '~/data_bootcamp/data-science-final-project/scripts/')\n",
    "# Import custom functions \n",
    "from functions import *\n",
    "\n",
    "pd.set_option('display.max_colwidth', None)\n"
   ]
  },
  {
   "cell_type": "markdown",
   "metadata": {},
   "source": [
    "## Importing Filtered Tweets"
   ]
  },
  {
   "cell_type": "code",
   "execution_count": 2,
   "metadata": {},
   "outputs": [],
   "source": [
    "# Loading filtered tweets from pickle file\n",
    "\n",
    "df_full = pd.read_pickle('~/data_bootcamp/data-science-final-project/data/df_filtered_tweets_master.pkl')\n",
    "\n",
    "# All the files below are a subset of df_filtered_tweets_master\n",
    "\n",
    "#df_no_retweets = pd.read_pickle('~/data_bootcamp/data-science-final-project/data/df_original_tweets.pkl')\n",
    "#df_no_rt_covid = pd.read_pickle('~/data_bootcamp/data-science-final-project/data/df_original_tweets_covid_mention.pkl')\n",
    "#df_no_rt_no_covid = pd.read_pickle('~/data_bootcamp/data-science-final-project/data/df_original_tweets_no_covid.pkl')"
   ]
  },
  {
   "cell_type": "markdown",
   "metadata": {},
   "source": [
    "## Load Model"
   ]
  },
  {
   "cell_type": "code",
   "execution_count": 35,
   "metadata": {},
   "outputs": [],
   "source": [
    "lr_model = pickle.load(open('~/data_bootcamp/data-science-final-project/models/LogReg_GridCV_3C_89p_40kfeats.sav', 'rb'))\n",
    "lr_model.best_params_"
   ]
  },
  {
   "cell_type": "markdown",
   "metadata": {},
   "source": [
    "## Classifying Tweets"
   ]
  },
  {
   "cell_type": "markdown",
   "metadata": {},
   "source": [
    "### Logisitic Regression Classification\n",
    "\n",
    "* Given that the full dataset is roughly 25% original tweets versus retweets, analyzing the full dataset may provide us with an indication of whether people tend to retweet positive or negative tweets more frequently"
   ]
  },
  {
   "cell_type": "code",
   "execution_count": 4,
   "metadata": {},
   "outputs": [],
   "source": [
    "df_full['full_text_clean'] = df_full['full_clean'].apply(joiner)"
   ]
  },
  {
   "cell_type": "code",
   "execution_count": 5,
   "metadata": {},
   "outputs": [],
   "source": [
    "vectorizer = TfidfVectorizer(use_idf=True, lowercase=True, ngram_range=(1,2), max_features=40000)\n",
    "\n",
    "X = vectorizer.fit_transform(df_full.full_text_clean)"
   ]
  },
  {
   "cell_type": "code",
   "execution_count": 6,
   "metadata": {},
   "outputs": [],
   "source": [
    "df_full['lr_labels'] = lr_model.predict(X)"
   ]
  },
  {
   "cell_type": "markdown",
   "metadata": {},
   "source": [
    "### VADER"
   ]
  },
  {
   "cell_type": "code",
   "execution_count": 7,
   "metadata": {},
   "outputs": [
    {
     "name": "stdout",
     "output_type": "stream",
     "text": [
      "CPU times: user 4min 4s, sys: 2.78 s, total: 4min 7s\n",
      "Wall time: 4min 7s\n"
     ]
    }
   ],
   "source": [
    "%%time\n",
    "\n",
    "# Analyze tweets, extract scores from dictionary result, drop dictionary result, categorize\n",
    "df_full['vader_text'] = df_full['full_text'].apply(vader_preprocess)\n",
    "df_full = vader_score_to_series(df_full)"
   ]
  },
  {
   "cell_type": "code",
   "execution_count": 19,
   "metadata": {},
   "outputs": [
    {
     "data": {
      "text/plain": [
       "0    117152\n",
       "2     90757\n",
       "4    191684\n",
       "Name: vader_label_wider_neu, dtype: int64"
      ]
     },
     "execution_count": 19,
     "metadata": {},
     "output_type": "execute_result"
    }
   ],
   "source": [
    "# Testing wider thresholds than default +-0.05 of 0\n",
    "df_full['vader_label_wider_neu'] = df_full['compound'].apply(lambda x: categorize(x, upper = 0.1,lower = -0.1))\n",
    "df_full['vader_label_wider_neu'].value_counts().sort_index()"
   ]
  },
  {
   "cell_type": "code",
   "execution_count": 20,
   "metadata": {},
   "outputs": [
    {
     "data": {
      "text/plain": [
       "count    399593.000000\n",
       "mean          2.373040\n",
       "std           1.718242\n",
       "min           0.000000\n",
       "25%           0.000000\n",
       "50%           2.000000\n",
       "75%           4.000000\n",
       "max           4.000000\n",
       "Name: vader_label_wider_neu, dtype: float64"
      ]
     },
     "execution_count": 20,
     "metadata": {},
     "output_type": "execute_result"
    }
   ],
   "source": [
    "df_full.vader_label_wider_neu.describe()"
   ]
  },
  {
   "cell_type": "code",
   "execution_count": 12,
   "metadata": {},
   "outputs": [
    {
     "data": {
      "text/html": [
       "<div>\n",
       "<style scoped>\n",
       "    .dataframe tbody tr th:only-of-type {\n",
       "        vertical-align: middle;\n",
       "    }\n",
       "\n",
       "    .dataframe tbody tr th {\n",
       "        vertical-align: top;\n",
       "    }\n",
       "\n",
       "    .dataframe thead th {\n",
       "        text-align: right;\n",
       "    }\n",
       "</style>\n",
       "<table border=\"1\" class=\"dataframe\">\n",
       "  <thead>\n",
       "    <tr style=\"text-align: right;\">\n",
       "      <th></th>\n",
       "      <th>created_at</th>\n",
       "      <th>vader_text</th>\n",
       "      <th>lr_labels</th>\n",
       "      <th>compound</th>\n",
       "      <th>vader_label</th>\n",
       "    </tr>\n",
       "    <tr>\n",
       "      <th>id_str</th>\n",
       "      <th></th>\n",
       "      <th></th>\n",
       "      <th></th>\n",
       "      <th></th>\n",
       "      <th></th>\n",
       "    </tr>\n",
       "  </thead>\n",
       "  <tbody>\n",
       "    <tr>\n",
       "      <th>1320060313501224960</th>\n",
       "      <td>2020-10-24 17:51:18+00:00</td>\n",
       "      <td>Encouraging everyone who hasn’t already done so, to get out today to exercise your right to vote and to pick up one of these prized stickers! To find your polling station visit #BCelxn2020 #bcpoli</td>\n",
       "      <td>4</td>\n",
       "      <td>0.7959</td>\n",
       "      <td>4</td>\n",
       "    </tr>\n",
       "    <tr>\n",
       "      <th>1316073449983365120</th>\n",
       "      <td>2020-10-13 17:48:56+00:00</td>\n",
       "      <td>We are putting forward a vision for this province that puts puts people, health and wellbeing, security and safety, and the resilience of communities at the centre of every decision. #bcpoli #bcelxn #vanpoli #bcvotes</td>\n",
       "      <td>4</td>\n",
       "      <td>0.7351</td>\n",
       "      <td>4</td>\n",
       "    </tr>\n",
       "    <tr>\n",
       "      <th>1313658286734934016</th>\n",
       "      <td>2020-10-07 01:51:56+00:00</td>\n",
       "      <td>ICBC insurance challenge: Try to get a quote for insurance in Alberta. Couldn’t believe the discriminatory questions. Couldn’t complete it but it was a great indicator of what the Liberals are taking bribes for #bcpoli #BCElection2020</td>\n",
       "      <td>0</td>\n",
       "      <td>0.7783</td>\n",
       "      <td>4</td>\n",
       "    </tr>\n",
       "    <tr>\n",
       "      <th>1310714805649510400</th>\n",
       "      <td>2020-09-28 22:55:36+00:00</td>\n",
       "      <td>Leaving a big hole in govt revenue makes no sense - especially in a pandemic. Time for B.C. to properly tax billionaires like Chip Wilson and Jim Pattison #bcpoli #WealthTax #cdnpoli</td>\n",
       "      <td>2</td>\n",
       "      <td>0.0772</td>\n",
       "      <td>4</td>\n",
       "    </tr>\n",
       "    <tr>\n",
       "      <th>1316262378892222464</th>\n",
       "      <td>2020-10-14 06:19:40+00:00</td>\n",
       "      <td>Love @jjhorgan recommending @GeorgeAbbottPhd’s great book Big Promises, Small Government on disastrous BC Liberal past giant tax cuts that slashed services - to Andrew Wilkinson in #BCelxn2020 debate! #bcpoli #bcndp</td>\n",
       "      <td>2</td>\n",
       "      <td>0.6360</td>\n",
       "      <td>4</td>\n",
       "    </tr>\n",
       "    <tr>\n",
       "      <th>1316726659353997312</th>\n",
       "      <td>2020-10-15 13:04:33+00:00</td>\n",
       "      <td>Court upholds 47% loan interest rate. Parliament hasn't rewritten #usury law since 1978. #cdnpoli @KPateontheHill @FCACan #bcpoli</td>\n",
       "      <td>2</td>\n",
       "      <td>0.4588</td>\n",
       "      <td>4</td>\n",
       "    </tr>\n",
       "    <tr>\n",
       "      <th>1323728771506057216</th>\n",
       "      <td>2020-11-03 20:48:27+00:00</td>\n",
       "      <td>This is a good, hopeful profile of a fossil fuel town in the midst of its economic transition. Switching to a model that can be sustained takes thought and work, but it is possible. Great reporting from @TheTyee's @amandajfollett: #bcpoli</td>\n",
       "      <td>4</td>\n",
       "      <td>0.8674</td>\n",
       "      <td>4</td>\n",
       "    </tr>\n",
       "    <tr>\n",
       "      <th>1320498194027929600</th>\n",
       "      <td>2020-10-25 22:51:17+00:00</td>\n",
       "      <td>Congratulations @jjhorgan on your victory tonight for the @bcndp. And congrats to my former colleagues @AdamPOlsen and @SoniaFurstenau for your re election tonight. #bcpoli.</td>\n",
       "      <td>0</td>\n",
       "      <td>0.8074</td>\n",
       "      <td>4</td>\n",
       "    </tr>\n",
       "    <tr>\n",
       "      <th>1310408261833687040</th>\n",
       "      <td>2020-09-28 02:37:30+00:00</td>\n",
       "      <td>Today I took time away from the campaign to spent time with my family at my elementary school. Thank you to teachers, admin &amp; support staff who are working hard to keep our children safe &amp; get our schools back open so parents can return to work. #RichmondBC - #StevestonBC #BCpoli</td>\n",
       "      <td>0</td>\n",
       "      <td>0.7717</td>\n",
       "      <td>4</td>\n",
       "    </tr>\n",
       "    <tr>\n",
       "      <th>1318718898347364352</th>\n",
       "      <td>2020-10-21 01:01:00+00:00</td>\n",
       "      <td>Question for all the medical doctors out there - how many of you would say \"yes\" to representing tobacco companies like Phillip Morris? #bcpoli</td>\n",
       "      <td>4</td>\n",
       "      <td>0.3612</td>\n",
       "      <td>4</td>\n",
       "    </tr>\n",
       "  </tbody>\n",
       "</table>\n",
       "</div>"
      ],
      "text/plain": [
       "                                   created_at  \\\n",
       "id_str                                          \n",
       "1320060313501224960 2020-10-24 17:51:18+00:00   \n",
       "1316073449983365120 2020-10-13 17:48:56+00:00   \n",
       "1313658286734934016 2020-10-07 01:51:56+00:00   \n",
       "1310714805649510400 2020-09-28 22:55:36+00:00   \n",
       "1316262378892222464 2020-10-14 06:19:40+00:00   \n",
       "1316726659353997312 2020-10-15 13:04:33+00:00   \n",
       "1323728771506057216 2020-11-03 20:48:27+00:00   \n",
       "1320498194027929600 2020-10-25 22:51:17+00:00   \n",
       "1310408261833687040 2020-09-28 02:37:30+00:00   \n",
       "1318718898347364352 2020-10-21 01:01:00+00:00   \n",
       "\n",
       "                                                                                                                                                                                                                                                                                                   vader_text  \\\n",
       "id_str                                                                                                                                                                                                                                                                                                          \n",
       "1320060313501224960                                                                                      Encouraging everyone who hasn’t already done so, to get out today to exercise your right to vote and to pick up one of these prized stickers! To find your polling station visit #BCelxn2020 #bcpoli   \n",
       "1316073449983365120                                                                  We are putting forward a vision for this province that puts puts people, health and wellbeing, security and safety, and the resilience of communities at the centre of every decision. #bcpoli #bcelxn #vanpoli #bcvotes   \n",
       "1313658286734934016                                                ICBC insurance challenge: Try to get a quote for insurance in Alberta. Couldn’t believe the discriminatory questions. Couldn’t complete it but it was a great indicator of what the Liberals are taking bribes for #bcpoli #BCElection2020   \n",
       "1310714805649510400                                                                                                    Leaving a big hole in govt revenue makes no sense - especially in a pandemic. Time for B.C. to properly tax billionaires like Chip Wilson and Jim Pattison #bcpoli #WealthTax #cdnpoli   \n",
       "1316262378892222464                                                                   Love @jjhorgan recommending @GeorgeAbbottPhd’s great book Big Promises, Small Government on disastrous BC Liberal past giant tax cuts that slashed services - to Andrew Wilkinson in #BCelxn2020 debate! #bcpoli #bcndp   \n",
       "1316726659353997312                                                                                                                                                         Court upholds 47% loan interest rate. Parliament hasn't rewritten #usury law since 1978. #cdnpoli @KPateontheHill @FCACan #bcpoli   \n",
       "1323728771506057216                                            This is a good, hopeful profile of a fossil fuel town in the midst of its economic transition. Switching to a model that can be sustained takes thought and work, but it is possible. Great reporting from @TheTyee's @amandajfollett: #bcpoli   \n",
       "1320498194027929600                                                                                                             Congratulations @jjhorgan on your victory tonight for the @bcndp. And congrats to my former colleagues @AdamPOlsen and @SoniaFurstenau for your re election tonight. #bcpoli.   \n",
       "1310408261833687040  Today I took time away from the campaign to spent time with my family at my elementary school. Thank you to teachers, admin & support staff who are working hard to keep our children safe & get our schools back open so parents can return to work. #RichmondBC - #StevestonBC #BCpoli   \n",
       "1318718898347364352                                                                                                                                           Question for all the medical doctors out there - how many of you would say \"yes\" to representing tobacco companies like Phillip Morris? #bcpoli   \n",
       "\n",
       "                     lr_labels  compound  vader_label  \n",
       "id_str                                                 \n",
       "1320060313501224960          4    0.7959            4  \n",
       "1316073449983365120          4    0.7351            4  \n",
       "1313658286734934016          0    0.7783            4  \n",
       "1310714805649510400          2    0.0772            4  \n",
       "1316262378892222464          2    0.6360            4  \n",
       "1316726659353997312          2    0.4588            4  \n",
       "1323728771506057216          4    0.8674            4  \n",
       "1320498194027929600          0    0.8074            4  \n",
       "1310408261833687040          0    0.7717            4  \n",
       "1318718898347364352          4    0.3612            4  "
      ]
     },
     "execution_count": 12,
     "metadata": {},
     "output_type": "execute_result"
    }
   ],
   "source": [
    "df_full[(df_full['vader_label'] == 4)][['created_at','vader_text','lr_labels','compound','vader_label']].sample(n=10)"
   ]
  },
  {
   "cell_type": "markdown",
   "metadata": {},
   "source": [
    "## Comparing Logisitic Regression Classification with VADER"
   ]
  },
  {
   "cell_type": "code",
   "execution_count": 22,
   "metadata": {},
   "outputs": [
    {
     "data": {
      "text/plain": [
       "0    118437\n",
       "2    183533\n",
       "4     97623\n",
       "Name: lr_labels, dtype: int64"
      ]
     },
     "execution_count": 22,
     "metadata": {},
     "output_type": "execute_result"
    }
   ],
   "source": [
    "# Logisitic Regression Value Counts\n",
    "\n",
    "df_full['lr_labels'].value_counts().sort_index()"
   ]
  },
  {
   "cell_type": "code",
   "execution_count": 23,
   "metadata": {},
   "outputs": [
    {
     "data": {
      "text/plain": [
       "0    121637\n",
       "2     79211\n",
       "4    198745\n",
       "Name: vader_label, dtype: int64"
      ]
     },
     "execution_count": 23,
     "metadata": {},
     "output_type": "execute_result"
    }
   ],
   "source": [
    "# VADER Value Counts with extracted full_text from retweet_status\n",
    "\n",
    "df_full.vader_label.value_counts().sort_index()"
   ]
  },
  {
   "cell_type": "markdown",
   "metadata": {},
   "source": [
    "## VADER Value Counts before extracting the full_text from the retweet_status\n",
    "\n",
    "If a tweet is a retweet, it will be truncated in the full_text column. You need to extract the full_text from the dictionary in retweet_status. Note: This comparison had a different number of tweets (more in text above), though the positive tweet count is less. THis gives us some indiction that negative sentiment is more strongly dictated by the end of a tweet than the beginning.\n",
    "\n",
    "0  -  106859\n",
    "\n",
    "2  -  104546\n",
    "\n",
    "4  -  175328"
   ]
  },
  {
   "cell_type": "code",
   "execution_count": 33,
   "metadata": {},
   "outputs": [],
   "source": [
    "# Create distributable labelled bcpoli dataset.\n",
    "\n",
    "#df_full_distribute = df_full[['covid_mention','neg','neu','pos','compound','vader_label']].reset_index()\n",
    "#df_full_distribute.to_pickle('~/data_bootcamp/data-science-final-project/data/bcpoli_vader_labelled_tweets.sav')\n",
    "\n",
    "# Export labelled df_full\n",
    "\n",
    "#df_full.to_pickle('~/data_bootcamp/data-science-final-project/data/bcpoli_labelled_tweets.pkl')"
   ]
  }
 ],
 "metadata": {
  "kernelspec": {
   "display_name": "data_bootcamp",
   "language": "python",
   "name": "data_bootcamp"
  },
  "language_info": {
   "codemirror_mode": {
    "name": "ipython",
    "version": 3
   },
   "file_extension": ".py",
   "mimetype": "text/x-python",
   "name": "python",
   "nbconvert_exporter": "python",
   "pygments_lexer": "ipython3",
   "version": "3.7.8"
  }
 },
 "nbformat": 4,
 "nbformat_minor": 4
}
