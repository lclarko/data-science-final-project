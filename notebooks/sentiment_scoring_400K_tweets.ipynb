{
 "cells": [
  {
   "cell_type": "markdown",
   "metadata": {},
   "source": [
    "# Classifying the Complete Dataset\n",
    "* The tuned logistic regression baseline classifier will be used in this notebook to score tweet sentiment.\n",
    "* VADER compund scores will also generated and compared to the baseline model.\n",
    "\n",
    "* By comparing sentiment scores of the covid and non covid DataFrames, we will begin to assess the impact the covid has on tweet sentiment."
   ]
  },
  {
   "cell_type": "code",
   "execution_count": 1,
   "metadata": {},
   "outputs": [
    {
     "name": "stderr",
     "output_type": "stream",
     "text": [
      "[nltk_data] Downloading package vader_lexicon to\n",
      "[nltk_data]     /Users/lclark/nltk_data...\n",
      "[nltk_data]   Package vader_lexicon is already up-to-date!\n"
     ]
    }
   ],
   "source": [
    "import sys  \n",
    "sys.path.insert(0, '/Users/lclark/data_bootcamp/data-science-final-project/scripts/')\n",
    "\n",
    "# Import custom functions \n",
    "from functions import *\n",
    "pd.set_option('display.max_colwidth', None)\n"
   ]
  },
  {
   "cell_type": "markdown",
   "metadata": {},
   "source": [
    "## Importing Filtered Tweets"
   ]
  },
  {
   "cell_type": "code",
   "execution_count": 2,
   "metadata": {},
   "outputs": [],
   "source": [
    "# Loading filtered tweets from pickle file\n",
    "\n",
    "df_full = pd.read_pickle('~/data_bootcamp/data-science-final-project/data/df_filtered_tweets_master.pkl')\n",
    "#df_no_retweets = pd.read_pickle('~/data_bootcamp/data-science-final-project/data/df_original_tweets.pkl')\n",
    "#df_no_rt_covid = pd.read_pickle('~/data_bootcamp/data-science-final-project/data/df_original_tweets_covid_mention.pkl')\n",
    "#df_no_rt_no_covid = pd.read_pickle('~/data_bootcamp/data-science-final-project/data/df_original_tweets_no_covid.pkl')"
   ]
  },
  {
   "cell_type": "markdown",
   "metadata": {},
   "source": [
    "## Load Model"
   ]
  },
  {
   "cell_type": "code",
   "execution_count": 3,
   "metadata": {},
   "outputs": [
    {
     "data": {
      "text/plain": [
       "{'classifier': LogisticRegression(C=11.288378916846883, penalty='l1', solver='liblinear'),\n",
       " 'classifier__C': 11.288378916846883,\n",
       " 'classifier__penalty': 'l1',\n",
       " 'classifier__solver': 'liblinear'}"
      ]
     },
     "execution_count": 3,
     "metadata": {},
     "output_type": "execute_result"
    }
   ],
   "source": [
    "lr_model = pickle.load(open('/Users/lclark/data_bootcamp/data-science-final-project/models/LogReg_GridCV_3C_89p_40kfeats.sav', 'rb'))\n",
    "lr_model.best_params_"
   ]
  },
  {
   "cell_type": "markdown",
   "metadata": {},
   "source": [
    "## Classifying Tweets"
   ]
  },
  {
   "cell_type": "markdown",
   "metadata": {},
   "source": [
    "### Logisitic Regression Classification\n",
    "\n",
    "* Given that the full dataset is roughly 25% original tweets versus retweets, analyzing the full dataset may provide us with an indication of whether people tend to retweet positive or negative tweets more frequently"
   ]
  },
  {
   "cell_type": "code",
   "execution_count": 4,
   "metadata": {},
   "outputs": [],
   "source": [
    "df_full['full_text_clean'] = df_full['full_clean'].apply(joiner)"
   ]
  },
  {
   "cell_type": "code",
   "execution_count": 5,
   "metadata": {},
   "outputs": [],
   "source": [
    "vectorizer = TfidfVectorizer(use_idf=True, lowercase=True, ngram_range=(1,2), max_features=40000)\n",
    "\n",
    "X = vectorizer.fit_transform(df_full.full_text_clean)"
   ]
  },
  {
   "cell_type": "code",
   "execution_count": 6,
   "metadata": {},
   "outputs": [],
   "source": [
    "df_full['lr_labels'] = lr_model.predict(X)"
   ]
  },
  {
   "cell_type": "markdown",
   "metadata": {},
   "source": [
    "### VADER"
   ]
  },
  {
   "cell_type": "code",
   "execution_count": 9,
   "metadata": {},
   "outputs": [
    {
     "name": "stdout",
     "output_type": "stream",
     "text": [
      "CPU times: user 4min 33s, sys: 4.34 s, total: 4min 37s\n",
      "Wall time: 4min 39s\n"
     ]
    }
   ],
   "source": [
    "%%time\n",
    "df_full['vader_text'] = df_full['full_text'].apply(vader_preprocess)\n",
    "df_full = vader_score_to_series(df_full)"
   ]
  },
  {
   "cell_type": "code",
   "execution_count": 12,
   "metadata": {},
   "outputs": [],
   "source": [
    "# Now all part of vader_score_to_series() ^\n",
    "\n",
    "#df_full['vader_scores'] = df_full['vader_text'].apply(vader_analyze)\n",
    "#df_full = df_full.join(df_full['vader_scores'].apply(pd.Series))\n",
    "#df_full.drop(columns='vader_scores', inplace=True, axis=1)\n",
    "#df_full['vader_label'] = df_full['compound'].apply(lambda x: categorize(x)).astype('int8')"
   ]
  },
  {
   "cell_type": "code",
   "execution_count": 10,
   "metadata": {},
   "outputs": [
    {
     "data": {
      "text/plain": [
       "vader_label\n",
       "4              198743\n",
       "0              121651\n",
       "2               79199\n",
       "dtype: int64"
      ]
     },
     "execution_count": 10,
     "metadata": {},
     "output_type": "execute_result"
    }
   ],
   "source": [
    "df_full[['vader_label']].value_counts() "
   ]
  },
  {
   "cell_type": "code",
   "execution_count": 11,
   "metadata": {},
   "outputs": [
    {
     "data": {
      "text/plain": [
       "lr_labels\n",
       "2            183533\n",
       "0            118437\n",
       "4             97623\n",
       "dtype: int64"
      ]
     },
     "execution_count": 11,
     "metadata": {},
     "output_type": "execute_result"
    }
   ],
   "source": [
    "df_full[['lr_labels']].value_counts()"
   ]
  },
  {
   "cell_type": "code",
   "execution_count": 13,
   "metadata": {},
   "outputs": [
    {
     "data": {
      "text/html": [
       "<div>\n",
       "<style scoped>\n",
       "    .dataframe tbody tr th:only-of-type {\n",
       "        vertical-align: middle;\n",
       "    }\n",
       "\n",
       "    .dataframe tbody tr th {\n",
       "        vertical-align: top;\n",
       "    }\n",
       "\n",
       "    .dataframe thead th {\n",
       "        text-align: right;\n",
       "    }\n",
       "</style>\n",
       "<table border=\"1\" class=\"dataframe\">\n",
       "  <thead>\n",
       "    <tr style=\"text-align: right;\">\n",
       "      <th></th>\n",
       "      <th>created_at</th>\n",
       "      <th>vader_text</th>\n",
       "      <th>lr_labels</th>\n",
       "      <th>compound</th>\n",
       "      <th>vader_label</th>\n",
       "    </tr>\n",
       "    <tr>\n",
       "      <th>id_str</th>\n",
       "      <th></th>\n",
       "      <th></th>\n",
       "      <th></th>\n",
       "      <th></th>\n",
       "      <th></th>\n",
       "    </tr>\n",
       "  </thead>\n",
       "  <tbody>\n",
       "    <tr>\n",
       "      <th>1295997680498249728</th>\n",
       "      <td>2020-08-19 08:15:00+00:00</td>\n",
       "      <td>Utah teachers resign in droves over COVID-19 fears. Will this happen with Teachers &amp;amp; Admin in #bced? How many will retire in the next few weeks. Will some move to Ontario? Or, for a lucky few, perhaps a personal leave for some self-care. #bced #bcpoli</td>\n",
       "      <td>2</td>\n",
       "      <td>-0.4515</td>\n",
       "      <td>0</td>\n",
       "    </tr>\n",
       "    <tr>\n",
       "      <th>1300443353541038080</th>\n",
       "      <td>2020-08-31 14:40:31+00:00</td>\n",
       "      <td>...\"We have lost so many of our loved ones, [.. we are shocked at the # of deaths in recent months. I lost my daughter 5 years ago at the beginning of the overdose crisis &amp;amp; the fact that we are still losing so many people is a tragedy of our times.” #bcpoli @jjhorgan @adriandix</td>\n",
       "      <td>2</td>\n",
       "      <td>-0.9201</td>\n",
       "      <td>0</td>\n",
       "    </tr>\n",
       "    <tr>\n",
       "      <th>1309530520104050688</th>\n",
       "      <td>2020-09-25 16:29:40+00:00</td>\n",
       "      <td>'Offensive to me': VC Health COVID19 reporting policy. DBH: “I think where some of the nuance came in was around exactly what we are talking about as an exposure event.” You’re putting non-enrolling &amp;amp; enrolling Ts lives at risk, Dr. Daly. #bced #bcpoli</td>\n",
       "      <td>2</td>\n",
       "      <td>-0.6249</td>\n",
       "      <td>0</td>\n",
       "    </tr>\n",
       "    <tr>\n",
       "      <th>1309343520520429568</th>\n",
       "      <td>2020-09-25 04:06:36+00:00</td>\n",
       "      <td>@heckleNjive @richardzussman I've seen one film set. Everyone was both wearing masks and physically distanced. This was outside where transmission risk is much lower. Why are children &amp;amp; teachers crowded together in classroom? Why the double standard? #bced #bcpoli #UnsafeSeptember</td>\n",
       "      <td>4</td>\n",
       "      <td>-0.5661</td>\n",
       "      <td>0</td>\n",
       "    </tr>\n",
       "    <tr>\n",
       "      <th>1303583887793115136</th>\n",
       "      <td>2020-09-09 06:39:52+00:00</td>\n",
       "      <td>The wheels are already falling off the school \"plan\". We were told today that obviously parts of the plan are not possible, such as social distancing &amp;amp; keeping cohorts apart at recess, so just \"do your best.\" That's our plan. Districts have not been given resources. #bced #bcpoli</td>\n",
       "      <td>4</td>\n",
       "      <td>-0.1531</td>\n",
       "      <td>0</td>\n",
       "    </tr>\n",
       "    <tr>\n",
       "      <th>1326584439548178432</th>\n",
       "      <td>2020-11-11 17:55:51+00:00</td>\n",
       "      <td>Another BC teacher weighs in on what's ACTUALLY happening in BC schools. BC Gov &amp;amp; PHO's #differentrulesforschools leave students, staff, families vulnerable, not protected. Mixed messaging does not inspire confidence, trust, precaution adherence. #bced #bcpoli</td>\n",
       "      <td>2</td>\n",
       "      <td>-0.8981</td>\n",
       "      <td>0</td>\n",
       "    </tr>\n",
       "    <tr>\n",
       "      <th>1310316761149890560</th>\n",
       "      <td>2020-09-27 20:33:55+00:00</td>\n",
       "      <td>When CleanBC was announced we were told government would close 25% gap to meet our legislated emissions gap within two years. Then they dumped hundreds of millions into fracked gas &amp;amp; LNG expansion. In fact 79% more $ to Oil and gas than Christy Clark’s government. THREAD #bcpoli</td>\n",
       "      <td>2</td>\n",
       "      <td>-0.4019</td>\n",
       "      <td>0</td>\n",
       "    </tr>\n",
       "    <tr>\n",
       "      <th>1317297541780705280</th>\n",
       "      <td>2020-10-17 02:53:02+00:00</td>\n",
       "      <td>Yikes Seems @bcliberals want to sell off BC to the Chinese Government Teresa Wat needs media scrutiny &amp;amp; so does @Wilkinson4BC Can’t believe @george_affleck chose this corrupted party to participate in. Just awful, worst of everything bad in our society #BCelxn2020 #bcpoli</td>\n",
       "      <td>4</td>\n",
       "      <td>-0.8225</td>\n",
       "      <td>0</td>\n",
       "    </tr>\n",
       "    <tr>\n",
       "      <th>1308956442959982592</th>\n",
       "      <td>2020-09-24 02:28:29+00:00</td>\n",
       "      <td>John Horgan killed new 10 lane bridge to replace George Massey Tunnel, a project that was $900 mill under budget, and included 9,000 direct jobs; 500 mill for transit investments; replacement/upgrade of 3 interchanges &amp;amp; 5 overpasses; &amp;amp; widening of Hwy 99. #NDPtunnelvision #bcpoli</td>\n",
       "      <td>2</td>\n",
       "      <td>-0.6705</td>\n",
       "      <td>0</td>\n",
       "    </tr>\n",
       "    <tr>\n",
       "      <th>1325976086627319808</th>\n",
       "      <td>2020-11-10 01:38:29+00:00</td>\n",
       "      <td>@AlvinSingh ∞ᴴᴰv @KennedyStewart FOCUS PRIORITIES⚕ Ⅰ/PANDEMICSⅠⅠ/COVID19RECOVERYⅠⅠⅠ/SAVELIVES LIVELIHOODS ECONOMYᴴᴰ HERE&amp;amp;NOWᴴᴰ #VANPOLI DUMBNOW✂AUDITOR DUMBER OLYMPICS✂ #DTES @JJHORGAN #VPD #YVR #BCPOLI #AI #SFU #UBC</td>\n",
       "      <td>0</td>\n",
       "      <td>-0.1531</td>\n",
       "      <td>0</td>\n",
       "    </tr>\n",
       "  </tbody>\n",
       "</table>\n",
       "</div>"
      ],
      "text/plain": [
       "                                   created_at  \\\n",
       "id_str                                          \n",
       "1295997680498249728 2020-08-19 08:15:00+00:00   \n",
       "1300443353541038080 2020-08-31 14:40:31+00:00   \n",
       "1309530520104050688 2020-09-25 16:29:40+00:00   \n",
       "1309343520520429568 2020-09-25 04:06:36+00:00   \n",
       "1303583887793115136 2020-09-09 06:39:52+00:00   \n",
       "1326584439548178432 2020-11-11 17:55:51+00:00   \n",
       "1310316761149890560 2020-09-27 20:33:55+00:00   \n",
       "1317297541780705280 2020-10-17 02:53:02+00:00   \n",
       "1308956442959982592 2020-09-24 02:28:29+00:00   \n",
       "1325976086627319808 2020-11-10 01:38:29+00:00   \n",
       "\n",
       "                                                                                                                                                                                                                                                                                                           vader_text  \\\n",
       "id_str                                                                                                                                                                                                                                                                                                                  \n",
       "1295997680498249728                                   Utah teachers resign in droves over COVID-19 fears. Will this happen with Teachers &amp; Admin in #bced? How many will retire in the next few weeks. Will some move to Ontario? Or, for a lucky few, perhaps a personal leave for some self-care. #bced #bcpoli   \n",
       "1300443353541038080        ...\"We have lost so many of our loved ones, [.. we are shocked at the # of deaths in recent months. I lost my daughter 5 years ago at the beginning of the overdose crisis &amp; the fact that we are still losing so many people is a tragedy of our times.” #bcpoli @jjhorgan @adriandix   \n",
       "1309530520104050688                                  'Offensive to me': VC Health COVID19 reporting policy. DBH: “I think where some of the nuance came in was around exactly what we are talking about as an exposure event.” You’re putting non-enrolling &amp; enrolling Ts lives at risk, Dr. Daly. #bced #bcpoli   \n",
       "1309343520520429568     @heckleNjive @richardzussman I've seen one film set. Everyone was both wearing masks and physically distanced. This was outside where transmission risk is much lower. Why are children &amp; teachers crowded together in classroom? Why the double standard? #bced #bcpoli #UnsafeSeptember   \n",
       "1303583887793115136      The wheels are already falling off the school \"plan\". We were told today that obviously parts of the plan are not possible, such as social distancing &amp; keeping cohorts apart at recess, so just \"do your best.\" That's our plan. Districts have not been given resources. #bced #bcpoli   \n",
       "1326584439548178432                          Another BC teacher weighs in on what's ACTUALLY happening in BC schools. BC Gov &amp; PHO's #differentrulesforschools leave students, staff, families vulnerable, not protected. Mixed messaging does not inspire confidence, trust, precaution adherence. #bced #bcpoli   \n",
       "1310316761149890560       When CleanBC was announced we were told government would close 25% gap to meet our legislated emissions gap within two years. Then they dumped hundreds of millions into fracked gas &amp; LNG expansion. In fact 79% more $ to Oil and gas than Christy Clark’s government. THREAD #bcpoli   \n",
       "1317297541780705280              Yikes Seems @bcliberals want to sell off BC to the Chinese Government Teresa Wat needs media scrutiny &amp; so does @Wilkinson4BC Can’t believe @george_affleck chose this corrupted party to participate in. Just awful, worst of everything bad in our society #BCelxn2020 #bcpoli   \n",
       "1308956442959982592  John Horgan killed new 10 lane bridge to replace George Massey Tunnel, a project that was $900 mill under budget, and included 9,000 direct jobs; 500 mill for transit investments; replacement/upgrade of 3 interchanges &amp; 5 overpasses; &amp; widening of Hwy 99. #NDPtunnelvision #bcpoli   \n",
       "1325976086627319808                                                                      @AlvinSingh ∞ᴴᴰv @KennedyStewart FOCUS PRIORITIES⚕ Ⅰ/PANDEMICSⅠⅠ/COVID19RECOVERYⅠⅠⅠ/SAVELIVES LIVELIHOODS ECONOMYᴴᴰ HERE&amp;NOWᴴᴰ #VANPOLI DUMBNOW✂AUDITOR DUMBER OLYMPICS✂ #DTES @JJHORGAN #VPD #YVR #BCPOLI #AI #SFU #UBC   \n",
       "\n",
       "                     lr_labels  compound  vader_label  \n",
       "id_str                                                 \n",
       "1295997680498249728          2   -0.4515            0  \n",
       "1300443353541038080          2   -0.9201            0  \n",
       "1309530520104050688          2   -0.6249            0  \n",
       "1309343520520429568          4   -0.5661            0  \n",
       "1303583887793115136          4   -0.1531            0  \n",
       "1326584439548178432          2   -0.8981            0  \n",
       "1310316761149890560          2   -0.4019            0  \n",
       "1317297541780705280          4   -0.8225            0  \n",
       "1308956442959982592          2   -0.6705            0  \n",
       "1325976086627319808          0   -0.1531            0  "
      ]
     },
     "execution_count": 13,
     "metadata": {},
     "output_type": "execute_result"
    }
   ],
   "source": [
    "df_full[(df_full['vader_label'] == 0) & (df_full['vader_text'].str.contains('&amp'))][['created_at','vader_text','lr_labels','compound','vader_label']].sample(n=10)"
   ]
  },
  {
   "cell_type": "markdown",
   "metadata": {},
   "source": [
    "## Comparing Logisitic Regression Classification with VADER"
   ]
  },
  {
   "cell_type": "code",
   "execution_count": 17,
   "metadata": {},
   "outputs": [
    {
     "data": {
      "text/plain": [
       "2    183533\n",
       "0    118437\n",
       "4     97623\n",
       "Name: lr_labels, dtype: int64"
      ]
     },
     "execution_count": 17,
     "metadata": {},
     "output_type": "execute_result"
    }
   ],
   "source": [
    "# Logisitic Regression Value Counts\n",
    "\n",
    "df_full.lr_labels.value_counts()"
   ]
  },
  {
   "cell_type": "code",
   "execution_count": 19,
   "metadata": {},
   "outputs": [
    {
     "data": {
      "text/plain": [
       "4    198743\n",
       "0    121651\n",
       "2     79199\n",
       "Name: vader_label, dtype: int64"
      ]
     },
     "execution_count": 19,
     "metadata": {},
     "output_type": "execute_result"
    }
   ],
   "source": [
    "# VADER Value Counts with extracted full_text from retweet_status\n",
    "\n",
    "df_full.vader_label.value_counts()"
   ]
  },
  {
   "cell_type": "markdown",
   "metadata": {},
   "source": [
    "## VADER Value Counts before extracting the full_text from the retweet_status\n",
    "\n",
    "If a tweet is a retweet, it will be truncated in the full_text column. You need to extract the full_text from the dictionary in retweet_status \n",
    "\n",
    "4  -  175328\n",
    "\n",
    "0  -  106859\n",
    "\n",
    "2  -  104546"
   ]
  },
  {
   "cell_type": "code",
   "execution_count": 68,
   "metadata": {},
   "outputs": [],
   "source": [
    "def categorize(x, upper = 0.05,lower = -0.05):\n",
    "    \"\"\"\n",
    "    Categorizes tweets into sentiment categories of 0, 2 and 4.\n",
    "    Negative, Netral and Postive, respectively.\n",
    "    0, 2 and 4 were chosen to compare against another model that calssifies this way.\n",
    "    The upper and lower variables are standard thresholds from VADER Sentiment\n",
    "    \"\"\"\n",
    "    if x < lower:\n",
    "        return '0'\n",
    "    elif ((x > (lower+0.0001) and x < upper)):\n",
    "        return '2'\n",
    "    else:\n",
    "        return '4'"
   ]
  }
 ],
 "metadata": {
  "kernelspec": {
   "display_name": "data_bootcamp",
   "language": "python",
   "name": "data_bootcamp"
  },
  "language_info": {
   "codemirror_mode": {
    "name": "ipython",
    "version": 3
   },
   "file_extension": ".py",
   "mimetype": "text/x-python",
   "name": "python",
   "nbconvert_exporter": "python",
   "pygments_lexer": "ipython3",
   "version": "3.7.8"
  }
 },
 "nbformat": 4,
 "nbformat_minor": 4
}
