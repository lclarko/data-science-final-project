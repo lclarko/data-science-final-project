{
 "cells": [
  {
   "cell_type": "markdown",
   "metadata": {},
   "source": [
    "# Classifying the Complete Dataset\n",
    "* The tuned logistic regression baseline classifier will be used in this notebook to score tweet sentiment.\n",
    "* VADER compund scores will also generated and compared to the baseline model.\n",
    "\n",
    "* By comparing sentiment scores of the covid and non covid DataFrames, we will begin to assess the impact the covid has on tweet sentiment."
   ]
  },
  {
   "cell_type": "code",
   "execution_count": 5,
   "metadata": {},
   "outputs": [],
   "source": [
    "import sys  \n",
    "sys.path.insert(0, '~/data_bootcamp/data-science-final-project/scripts/')\n",
    "\n",
    "# Import custom functions \n",
    "from functions import *\n",
    "pd.set_option('display.max_colwidth', None)\n"
   ]
  },
  {
   "cell_type": "markdown",
   "metadata": {},
   "source": [
    "## Importing Filtered Tweets"
   ]
  },
  {
   "cell_type": "code",
   "execution_count": 6,
   "metadata": {},
   "outputs": [],
   "source": [
    "# Loading filtered tweets from pickle file\n",
    "\n",
    "df_full = pd.read_pickle('~/data_bootcamp/data-science-final-project/data/df_filtered_tweets_master.pkl')\n",
    "#df_no_retweets = pd.read_pickle('~/data_bootcamp/data-science-final-project/data/df_original_tweets.pkl')\n",
    "#df_no_rt_covid = pd.read_pickle('~/data_bootcamp/data-science-final-project/data/df_original_tweets_covid_mention.pkl')\n",
    "#df_no_rt_no_covid = pd.read_pickle('~/data_bootcamp/data-science-final-project/data/df_original_tweets_no_covid.pkl')"
   ]
  },
  {
   "cell_type": "markdown",
   "metadata": {},
   "source": [
    "## Load Model"
   ]
  },
  {
   "cell_type": "code",
   "execution_count": 9,
   "metadata": {},
   "outputs": [
    {
     "data": {
      "text/plain": [
       "{'classifier': LogisticRegression(C=11.288378916846883, penalty='l1', solver='liblinear'),\n",
       " 'classifier__C': 11.288378916846883,\n",
       " 'classifier__penalty': 'l1',\n",
       " 'classifier__solver': 'liblinear'}"
      ]
     },
     "execution_count": 9,
     "metadata": {},
     "output_type": "execute_result"
    }
   ],
   "source": [
    "lr_model = pickle.load(open('/Users/lclark/data_bootcamp/data-science-final-project/models/LogReg_GridCV_3C_89p_40kfeats.sav', 'rb'))\n",
    "lr_model.best_params_"
   ]
  },
  {
   "cell_type": "markdown",
   "metadata": {},
   "source": [
    "## Classifying Tweets"
   ]
  },
  {
   "cell_type": "markdown",
   "metadata": {},
   "source": [
    "### Logisitic Regression Classification\n",
    "\n",
    "* Given that the full dataset is roughly 25% original tweets versus retweets, analyzing the full dataset may provide us with an indication of whether people tend to retweet positive or negative tweets more frequently"
   ]
  },
  {
   "cell_type": "code",
   "execution_count": 11,
   "metadata": {},
   "outputs": [],
   "source": [
    "df_full['full_text_clean'] = df_full['full_clean'].apply(joiner)"
   ]
  },
  {
   "cell_type": "code",
   "execution_count": 12,
   "metadata": {},
   "outputs": [],
   "source": [
    "vectorizer = TfidfVectorizer(use_idf=True, lowercase=True, ngram_range=(1,2), max_features=40000)\n",
    "\n",
    "X = vectorizer.fit_transform(df_full.full_text_clean)"
   ]
  },
  {
   "cell_type": "code",
   "execution_count": 13,
   "metadata": {},
   "outputs": [],
   "source": [
    "df_full['lr_labels'] = lr_model.predict(X)"
   ]
  },
  {
   "cell_type": "markdown",
   "metadata": {},
   "source": [
    "### VADER"
   ]
  },
  {
   "cell_type": "code",
   "execution_count": 18,
   "metadata": {},
   "outputs": [],
   "source": [
    "df_full['vader_text'] = df_full['full_text'].apply(vader_preprocess)"
   ]
  },
  {
   "cell_type": "code",
   "execution_count": 15,
   "metadata": {},
   "outputs": [
    {
     "data": {
      "text/html": [
       "<div>\n",
       "<style scoped>\n",
       "    .dataframe tbody tr th:only-of-type {\n",
       "        vertical-align: middle;\n",
       "    }\n",
       "\n",
       "    .dataframe tbody tr th {\n",
       "        vertical-align: top;\n",
       "    }\n",
       "\n",
       "    .dataframe thead th {\n",
       "        text-align: right;\n",
       "    }\n",
       "</style>\n",
       "<table border=\"1\" class=\"dataframe\">\n",
       "  <thead>\n",
       "    <tr style=\"text-align: right;\">\n",
       "      <th></th>\n",
       "      <th>created_at</th>\n",
       "      <th>full_text</th>\n",
       "      <th>vader_text</th>\n",
       "      <th>no_hashtags</th>\n",
       "      <th>full_clean</th>\n",
       "      <th>covid_mention</th>\n",
       "      <th>retweet_count</th>\n",
       "      <th>user_name</th>\n",
       "      <th>is_retweet</th>\n",
       "      <th>full_text_clean</th>\n",
       "      <th>lr_labels</th>\n",
       "    </tr>\n",
       "    <tr>\n",
       "      <th>id_str</th>\n",
       "      <th></th>\n",
       "      <th></th>\n",
       "      <th></th>\n",
       "      <th></th>\n",
       "      <th></th>\n",
       "      <th></th>\n",
       "      <th></th>\n",
       "      <th></th>\n",
       "      <th></th>\n",
       "      <th></th>\n",
       "      <th></th>\n",
       "    </tr>\n",
       "  </thead>\n",
       "  <tbody>\n",
       "    <tr>\n",
       "      <th>1294232573636304896</th>\n",
       "      <td>2020-08-14 11:21:05+00:00</td>\n",
       "      <td>Dr. Bonnie Henry is one of the greatest leaders of our time. She has done everything we asked her to do and more. Did we ask her to do the right thing?\\n#bcpoli</td>\n",
       "      <td>Dr. Bonnie Henry is one of the greatest leaders of our time. She has done everything we asked her to do and more. Did we ask her to do the right thing? #bcpoli</td>\n",
       "      <td>[dr, bonnie, henry, one, greatest, leaders, time, done, everything, asked, ask, right, thing]</td>\n",
       "      <td>[dr, bonnie, henry, one, greatest, leaders, time, done, everything, asked, ask, right, thing, bcpoli]</td>\n",
       "      <td>1</td>\n",
       "      <td>0</td>\n",
       "      <td>bcpoli</td>\n",
       "      <td>0</td>\n",
       "      <td>dr bonnie henry one greatest leaders time done everything asked ask right thing bcpoli</td>\n",
       "      <td>4</td>\n",
       "    </tr>\n",
       "  </tbody>\n",
       "</table>\n",
       "</div>"
      ],
      "text/plain": [
       "                                   created_at  \\\n",
       "id_str                                          \n",
       "1294232573636304896 2020-08-14 11:21:05+00:00   \n",
       "\n",
       "                                                                                                                                                                            full_text  \\\n",
       "id_str                                                                                                                                                                                  \n",
       "1294232573636304896  Dr. Bonnie Henry is one of the greatest leaders of our time. She has done everything we asked her to do and more. Did we ask her to do the right thing?\\n#bcpoli   \n",
       "\n",
       "                                                                                                                                                                          vader_text  \\\n",
       "id_str                                                                                                                                                                                 \n",
       "1294232573636304896  Dr. Bonnie Henry is one of the greatest leaders of our time. She has done everything we asked her to do and more. Did we ask her to do the right thing? #bcpoli   \n",
       "\n",
       "                                                                                                       no_hashtags  \\\n",
       "id_str                                                                                                               \n",
       "1294232573636304896  [dr, bonnie, henry, one, greatest, leaders, time, done, everything, asked, ask, right, thing]   \n",
       "\n",
       "                                                                                                                full_clean  \\\n",
       "id_str                                                                                                                       \n",
       "1294232573636304896  [dr, bonnie, henry, one, greatest, leaders, time, done, everything, asked, ask, right, thing, bcpoli]   \n",
       "\n",
       "                     covid_mention  retweet_count user_name  is_retweet  \\\n",
       "id_str                                                                    \n",
       "1294232573636304896              1              0    bcpoli           0   \n",
       "\n",
       "                                                                                            full_text_clean  \\\n",
       "id_str                                                                                                        \n",
       "1294232573636304896  dr bonnie henry one greatest leaders time done everything asked ask right thing bcpoli   \n",
       "\n",
       "                     lr_labels  \n",
       "id_str                          \n",
       "1294232573636304896          4  "
      ]
     },
     "execution_count": 15,
     "metadata": {},
     "output_type": "execute_result"
    }
   ],
   "source": [
    "df_full.head(1)"
   ]
  },
  {
   "cell_type": "code",
   "execution_count": 16,
   "metadata": {},
   "outputs": [
    {
     "name": "stdout",
     "output_type": "stream",
     "text": [
      "CPU times: user 3min 57s, sys: 3.36 s, total: 4min 1s\n",
      "Wall time: 4min 1s\n"
     ]
    },
    {
     "data": {
      "text/html": [
       "<div>\n",
       "<style scoped>\n",
       "    .dataframe tbody tr th:only-of-type {\n",
       "        vertical-align: middle;\n",
       "    }\n",
       "\n",
       "    .dataframe tbody tr th {\n",
       "        vertical-align: top;\n",
       "    }\n",
       "\n",
       "    .dataframe thead th {\n",
       "        text-align: right;\n",
       "    }\n",
       "</style>\n",
       "<table border=\"1\" class=\"dataframe\">\n",
       "  <thead>\n",
       "    <tr style=\"text-align: right;\">\n",
       "      <th></th>\n",
       "      <th>created_at</th>\n",
       "      <th>full_text</th>\n",
       "      <th>vader_text</th>\n",
       "      <th>no_hashtags</th>\n",
       "      <th>full_clean</th>\n",
       "      <th>covid_mention</th>\n",
       "      <th>retweet_count</th>\n",
       "      <th>user_name</th>\n",
       "      <th>is_retweet</th>\n",
       "      <th>full_text_clean</th>\n",
       "      <th>lr_labels</th>\n",
       "      <th>neg</th>\n",
       "      <th>neu</th>\n",
       "      <th>pos</th>\n",
       "      <th>compound</th>\n",
       "      <th>vader_label</th>\n",
       "    </tr>\n",
       "    <tr>\n",
       "      <th>id_str</th>\n",
       "      <th></th>\n",
       "      <th></th>\n",
       "      <th></th>\n",
       "      <th></th>\n",
       "      <th></th>\n",
       "      <th></th>\n",
       "      <th></th>\n",
       "      <th></th>\n",
       "      <th></th>\n",
       "      <th></th>\n",
       "      <th></th>\n",
       "      <th></th>\n",
       "      <th></th>\n",
       "      <th></th>\n",
       "      <th></th>\n",
       "      <th></th>\n",
       "    </tr>\n",
       "  </thead>\n",
       "  <tbody>\n",
       "    <tr>\n",
       "      <th>1294232573636304896</th>\n",
       "      <td>2020-08-14 11:21:05+00:00</td>\n",
       "      <td>Dr. Bonnie Henry is one of the greatest leaders of our time. She has done everything we asked her to do and more. Did we ask her to do the right thing?\\n#bcpoli</td>\n",
       "      <td>Dr. Bonnie Henry is one of the greatest leaders of our time. She has done everything we asked her to do and more. Did we ask her to do the right thing? #bcpoli</td>\n",
       "      <td>[dr, bonnie, henry, one, greatest, leaders, time, done, everything, asked, ask, right, thing]</td>\n",
       "      <td>[dr, bonnie, henry, one, greatest, leaders, time, done, everything, asked, ask, right, thing, bcpoli]</td>\n",
       "      <td>1</td>\n",
       "      <td>0</td>\n",
       "      <td>bcpoli</td>\n",
       "      <td>0</td>\n",
       "      <td>dr bonnie henry one greatest leaders time done everything asked ask right thing bcpoli</td>\n",
       "      <td>4</td>\n",
       "      <td>0.0</td>\n",
       "      <td>0.884</td>\n",
       "      <td>0.116</td>\n",
       "      <td>0.6369</td>\n",
       "      <td>4</td>\n",
       "    </tr>\n",
       "  </tbody>\n",
       "</table>\n",
       "</div>"
      ],
      "text/plain": [
       "                                   created_at  \\\n",
       "id_str                                          \n",
       "1294232573636304896 2020-08-14 11:21:05+00:00   \n",
       "\n",
       "                                                                                                                                                                            full_text  \\\n",
       "id_str                                                                                                                                                                                  \n",
       "1294232573636304896  Dr. Bonnie Henry is one of the greatest leaders of our time. She has done everything we asked her to do and more. Did we ask her to do the right thing?\\n#bcpoli   \n",
       "\n",
       "                                                                                                                                                                          vader_text  \\\n",
       "id_str                                                                                                                                                                                 \n",
       "1294232573636304896  Dr. Bonnie Henry is one of the greatest leaders of our time. She has done everything we asked her to do and more. Did we ask her to do the right thing? #bcpoli   \n",
       "\n",
       "                                                                                                       no_hashtags  \\\n",
       "id_str                                                                                                               \n",
       "1294232573636304896  [dr, bonnie, henry, one, greatest, leaders, time, done, everything, asked, ask, right, thing]   \n",
       "\n",
       "                                                                                                                full_clean  \\\n",
       "id_str                                                                                                                       \n",
       "1294232573636304896  [dr, bonnie, henry, one, greatest, leaders, time, done, everything, asked, ask, right, thing, bcpoli]   \n",
       "\n",
       "                     covid_mention  retweet_count user_name  is_retweet  \\\n",
       "id_str                                                                    \n",
       "1294232573636304896              1              0    bcpoli           0   \n",
       "\n",
       "                                                                                            full_text_clean  \\\n",
       "id_str                                                                                                        \n",
       "1294232573636304896  dr bonnie henry one greatest leaders time done everything asked ask right thing bcpoli   \n",
       "\n",
       "                     lr_labels  neg    neu    pos  compound  vader_label  \n",
       "id_str                                                                    \n",
       "1294232573636304896          4  0.0  0.884  0.116    0.6369            4  "
      ]
     },
     "execution_count": 16,
     "metadata": {},
     "output_type": "execute_result"
    }
   ],
   "source": [
    "%%time\n",
    "\n",
    "df_full['vader_scores'] = df_full['vader_text'].apply(vader_analyze)\n",
    "df_full = df_full.join(df_full['vader_scores'].apply(pd.Series))\n",
    "df_full.drop(columns='vader_scores', inplace=True, axis=1)\n",
    "df_full['vader_label'] = df_full['compound'].apply(lambda x: categorize(x)).astype('int8')"
   ]
  },
  {
   "cell_type": "code",
   "execution_count": 60,
   "metadata": {},
   "outputs": [],
   "source": [
    "df_full[(df_full['vader_label'] == 2) & (df_full['compound'] != -0.0000)][['created_at','full_text','lr_labels','compound','vader_label']].sample(n=10)"
   ]
  },
  {
   "cell_type": "markdown",
   "metadata": {},
   "source": [
    "## Comparing Logisitic Regression Classification with VADER"
   ]
  },
  {
   "cell_type": "code",
   "execution_count": 17,
   "metadata": {},
   "outputs": [
    {
     "data": {
      "text/plain": [
       "2    183533\n",
       "0    118437\n",
       "4     97623\n",
       "Name: lr_labels, dtype: int64"
      ]
     },
     "execution_count": 17,
     "metadata": {},
     "output_type": "execute_result"
    }
   ],
   "source": [
    "# Logisitic Regression Value Counts\n",
    "\n",
    "df_full.lr_labels.value_counts()"
   ]
  },
  {
   "cell_type": "code",
   "execution_count": 19,
   "metadata": {},
   "outputs": [
    {
     "data": {
      "text/plain": [
       "4    198743\n",
       "0    121651\n",
       "2     79199\n",
       "Name: vader_label, dtype: int64"
      ]
     },
     "execution_count": 19,
     "metadata": {},
     "output_type": "execute_result"
    }
   ],
   "source": [
    "# VADER Value Counts with extracted full_text from retweet_status\n",
    "\n",
    "df_full.vader_label.value_counts()"
   ]
  },
  {
   "cell_type": "markdown",
   "metadata": {},
   "source": [
    "## VADER Value Counts before extracting the full_text from the retweet_status\n",
    "\n",
    "If a tweet is a retweet, it will be truncated in the full_text column. You need to extract the full_text from the dictionary in retweet_status \n",
    "\n",
    "4  -  175328\n",
    "\n",
    "0  -  106859\n",
    "\n",
    "2  -  104546"
   ]
  },
  {
   "cell_type": "code",
   "execution_count": 68,
   "metadata": {},
   "outputs": [],
   "source": [
    "def categorize(x, upper = 0.05,lower = -0.05):\n",
    "    \"\"\"\n",
    "    Categorizes tweets into sentiment categories of 0, 2 and 4.\n",
    "    Negative, Netral and Postive, respectively.\n",
    "    0, 2 and 4 were chosen to compare against another model that calssifies this way.\n",
    "    The upper and lower variables are standard thresholds from VADER Sentiment\n",
    "    \"\"\"\n",
    "    if x < lower:\n",
    "        return '0'\n",
    "    elif ((x > (lower+0.0001) and x < upper)):\n",
    "        return '2'\n",
    "    else:\n",
    "        return '4'"
   ]
  }
 ],
 "metadata": {
  "kernelspec": {
   "display_name": "data_bootcamp",
   "language": "python",
   "name": "data_bootcamp"
  },
  "language_info": {
   "codemirror_mode": {
    "name": "ipython",
    "version": 3
   },
   "file_extension": ".py",
   "mimetype": "text/x-python",
   "name": "python",
   "nbconvert_exporter": "python",
   "pygments_lexer": "ipython3",
   "version": "3.7.8"
  }
 },
 "nbformat": 4,
 "nbformat_minor": 4
}
